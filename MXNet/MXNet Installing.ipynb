{
 "cells": [
  {
   "cell_type": "markdown",
   "id": "cf0d5c6a-ce48-4922-875a-8d1eb5fc0535",
   "metadata": {},
   "source": [
    "# **MXNet Installing**"
   ]
  },
  {
   "cell_type": "code",
   "execution_count": 1,
   "id": "3a4803a9-18d2-4510-a00f-baf873375fe7",
   "metadata": {},
   "outputs": [
    {
     "data": {
      "text/plain": [
       "'3.8.12'"
      ]
     },
     "execution_count": 1,
     "metadata": {},
     "output_type": "execute_result"
    }
   ],
   "source": [
    "import platform \n",
    "platform.python_version()"
   ]
  },
  {
   "cell_type": "code",
   "execution_count": 2,
   "id": "44e406b7-b839-4bbc-9707-140aa5289513",
   "metadata": {},
   "outputs": [
    {
     "name": "stdout",
     "output_type": "stream",
     "text": [
      "Selected Jupyter core packages...\n",
      "IPython          : 8.0.1\n",
      "ipykernel        : 6.9.0\n",
      "ipywidgets       : 7.6.5\n",
      "jupyter_client   : 6.1.12\n",
      "jupyter_core     : 4.9.1\n",
      "jupyter_server   : 1.13.5\n",
      "jupyterlab       : 3.2.4\n",
      "nbclient         : 0.5.11\n",
      "nbconvert        : 5.6.1\n",
      "nbformat         : 5.1.3\n",
      "notebook         : 6.4.8\n",
      "qtconsole        : 5.2.2\n",
      "traitlets        : 5.1.1\n"
     ]
    }
   ],
   "source": [
    "!jupyter --version"
   ]
  },
  {
   "cell_type": "code",
   "execution_count": 3,
   "id": "72c988d3-a081-4321-b2d3-3dff697c80b3",
   "metadata": {},
   "outputs": [
    {
     "name": "stdout",
     "output_type": "stream",
     "text": [
      "Model name:                      Intel(R) Xeon(R) Gold 6140 CPU @ 2.30GHz\n"
     ]
    }
   ],
   "source": [
    "!lscpu | grep 'Model name'"
   ]
  },
  {
   "cell_type": "code",
   "execution_count": 5,
   "id": "4d9856c2-7355-4894-b7ce-a6adf41fcb7a",
   "metadata": {},
   "outputs": [
    {
     "name": "stdout",
     "output_type": "stream",
     "text": [
      "Collecting mxnet-cu110\n",
      "  Downloading mxnet_cu110-1.9.0-py3-none-manylinux2014_x86_64.whl (325.4 MB)\n",
      "\u001b[K     |████████████████████████████████| 325.4 MB 5.7 kB/s  eta 0:00:01   |▎                               | 2.9 MB 28.7 MB/s eta 0:00:121111 MB 28.7 MB/s eta 0:00:11 |████▊                           | 48.2 MB 28.7 MB/s eta 0:00:10ta 0:00:15:15:00:155                | 74.0 MB 17.9 MB/s eta 0:00:15                | 79.0 MB 17.9 MB/s eta 0:00:14K     |████████▍                       | 85.5 MB 17.9 MB/s eta 0:00:1414             | 95.0 MB 17.9 MB/s eta 0:00:13[K     |█████████▋                      | 97.4 MB 17.9 MB/s eta 0:00:13��███▉                      | 100.2 MB 17.9 MB/s eta 0:00:13██                    | 122.0 MB 18.8 MB/s eta 0:00:118.8 MB/s eta 0:00:11     |█████████████▌                  | 137.1 MB 18.8 MB/s eta 0:00:11        | 139.1 MB 18.8 MB/s eta 0:00:10�█████████▏                 | 144.5 MB 18.8 MB/s eta 0:00:106.8 MB/s eta 0:00:03�               | 168.5 MB 76.8 MB/s eta 0:00:03▎             | 185.5 MB 76.8 MB/s eta 0:00:02��█▏            | 195.1 MB 76.8 MB/s eta 0:00:02██████████████▋           | 209.6 MB 17.5 MB/s eta 0:00:07 eta 0:00:07:00:07████████████▋         | 229.9 MB 17.5 MB/s eta 0:00:06�██████████▊        | 241.8 MB 17.5 MB/s eta 0:00:05�███████████        | 244.8 MB 17.5 MB/s eta 0:00:05██████████████████████▍       | 247.8 MB 17.5 MB/s eta 0:00:05��█████       | 255.2 MB 70.8 MB/s eta 0:00:01�██▍      | 258.5 MB 70.8 MB/s eta 0:00:01| 261.3 MB 70.8 MB/s eta 0:00:01277.1 MB 70.8 MB/s eta 0:00:010.8 MB/s eta 0:00:01██████████████████▏   | 286.2 MB 70.8 MB/s eta 0:00:01 0:00:01��████████████████████████▉   | 293.1 MB 70.8 MB/s eta 0:00:01��████████  | 305.9 MB 79.1 MB/s eta 0:00:01��██████████▎ | 307.7 MB 79.1 MB/s eta 0:00:01     |██████████████████████████████▌ | 309.8 MB 79.1 MB/s eta 0:00:01████████████████████████▋ | 311.7 MB 79.1 MB/s eta 0:00:01��███████████████ | 315.1 MB 79.1 MB/s eta 0:00:01 0:00:01ta 0:00:01ta 0:00:01\n",
      "\u001b[?25hRequirement already satisfied: numpy<2.0.0,>1.16.0 in /opt/conda/lib/python3.8/site-packages (from mxnet-cu110) (1.22.2)\n",
      "Collecting graphviz<0.9.0,>=0.8.1\n",
      "  Downloading graphviz-0.8.4-py2.py3-none-any.whl (16 kB)\n",
      "Requirement already satisfied: requests<3,>=2.20.0 in /opt/conda/lib/python3.8/site-packages (from mxnet-cu110) (2.27.1)\n",
      "Requirement already satisfied: urllib3<1.27,>=1.21.1 in /opt/conda/lib/python3.8/site-packages (from requests<3,>=2.20.0->mxnet-cu110) (1.26.8)\n",
      "Requirement already satisfied: idna<4,>=2.5 in /opt/conda/lib/python3.8/site-packages (from requests<3,>=2.20.0->mxnet-cu110) (3.3)\n",
      "Requirement already satisfied: certifi>=2017.4.17 in /opt/conda/lib/python3.8/site-packages (from requests<3,>=2.20.0->mxnet-cu110) (2021.10.8)\n",
      "Requirement already satisfied: charset-normalizer~=2.0.0 in /opt/conda/lib/python3.8/site-packages (from requests<3,>=2.20.0->mxnet-cu110) (2.0.12)\n",
      "\u001b[33mWARNING: Error parsing requirements for attrs: [Errno 2] No such file or directory: '/opt/conda/lib/python3.8/site-packages/attrs-21.4.0.dist-info/METADATA'\u001b[0m\n",
      "Installing collected packages: graphviz, mxnet-cu110\n",
      "  Attempting uninstall: graphviz\n",
      "    Found existing installation: graphviz 0.19.1\n",
      "    Uninstalling graphviz-0.19.1:\n",
      "      Successfully uninstalled graphviz-0.19.1\n",
      "Successfully installed graphviz-0.8.4 mxnet-cu110-1.9.0\n"
     ]
    }
   ],
   "source": [
    "!python3 -m pip install mxnet-cu110"
   ]
  },
  {
   "cell_type": "code",
   "execution_count": 10,
   "id": "c18234ed-4819-4450-b1a9-5c2a18159f33",
   "metadata": {},
   "outputs": [
    {
     "name": "stdout",
     "output_type": "stream",
     "text": [
      "Collecting mxnet\n",
      "  Downloading mxnet-1.9.0-py3-none-manylinux2014_x86_64.whl (47.3 MB)\n",
      "\u001b[K     |████████████████████████████████| 47.3 MB 16 kB/s s eta 0:00:01 MB 13.4 MB/s eta 0:00:04�████████                     | 16.4 MB 13.4 MB/s eta 0:00:03eta 0:00:02 MB/s eta 0:00:01\n",
      "\u001b[?25hRequirement already satisfied: graphviz<0.9.0,>=0.8.1 in /opt/conda/lib/python3.8/site-packages (from mxnet) (0.8.4)\n",
      "Requirement already satisfied: numpy<2.0.0,>1.16.0 in /opt/conda/lib/python3.8/site-packages (from mxnet) (1.22.2)\n",
      "Requirement already satisfied: requests<3,>=2.20.0 in /opt/conda/lib/python3.8/site-packages (from mxnet) (2.27.1)\n",
      "Requirement already satisfied: charset-normalizer~=2.0.0 in /opt/conda/lib/python3.8/site-packages (from requests<3,>=2.20.0->mxnet) (2.0.12)\n",
      "Requirement already satisfied: urllib3<1.27,>=1.21.1 in /opt/conda/lib/python3.8/site-packages (from requests<3,>=2.20.0->mxnet) (1.26.8)\n",
      "Requirement already satisfied: certifi>=2017.4.17 in /opt/conda/lib/python3.8/site-packages (from requests<3,>=2.20.0->mxnet) (2021.10.8)\n",
      "Requirement already satisfied: idna<4,>=2.5 in /opt/conda/lib/python3.8/site-packages (from requests<3,>=2.20.0->mxnet) (3.3)\n",
      "\u001b[33mWARNING: Error parsing requirements for attrs: [Errno 2] No such file or directory: '/opt/conda/lib/python3.8/site-packages/attrs-21.4.0.dist-info/METADATA'\u001b[0m\n",
      "Installing collected packages: mxnet\n",
      "Successfully installed mxnet-1.9.0\n",
      "Note: you may need to restart the kernel to use updated packages.\n"
     ]
    }
   ],
   "source": [
    "pip install mxnet"
   ]
  },
  {
   "cell_type": "code",
   "execution_count": 11,
   "id": "f902d08e-43ec-48d1-bdf1-a44bab780a24",
   "metadata": {},
   "outputs": [
    {
     "name": "stderr",
     "output_type": "stream",
     "text": [
      "<frozen importlib._bootstrap>:219: RuntimeWarning: scipy._lib.messagestream.MessageStream size changed, may indicate binary incompatibility. Expected 56 from C header, got 64 from PyObject\n"
     ]
    },
    {
     "data": {
      "text/plain": [
       "'1.9.0'"
      ]
     },
     "execution_count": 11,
     "metadata": {},
     "output_type": "execute_result"
    }
   ],
   "source": [
    "import mxnet\n",
    "mxnet.__version__"
   ]
  },
  {
   "cell_type": "code",
   "execution_count": 12,
   "id": "e606915d-5b9e-4393-bb58-0dc6f6638f85",
   "metadata": {},
   "outputs": [
    {
     "name": "stdout",
     "output_type": "stream",
     "text": [
      "[✖ CUDA, ✖ CUDNN, ✖ NCCL, ✖ CUDA_RTC, ✖ TENSORRT, ✔ CPU_SSE, ✔ CPU_SSE2, ✔ CPU_SSE3, ✖ CPU_SSE4_1, ✖ CPU_SSE4_2, ✖ CPU_SSE4A, ✖ CPU_AVX, ✖ CPU_AVX2, ✔ OPENMP, ✖ SSE, ✖ F16C, ✖ JEMALLOC, ✔ BLAS_OPEN, ✖ BLAS_ATLAS, ✖ BLAS_MKL, ✖ BLAS_APPLE, ✔ LAPACK, ✔ MKLDNN, ✔ OPENCV, ✖ CAFFE, ✖ PROFILER, ✔ DIST_KVSTORE, ✖ CXX14, ✖ INT64_TENSOR_SIZE, ✔ SIGNAL_HANDLER, ✖ DEBUG, ✖ TVM_OP]\n",
      "False\n",
      "False\n",
      "True\n"
     ]
    }
   ],
   "source": [
    "features = mxnet.runtime.Features()\n",
    "print(features)\n",
    "print(features.is_enabled('CUDA'))\n",
    "print(features.is_enabled('CUDNN'))\n",
    "print(features.is_enabled('MKLDNN'))"
   ]
  },
  {
   "cell_type": "code",
   "execution_count": 13,
   "id": "0cd8d495-0859-47c1-a85b-4ae4e7bc286e",
   "metadata": {},
   "outputs": [],
   "source": [
    "from mxnet import np, npx\n",
    "npx.set_np()"
   ]
  },
  {
   "cell_type": "code",
   "execution_count": 14,
   "id": "7252d117-68cb-4755-86ac-d474f3954bfc",
   "metadata": {},
   "outputs": [
    {
     "data": {
      "text/plain": [
       "\n",
       "1.0\n",
       "<NDArray  @cpu(0)>"
      ]
     },
     "execution_count": 14,
     "metadata": {},
     "output_type": "execute_result"
    }
   ],
   "source": [
    "mxnet.nd.ones(shape=())"
   ]
  },
  {
   "cell_type": "code",
   "execution_count": 15,
   "id": "8e1dbe0f-541d-45b7-96e7-2e97310ea926",
   "metadata": {},
   "outputs": [
    {
     "name": "stdout",
     "output_type": "stream",
     "text": [
      "Collecting gluoncv\n",
      "  Downloading gluoncv-0.10.4.post4-py2.py3-none-any.whl (1.3 MB)\n",
      "\u001b[K     |████████████████████████████████| 1.3 MB 14.7 MB/s eta 0:00:01\n",
      "\u001b[?25hCollecting gluonnlp\n",
      "  Downloading gluonnlp-0.10.0.tar.gz (344 kB)\n",
      "\u001b[K     |████████████████████████████████| 344 kB 12.7 MB/s eta 0:00:01\n",
      "\u001b[?25hRequirement already satisfied: requests in /opt/conda/lib/python3.8/site-packages (from gluoncv) (2.27.1)\n",
      "Requirement already satisfied: Pillow in /opt/conda/lib/python3.8/site-packages (from gluoncv) (9.0.1)\n",
      "Requirement already satisfied: pyyaml in /opt/conda/lib/python3.8/site-packages (from gluoncv) (6.0)\n",
      "Requirement already satisfied: numpy in /opt/conda/lib/python3.8/site-packages (from gluoncv) (1.22.2)\n",
      "Collecting portalocker\n",
      "  Downloading portalocker-2.4.0-py2.py3-none-any.whl (16 kB)\n",
      "Collecting opencv-python\n",
      "  Downloading opencv_python-4.5.5.62-cp36-abi3-manylinux_2_17_x86_64.manylinux2014_x86_64.whl (60.4 MB)\n",
      "\u001b[K     |████████████████████████████████| 60.4 MB 7.0 kB/s  eta 0:00:01286 kB 37.4 MB/s eta 0:00:024.3 MB 37.4 MB/s eta 0:00:02      | 21.4 MB 37.4 MB/s eta 0:00:02            | 28.9 MB 37.4 MB/s eta 0:00:01  | 31.4 MB 37.4 MB/s eta 0:00:01[K     |██████████████████▌             | 34.9 MB 37.4 MB/s eta 0:00:01�████████████▎          | 40.1 MB 37.4 MB/s eta 0:00:01██████████████████████▏         | 41.8 MB 37.4 MB/s eta 0:00:01████████▉   | 54.5 MB 36.1 MB/s eta 0:00:01�███████████████████████  | 56.8 MB 36.1 MB/s eta 0:00:01\n",
      "\u001b[?25hRequirement already satisfied: matplotlib in /opt/conda/lib/python3.8/site-packages (from gluoncv) (3.5.1)\n",
      "Collecting yacs\n",
      "  Downloading yacs-0.1.8-py3-none-any.whl (14 kB)\n",
      "Collecting autocfg\n",
      "  Downloading autocfg-0.0.8-py3-none-any.whl (13 kB)\n",
      "Requirement already satisfied: tqdm in /opt/conda/lib/python3.8/site-packages (from gluoncv) (4.62.3)\n",
      "Requirement already satisfied: scipy in /opt/conda/lib/python3.8/site-packages (from gluoncv) (1.8.0)\n",
      "Requirement already satisfied: pandas in /opt/conda/lib/python3.8/site-packages (from gluoncv) (1.3.5)\n",
      "Requirement already satisfied: cython in /opt/conda/lib/python3.8/site-packages (from gluonnlp) (0.29.27)\n",
      "Requirement already satisfied: packaging in /opt/conda/lib/python3.8/site-packages (from gluonnlp) (21.3)\n",
      "Requirement already satisfied: pyparsing>=2.2.1 in /opt/conda/lib/python3.8/site-packages (from matplotlib->gluoncv) (2.4.7)\n",
      "Requirement already satisfied: python-dateutil>=2.7 in /opt/conda/lib/python3.8/site-packages (from matplotlib->gluoncv) (2.8.2)\n",
      "Requirement already satisfied: fonttools>=4.22.0 in /opt/conda/lib/python3.8/site-packages (from matplotlib->gluoncv) (4.29.1)\n",
      "Requirement already satisfied: kiwisolver>=1.0.1 in /opt/conda/lib/python3.8/site-packages (from matplotlib->gluoncv) (1.3.2)\n",
      "Requirement already satisfied: cycler>=0.10 in /opt/conda/lib/python3.8/site-packages (from matplotlib->gluoncv) (0.11.0)\n",
      "Requirement already satisfied: six>=1.5 in /opt/conda/lib/python3.8/site-packages (from python-dateutil>=2.7->matplotlib->gluoncv) (1.16.0)\n",
      "Requirement already satisfied: pytz>=2017.3 in /opt/conda/lib/python3.8/site-packages (from pandas->gluoncv) (2021.3)\n",
      "Requirement already satisfied: certifi>=2017.4.17 in /opt/conda/lib/python3.8/site-packages (from requests->gluoncv) (2021.10.8)\n",
      "Requirement already satisfied: urllib3<1.27,>=1.21.1 in /opt/conda/lib/python3.8/site-packages (from requests->gluoncv) (1.26.8)\n",
      "Requirement already satisfied: idna<4,>=2.5 in /opt/conda/lib/python3.8/site-packages (from requests->gluoncv) (3.3)\n",
      "Requirement already satisfied: charset-normalizer~=2.0.0 in /opt/conda/lib/python3.8/site-packages (from requests->gluoncv) (2.0.12)\n",
      "Building wheels for collected packages: gluonnlp\n",
      "  Building wheel for gluonnlp (setup.py) ... \u001b[?25ldone\n",
      "\u001b[?25h  Created wheel for gluonnlp: filename=gluonnlp-0.10.0-cp38-cp38-linux_x86_64.whl size=688381 sha256=37949a33ac603e7c9b3042fb9c9e9055f161707b93a1a58dc4c1da847c2e54a4\n",
      "  Stored in directory: /home/jovyan/.cache/pip/wheels/b6/93/9d/2237550c409eb3ed725d6302b7897ddd9a037b40cef66dcd9c\n",
      "Successfully built gluonnlp\n",
      "\u001b[33mWARNING: Error parsing requirements for attrs: [Errno 2] No such file or directory: '/opt/conda/lib/python3.8/site-packages/attrs-21.4.0.dist-info/METADATA'\u001b[0m\n",
      "Installing collected packages: yacs, portalocker, opencv-python, autocfg, gluonnlp, gluoncv\n",
      "Successfully installed autocfg-0.0.8 gluoncv-0.10.4.post4 gluonnlp-0.10.0 opencv-python-4.5.5.62 portalocker-2.4.0 yacs-0.1.8\n"
     ]
    }
   ],
   "source": [
    "!python3 -m pip install gluoncv gluonnlp"
   ]
  }
 ],
 "metadata": {
  "kernelspec": {
   "display_name": "Qiskit v0.34.2 (ipykernel)",
   "language": "python",
   "name": "python3"
  },
  "language_info": {
   "codemirror_mode": {
    "name": "ipython",
    "version": 3
   },
   "file_extension": ".py",
   "mimetype": "text/x-python",
   "name": "python",
   "nbconvert_exporter": "python",
   "pygments_lexer": "ipython3",
   "version": "3.8.12"
  },
  "widgets": {
   "application/vnd.jupyter.widget-state+json": {
    "state": {},
    "version_major": 2,
    "version_minor": 0
   }
  }
 },
 "nbformat": 4,
 "nbformat_minor": 5
}
