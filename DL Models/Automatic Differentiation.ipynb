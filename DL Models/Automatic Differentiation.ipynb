{
 "cells": [
  {
   "cell_type": "markdown",
   "id": "f1faf2e1-b4ae-4ad3-9191-78737640eb6b",
   "metadata": {},
   "source": [
    "# **Automatic Differentiation**"
   ]
  },
  {
   "cell_type": "markdown",
   "id": "d45772c4-a4f9-46f7-8150-842f1ec24bcb",
   "metadata": {},
   "source": [
    "## **Implementing autograd in PyTorch**"
   ]
  },
  {
   "cell_type": "markdown",
   "id": "943a69c4-e654-4708-ab02-efb3532d6904",
   "metadata": {},
   "source": [
    "### **Import required libraries**"
   ]
  },
  {
   "cell_type": "code",
   "execution_count": 1,
   "id": "bf3f6ac4-e8a9-4a73-9321-0925df94f260",
   "metadata": {},
   "outputs": [],
   "source": [
    "import torch"
   ]
  },
  {
   "cell_type": "markdown",
   "id": "c5ae6769-970f-45d5-891f-8d1f54c1c32d",
   "metadata": {},
   "source": [
    "### **Define Tensors**"
   ]
  },
  {
   "cell_type": "code",
   "execution_count": 2,
   "id": "02e2299d-e764-4154-aaec-601448f089e3",
   "metadata": {},
   "outputs": [],
   "source": [
    "x = torch.Tensor([1])\n",
    "y = torch.Tensor([-2])\n",
    "z= torch.Tensor([3])"
   ]
  },
  {
   "cell_type": "code",
   "execution_count": 3,
   "id": "b48a10b4-141a-4590-9356-152a589386c6",
   "metadata": {},
   "outputs": [
    {
     "name": "stdout",
     "output_type": "stream",
     "text": [
      "Default value for requires_grad for x: False\n"
     ]
    }
   ],
   "source": [
    "print(\"Default value for requires_grad for x:\",x.requires_grad)"
   ]
  },
  {
   "cell_type": "markdown",
   "id": "c6dc3d5e-aaad-4843-872d-cb89457f0c18",
   "metadata": {},
   "source": [
    "### **Set the keyword requires_grad as True (default is False)**"
   ]
  },
  {
   "cell_type": "code",
   "execution_count": 4,
   "id": "1f5b534f-a01e-485c-92ca-6505cea813b8",
   "metadata": {},
   "outputs": [
    {
     "name": "stdout",
     "output_type": "stream",
     "text": [
      "Updated  value for requires_grad for x: True\n"
     ]
    }
   ],
   "source": [
    "x.requires_grad=True\n",
    "y.requires_grad=True\n",
    "z.requires_grad=True\n",
    "\n",
    "print(\"Updated  value for requires_grad for x:\",x.requires_grad)"
   ]
  },
  {
   "cell_type": "markdown",
   "id": "f9580055-f8ea-4280-8dd0-8431b031d37a",
   "metadata": {},
   "source": [
    "### **Compute a**"
   ]
  },
  {
   "cell_type": "code",
   "execution_count": 5,
   "id": "42e15d2a-f3bb-44a9-80c9-da65e50281f1",
   "metadata": {},
   "outputs": [],
   "source": [
    "a = x + y"
   ]
  },
  {
   "cell_type": "markdown",
   "id": "3f6bf166-4edc-4ae2-baf3-21aafb01b296",
   "metadata": {},
   "source": [
    "### **Finally define the function f**"
   ]
  },
  {
   "cell_type": "code",
   "execution_count": 6,
   "id": "6d806c94-0023-4753-a013-e63f276568a9",
   "metadata": {},
   "outputs": [],
   "source": [
    "f = z * a"
   ]
  },
  {
   "cell_type": "code",
   "execution_count": 7,
   "id": "06b87b56-7305-4e89-a088-102f9c4ef178",
   "metadata": {},
   "outputs": [
    {
     "name": "stdout",
     "output_type": "stream",
     "text": [
      "Final value for Function f =  tensor([-3.], grad_fn=<MulBackward0>)\n"
     ]
    }
   ],
   "source": [
    "print(\"Final value for Function f = \",f)"
   ]
  },
  {
   "cell_type": "markdown",
   "id": "6eaae918-dbaa-4fca-94b8-ee64ee04be61",
   "metadata": {},
   "source": [
    "### **Compute gradients**"
   ]
  },
  {
   "cell_type": "code",
   "execution_count": 8,
   "id": "a40fbd23-f18b-4bca-9a68-c3adc4186740",
   "metadata": {},
   "outputs": [],
   "source": [
    "f.backward()"
   ]
  },
  {
   "cell_type": "markdown",
   "id": "57f6df6f-8ec9-43a1-99e8-90820ba2c376",
   "metadata": {},
   "source": [
    "### **Print the gradient value**"
   ]
  },
  {
   "cell_type": "code",
   "execution_count": 9,
   "id": "3cb3570b-20a7-42ee-9471-8fb79f60b274",
   "metadata": {},
   "outputs": [
    {
     "name": "stdout",
     "output_type": "stream",
     "text": [
      "Gradient value for x: tensor([3.])\n",
      "Gradient value for y: tensor([3.])\n",
      "Gradient value for z: tensor([-1.])\n"
     ]
    }
   ],
   "source": [
    "print(\"Gradient value for x:\",x.grad)\n",
    "print(\"Gradient value for y:\",y.grad)\n",
    "print(\"Gradient value for z:\",z.grad)"
   ]
  }
 ],
 "metadata": {
  "kernelspec": {
   "display_name": "Qiskit v0.34.2 (ipykernel)",
   "language": "python",
   "name": "python3"
  },
  "language_info": {
   "codemirror_mode": {
    "name": "ipython",
    "version": 3
   },
   "file_extension": ".py",
   "mimetype": "text/x-python",
   "name": "python",
   "nbconvert_exporter": "python",
   "pygments_lexer": "ipython3",
   "version": "3.8.12"
  },
  "widgets": {
   "application/vnd.jupyter.widget-state+json": {
    "state": {},
    "version_major": 2,
    "version_minor": 0
   }
  }
 },
 "nbformat": 4,
 "nbformat_minor": 5
}
