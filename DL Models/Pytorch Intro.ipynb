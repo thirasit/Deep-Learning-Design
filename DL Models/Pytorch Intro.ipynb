{
 "cells": [
  {
   "cell_type": "markdown",
   "id": "990a5b26-6887-46d9-8017-8126eaef789d",
   "metadata": {},
   "source": [
    "# **Tensor Operations (Pytorch)**"
   ]
  },
  {
   "cell_type": "markdown",
   "id": "8d9043eb-7ce5-4421-9dde-6ea2a5b56973",
   "metadata": {},
   "source": [
    "## **Creating a 2 dimensional vector**"
   ]
  },
  {
   "cell_type": "code",
   "execution_count": 1,
   "id": "4c9862dd-4bb2-4142-8b4e-369cffdfcefd",
   "metadata": {},
   "outputs": [
    {
     "data": {
      "text/plain": [
       "tensor([[0.1000, 0.2000],\n",
       "        [0.3000, 0.4000]])"
      ]
     },
     "execution_count": 1,
     "metadata": {},
     "output_type": "execute_result"
    }
   ],
   "source": [
    "import torch\n",
    "import numpy\n",
    "torch.tensor([[0.1, 0.2],[0.3, 0.4]])"
   ]
  },
  {
   "cell_type": "markdown",
   "id": "b71588a4-dc02-4313-88b2-0fc7f89ffe93",
   "metadata": {},
   "source": [
    "## **Shape of a tensor**"
   ]
  },
  {
   "cell_type": "code",
   "execution_count": 2,
   "id": "889a7a44-7542-4f3a-b8ba-1c28429735fc",
   "metadata": {},
   "outputs": [
    {
     "data": {
      "text/plain": [
       "torch.Size([2, 2])"
      ]
     },
     "execution_count": 2,
     "metadata": {},
     "output_type": "execute_result"
    }
   ],
   "source": [
    "a = torch.tensor([[0.1, 0.2],[0.3, 0.4]])\n",
    "a.shape"
   ]
  },
  {
   "cell_type": "code",
   "execution_count": 3,
   "id": "a70082cb-c583-461a-82a9-96a7a443d82c",
   "metadata": {},
   "outputs": [
    {
     "data": {
      "text/plain": [
       "tensor([[0.1000, 0.2000],\n",
       "        [0.3000, 0.4000]])"
      ]
     },
     "execution_count": 3,
     "metadata": {},
     "output_type": "execute_result"
    }
   ],
   "source": [
    "a"
   ]
  },
  {
   "cell_type": "markdown",
   "id": "d5ef9d7d-1613-4205-8ad2-6cf7b1a831e0",
   "metadata": {},
   "source": [
    "## **Shape of a tensor (continued)**"
   ]
  },
  {
   "cell_type": "code",
   "execution_count": 4,
   "id": "650419bc-86e2-46f5-b9f1-9000c332525d",
   "metadata": {},
   "outputs": [
    {
     "data": {
      "text/plain": [
       "tensor([[0.1000, 0.2000],\n",
       "        [0.3000, 0.4000],\n",
       "        [0.5000, 0.6000]])"
      ]
     },
     "execution_count": 4,
     "metadata": {},
     "output_type": "execute_result"
    }
   ],
   "source": [
    "b = torch.tensor([[0.1, 0.2],[0.3, 0.4],[0.5, 0.6]])\n",
    "\n",
    "b"
   ]
  },
  {
   "cell_type": "code",
   "execution_count": 5,
   "id": "0fcb38b9-0c32-4a31-a81d-2019dc5180f9",
   "metadata": {},
   "outputs": [
    {
     "data": {
      "text/plain": [
       "torch.Size([3, 2])"
      ]
     },
     "execution_count": 5,
     "metadata": {},
     "output_type": "execute_result"
    }
   ],
   "source": [
    "b.shape"
   ]
  },
  {
   "cell_type": "markdown",
   "id": "207e7188-33bc-4b76-a359-d35de093d8fb",
   "metadata": {},
   "source": [
    "## **Creating tensors with arbitary dimensions**"
   ]
  },
  {
   "cell_type": "code",
   "execution_count": 6,
   "id": "2cf2746d-e261-45a3-a5bc-33e367dc0eb8",
   "metadata": {},
   "outputs": [
    {
     "data": {
      "text/plain": [
       "torch.Size([2, 2, 1])"
      ]
     },
     "execution_count": 6,
     "metadata": {},
     "output_type": "execute_result"
    }
   ],
   "source": [
    "c = torch.tensor([[[0.1],[0.2]],[[0.3],[0.4]]])\n",
    "\n",
    "c.shape"
   ]
  },
  {
   "cell_type": "code",
   "execution_count": 7,
   "id": "a73badcf-6e76-45a0-be19-9bd37a49059d",
   "metadata": {},
   "outputs": [
    {
     "data": {
      "text/plain": [
       "tensor([[[0.1000],\n",
       "         [0.2000]],\n",
       "\n",
       "        [[0.3000],\n",
       "         [0.4000]]])"
      ]
     },
     "execution_count": 7,
     "metadata": {},
     "output_type": "execute_result"
    }
   ],
   "source": [
    "c"
   ]
  },
  {
   "cell_type": "markdown",
   "id": "c8c069ff-9fea-486d-b51d-d95bd12bf8a5",
   "metadata": {},
   "source": [
    "## **Tensors with Numpy**"
   ]
  },
  {
   "cell_type": "code",
   "execution_count": 8,
   "id": "395bec79-b744-40d0-b82d-cabd60fb73a9",
   "metadata": {},
   "outputs": [
    {
     "data": {
      "text/plain": [
       "tensor([[0.1000, 0.2000],\n",
       "        [0.3000, 0.4000]], dtype=torch.float64)"
      ]
     },
     "execution_count": 8,
     "metadata": {},
     "output_type": "execute_result"
    }
   ],
   "source": [
    "a = torch.tensor(numpy.array([[0.1, 0.2],[0.3, 0.4]]))\n",
    "\n",
    "a"
   ]
  },
  {
   "cell_type": "code",
   "execution_count": 9,
   "id": "447891dd-0e53-4198-bfdb-e9ead36b420c",
   "metadata": {},
   "outputs": [
    {
     "data": {
      "text/plain": [
       "torch.Size([2, 2])"
      ]
     },
     "execution_count": 9,
     "metadata": {},
     "output_type": "execute_result"
    }
   ],
   "source": [
    "a.shape"
   ]
  },
  {
   "cell_type": "markdown",
   "id": "62413ec1-682f-4570-a848-22ff119d9abc",
   "metadata": {},
   "source": [
    "## **Tensors from Numpy**"
   ]
  },
  {
   "cell_type": "code",
   "execution_count": 10,
   "id": "71d7737d-6d23-4650-8899-7ac581e024f1",
   "metadata": {},
   "outputs": [
    {
     "data": {
      "text/plain": [
       "tensor([1, 2, 3, 4, 5])"
      ]
     },
     "execution_count": 10,
     "metadata": {},
     "output_type": "execute_result"
    }
   ],
   "source": [
    "import numpy as np\n",
    "a = np.array([1, 2, 3, 4, 5])\n",
    "tensor_a = torch.from_numpy(a)\n",
    "tensor_a"
   ]
  },
  {
   "cell_type": "markdown",
   "id": "40b79f6a-6b37-4686-bc7e-06b06aa3cf84",
   "metadata": {},
   "source": [
    "## **Defining tensor datatypes**"
   ]
  },
  {
   "cell_type": "code",
   "execution_count": 11,
   "id": "a39a7dbc-7e95-4fae-8a0b-bb1b865d4813",
   "metadata": {},
   "outputs": [
    {
     "data": {
      "text/plain": [
       "tensor([[0.1000, 0.2000],\n",
       "        [0.3000, 0.4000]])"
      ]
     },
     "execution_count": 11,
     "metadata": {},
     "output_type": "execute_result"
    }
   ],
   "source": [
    "a = torch.tensor([[0.1, 0.2],[0.3, 0.4]], dtype=torch.float32)\n",
    "a"
   ]
  },
  {
   "cell_type": "code",
   "execution_count": 12,
   "id": "f6ceada4-1b60-4572-9d82-ac5c5e944a9a",
   "metadata": {},
   "outputs": [
    {
     "data": {
      "text/plain": [
       "tensor([[0.1000, 0.2000],\n",
       "        [0.3000, 0.4000]], dtype=torch.float64)"
      ]
     },
     "execution_count": 12,
     "metadata": {},
     "output_type": "execute_result"
    }
   ],
   "source": [
    "a = torch.tensor([[0.1, 0.2],[0.3, 0.4]], dtype=torch.float64)    \n",
    "a"
   ]
  },
  {
   "cell_type": "code",
   "execution_count": 13,
   "id": "29d5d25e-169c-4408-9030-615dfe278d0a",
   "metadata": {},
   "outputs": [
    {
     "data": {
      "text/plain": [
       "tensor([[0.1000, 0.2000],\n",
       "        [0.3000, 0.3999]], dtype=torch.float16)"
      ]
     },
     "execution_count": 13,
     "metadata": {},
     "output_type": "execute_result"
    }
   ],
   "source": [
    "a = torch.tensor([[0.1, 0.2],[0.3, 0.4]], dtype=torch.float16)     \n",
    "a"
   ]
  },
  {
   "cell_type": "markdown",
   "id": "90265626-f803-470d-bd16-c74a39aea1a7",
   "metadata": {},
   "source": [
    "## **Constructing tensors with random values**"
   ]
  },
  {
   "cell_type": "code",
   "execution_count": 14,
   "id": "591da573-82cd-40eb-8e34-23d7a7bd710a",
   "metadata": {},
   "outputs": [
    {
     "data": {
      "text/plain": [
       "tensor([[[0.7020, 0.0946],\n",
       "         [0.9031, 0.4632]],\n",
       "\n",
       "        [[0.7060, 0.4203],\n",
       "         [0.8546, 0.9928]]])"
      ]
     },
     "execution_count": 14,
     "metadata": {},
     "output_type": "execute_result"
    }
   ],
   "source": [
    "r = torch.rand(2,2,2)\n",
    "r"
   ]
  },
  {
   "cell_type": "code",
   "execution_count": 15,
   "id": "456480e8-c52a-48bc-912e-c9a745105952",
   "metadata": {},
   "outputs": [
    {
     "data": {
      "text/plain": [
       "torch.Size([2, 2, 2])"
      ]
     },
     "execution_count": 15,
     "metadata": {},
     "output_type": "execute_result"
    }
   ],
   "source": [
    "r.shape"
   ]
  },
  {
   "cell_type": "markdown",
   "id": "9f5195f7-2820-4139-85b7-5dbffdcb390b",
   "metadata": {},
   "source": [
    "## **Tensors with zeros**"
   ]
  },
  {
   "cell_type": "code",
   "execution_count": 16,
   "id": "a7330a10-a3d1-4cda-928a-2839ad7308b1",
   "metadata": {},
   "outputs": [
    {
     "data": {
      "text/plain": [
       "tensor([[[0., 0., 0.],\n",
       "         [0., 0., 0.]],\n",
       "\n",
       "        [[0., 0., 0.],\n",
       "         [0., 0., 0.]]])"
      ]
     },
     "execution_count": 16,
     "metadata": {},
     "output_type": "execute_result"
    }
   ],
   "source": [
    "zeros = torch.zeros(2,2,3)\n",
    "zeros"
   ]
  },
  {
   "cell_type": "code",
   "execution_count": 17,
   "id": "459bea29-f49c-4a31-9642-c01b5e2940f5",
   "metadata": {},
   "outputs": [
    {
     "data": {
      "text/plain": [
       "torch.Size([2, 2, 3])"
      ]
     },
     "execution_count": 17,
     "metadata": {},
     "output_type": "execute_result"
    }
   ],
   "source": [
    "zeros.shape"
   ]
  },
  {
   "cell_type": "markdown",
   "id": "54005b31-b5da-4a7b-8ee6-824129e80e9b",
   "metadata": {},
   "source": [
    "## **Tensors of ones**"
   ]
  },
  {
   "cell_type": "code",
   "execution_count": 18,
   "id": "7729ca35-d0a4-4e66-b612-5af022de3e09",
   "metadata": {},
   "outputs": [
    {
     "data": {
      "text/plain": [
       "tensor([[[1., 1., 1.],\n",
       "         [1., 1., 1.]],\n",
       "\n",
       "        [[1., 1., 1.],\n",
       "         [1., 1., 1.]]])"
      ]
     },
     "execution_count": 18,
     "metadata": {},
     "output_type": "execute_result"
    }
   ],
   "source": [
    "ones = torch.ones(2,2,3)\n",
    "\n",
    "ones"
   ]
  },
  {
   "cell_type": "code",
   "execution_count": 19,
   "id": "2eb3b43d-bb6d-4caf-a47b-84479f82f4cc",
   "metadata": {},
   "outputs": [
    {
     "data": {
      "text/plain": [
       "torch.Size([2, 2, 3])"
      ]
     },
     "execution_count": 19,
     "metadata": {},
     "output_type": "execute_result"
    }
   ],
   "source": [
    "ones.shape"
   ]
  },
  {
   "cell_type": "markdown",
   "id": "02c999c4-66ae-4e84-80f5-c494bc910e1c",
   "metadata": {},
   "source": [
    "## **Identity maxtix tensors**"
   ]
  },
  {
   "cell_type": "code",
   "execution_count": 20,
   "id": "5c2c3058-2523-4550-9338-57d66427f8d7",
   "metadata": {},
   "outputs": [
    {
     "data": {
      "text/plain": [
       "tensor([[1., 0., 0.],\n",
       "        [0., 1., 0.],\n",
       "        [0., 0., 1.]])"
      ]
     },
     "execution_count": 20,
     "metadata": {},
     "output_type": "execute_result"
    }
   ],
   "source": [
    "i = torch.eye(3)\n",
    "i"
   ]
  },
  {
   "cell_type": "code",
   "execution_count": 21,
   "id": "ac7c7f88-e39d-4606-910c-4372ac66b9d1",
   "metadata": {},
   "outputs": [
    {
     "data": {
      "text/plain": [
       "torch.Size([3, 3])"
      ]
     },
     "execution_count": 21,
     "metadata": {},
     "output_type": "execute_result"
    }
   ],
   "source": [
    "i.shape"
   ]
  },
  {
   "cell_type": "markdown",
   "id": "6e08fb8c-1774-4218-8a26-63e6f39353a6",
   "metadata": {},
   "source": [
    "## **Tensors filled with an arbitary value**"
   ]
  },
  {
   "cell_type": "code",
   "execution_count": 22,
   "id": "78fa06cd-df94-4bef-acfd-bbf2ab66dce9",
   "metadata": {},
   "outputs": [
    {
     "data": {
      "text/plain": [
       "tensor([[0.4200, 0.4200, 0.4200],\n",
       "        [0.4200, 0.4200, 0.4200],\n",
       "        [0.4200, 0.4200, 0.4200]])"
      ]
     },
     "execution_count": 22,
     "metadata": {},
     "output_type": "execute_result"
    }
   ],
   "source": [
    "f = torch.full((3,3), 0.42)\n",
    "f"
   ]
  },
  {
   "cell_type": "code",
   "execution_count": 23,
   "id": "18b2dbb0-31ea-4b14-b8e2-0118bb9cfbf4",
   "metadata": {},
   "outputs": [
    {
     "data": {
      "text/plain": [
       "torch.Size([3, 3])"
      ]
     },
     "execution_count": 23,
     "metadata": {},
     "output_type": "execute_result"
    }
   ],
   "source": [
    "f.shape"
   ]
  },
  {
   "cell_type": "markdown",
   "id": "0f02435b-ad46-48b9-8216-f1c49c4a506e",
   "metadata": {},
   "source": [
    "## **Tensors with linearly spaced floating-point numbers**"
   ]
  },
  {
   "cell_type": "code",
   "execution_count": 24,
   "id": "5aaddd73-c679-4416-a942-8ca3af7aaeb0",
   "metadata": {},
   "outputs": [
    {
     "data": {
      "text/plain": [
       "tensor([ 0.,  5., 10., 15., 20.])"
      ]
     },
     "execution_count": 24,
     "metadata": {},
     "output_type": "execute_result"
    }
   ],
   "source": [
    "lin = torch.linspace(0, 20, steps=5)\n",
    "lin"
   ]
  },
  {
   "cell_type": "markdown",
   "id": "e6815230-f75a-4424-9042-e754ef34bc25",
   "metadata": {},
   "source": [
    "## **Tensors with logarithmically spaced floating-point numbers**"
   ]
  },
  {
   "cell_type": "code",
   "execution_count": 25,
   "id": "e7356a5b-a1ea-438c-8b44-b0ef4a092a91",
   "metadata": {},
   "outputs": [
    {
     "data": {
      "text/plain": [
       "tensor([1.0000e-03, 1.0000e-01, 1.0000e+01, 1.0000e+03])"
      ]
     },
     "execution_count": 25,
     "metadata": {},
     "output_type": "execute_result"
    }
   ],
   "source": [
    "log = torch.logspace(-3, 3, steps=4)\n",
    "log"
   ]
  },
  {
   "cell_type": "markdown",
   "id": "425deb23-7da3-4f99-bab0-940541aaa0b7",
   "metadata": {},
   "source": [
    "## **Creating a tensor with dimensions similar to another tensor**"
   ]
  },
  {
   "cell_type": "code",
   "execution_count": 26,
   "id": "cf901bb0-a534-4479-a495-87fb0bc8cf9d",
   "metadata": {},
   "outputs": [
    {
     "data": {
      "text/plain": [
       "tensor([[0., 0.],\n",
       "        [0., 0.]])"
      ]
     },
     "execution_count": 26,
     "metadata": {},
     "output_type": "execute_result"
    }
   ],
   "source": [
    "a = torch.tensor([[0.5, 0.5],[0.5, 0.5]])\n",
    "b = torch.zeros_like(a)\n",
    "b"
   ]
  },
  {
   "cell_type": "code",
   "execution_count": 27,
   "id": "80fbf772-f941-451f-aa69-333c9767bfee",
   "metadata": {},
   "outputs": [
    {
     "data": {
      "text/plain": [
       "tensor([[1., 1.],\n",
       "        [1., 1.]])"
      ]
     },
     "execution_count": 27,
     "metadata": {},
     "output_type": "execute_result"
    }
   ],
   "source": [
    "c = torch.ones_like(a)\n",
    "c"
   ]
  },
  {
   "cell_type": "markdown",
   "id": "a5deff42-987c-4d9d-aff5-454a371e04f5",
   "metadata": {},
   "source": [
    "## **Tensor with int dtype**"
   ]
  },
  {
   "cell_type": "code",
   "execution_count": 28,
   "id": "ee35cdc9-8922-44c0-a021-640cd35b4529",
   "metadata": {},
   "outputs": [
    {
     "data": {
      "text/plain": [
       "tensor([[1, 2],\n",
       "        [3, 4]])"
      ]
     },
     "execution_count": 28,
     "metadata": {},
     "output_type": "execute_result"
    }
   ],
   "source": [
    "i = torch.tensor([[1,2],[3,4]])\n",
    "i"
   ]
  },
  {
   "cell_type": "code",
   "execution_count": 29,
   "id": "5fb958b0-b394-4abc-b559-802909c1438e",
   "metadata": {},
   "outputs": [
    {
     "data": {
      "text/plain": [
       "torch.int64"
      ]
     },
     "execution_count": 29,
     "metadata": {},
     "output_type": "execute_result"
    }
   ],
   "source": [
    "i.dtype"
   ]
  },
  {
   "cell_type": "code",
   "execution_count": 30,
   "id": "44975618-164d-40f6-8f39-a028bf67e42f",
   "metadata": {},
   "outputs": [
    {
     "data": {
      "text/plain": [
       "tensor([[1, 2],\n",
       "        [3, 4]], dtype=torch.int32)"
      ]
     },
     "execution_count": 30,
     "metadata": {},
     "output_type": "execute_result"
    }
   ],
   "source": [
    "i = torch.tensor([[1,2],[3,4]], dtype=torch.int)\n",
    "i"
   ]
  },
  {
   "cell_type": "markdown",
   "id": "d6a3a0af-fdb3-4598-be19-57f86439cdb0",
   "metadata": {},
   "source": [
    "## **Tensors as a range of integers**"
   ]
  },
  {
   "cell_type": "code",
   "execution_count": 31,
   "id": "26aa9e40-5d11-4ebd-9b55-5fb217290f81",
   "metadata": {},
   "outputs": [
    {
     "data": {
      "text/plain": [
       "tensor([1, 3, 5, 7, 9])"
      ]
     },
     "execution_count": 31,
     "metadata": {},
     "output_type": "execute_result"
    }
   ],
   "source": [
    "a = torch.arange(1,10, step=2)\n",
    "a"
   ]
  },
  {
   "cell_type": "markdown",
   "id": "90dda486-80ed-471c-bd64-5ab48c5a0b8a",
   "metadata": {},
   "source": [
    "## **Tensors with random permutation of integers**"
   ]
  },
  {
   "cell_type": "code",
   "execution_count": 32,
   "id": "491019d9-2094-4c00-92ac-7692516fa42f",
   "metadata": {},
   "outputs": [
    {
     "data": {
      "text/plain": [
       "tensor([3, 5, 2, 1, 0, 4, 8, 6, 9, 7])"
      ]
     },
     "execution_count": 32,
     "metadata": {},
     "output_type": "execute_result"
    }
   ],
   "source": [
    "r = torch.randperm(10)\n",
    "r"
   ]
  },
  {
   "cell_type": "markdown",
   "id": "f3ba9b5b-d81c-4cf5-a8b3-652ed6dc3a0f",
   "metadata": {},
   "source": [
    "# **Tensor Munging Operations**"
   ]
  },
  {
   "cell_type": "markdown",
   "id": "e03346ce-b3b8-4efe-8b89-fac6ea793097",
   "metadata": {},
   "source": [
    "## **Accessing individual members of a tensor**"
   ]
  },
  {
   "cell_type": "code",
   "execution_count": 33,
   "id": "7f91d34b-fa19-4ced-8029-985e1715164e",
   "metadata": {},
   "outputs": [
    {
     "data": {
      "text/plain": [
       "tensor([[1, 2],\n",
       "        [3, 4]])"
      ]
     },
     "execution_count": 33,
     "metadata": {},
     "output_type": "execute_result"
    }
   ],
   "source": [
    "a = torch.tensor([[1,2],[3,4]])\n",
    "a"
   ]
  },
  {
   "cell_type": "code",
   "execution_count": 34,
   "id": "c01e43dd-aa16-42a8-a081-24dc67afec4d",
   "metadata": {},
   "outputs": [
    {
     "name": "stdout",
     "output_type": "stream",
     "text": [
      "tensor(1)\n",
      "tensor(2)\n",
      "tensor(3)\n",
      "tensor(4)\n",
      "torch.Size([2, 2])\n"
     ]
    }
   ],
   "source": [
    "print(a[0][0])\n",
    "print(a[0][1])       \n",
    "print(a[1][0]) \n",
    "print(a[1][1])\n",
    "print(a.shape)"
   ]
  },
  {
   "cell_type": "markdown",
   "id": "cfc17801-58ce-4a2e-bb42-86c40916f645",
   "metadata": {},
   "source": [
    "## **Accessing values from a tensor with a single value**"
   ]
  },
  {
   "cell_type": "code",
   "execution_count": 35,
   "id": "b0d10c48-8cdb-48d8-bede-654b3af35ca7",
   "metadata": {},
   "outputs": [
    {
     "name": "stdout",
     "output_type": "stream",
     "text": [
      "tensor([[[0.4200]]])\n",
      "torch.Size([1, 1, 1])\n",
      "0.41999998688697815\n"
     ]
    }
   ],
   "source": [
    "a = torch.tensor([[[0.42]]])\n",
    "print(a)\n",
    "print(a.shape)\n",
    "print(a.item())"
   ]
  },
  {
   "cell_type": "markdown",
   "id": "445ba09d-d61d-4f37-97b8-a50ca78c9a5e",
   "metadata": {},
   "source": [
    "## **Reshaping a tensor**"
   ]
  },
  {
   "cell_type": "code",
   "execution_count": 36,
   "id": "74c6558c-5116-4fc0-893a-83116fd94583",
   "metadata": {},
   "outputs": [
    {
     "name": "stdout",
     "output_type": "stream",
     "text": [
      "tensor([0., 0., 0., 0., 0., 0., 0., 0., 0., 0.])\n",
      "torch.Size([10])\n",
      "tensor([[0., 0., 0., 0., 0.],\n",
      "        [0., 0., 0., 0., 0.]])\n",
      "torch.Size([2, 5])\n"
     ]
    }
   ],
   "source": [
    "a = torch.zeros(10)\n",
    "print(a)\n",
    "print(a.shape)\n",
    "b = a.view(2,5)\n",
    "print(b)\n",
    "print(b.shape)"
   ]
  },
  {
   "cell_type": "markdown",
   "id": "70538a51-a5f1-40af-90cd-b9082d43ae57",
   "metadata": {},
   "source": [
    "## **Verifying the size of a tensor after reshaping**"
   ]
  },
  {
   "cell_type": "code",
   "execution_count": 37,
   "id": "2219f565-2c74-4a17-a4f1-5a4b8a00eeb4",
   "metadata": {},
   "outputs": [
    {
     "name": "stdout",
     "output_type": "stream",
     "text": [
      "tensor([1, 2, 3, 4, 5, 6, 7, 8, 9])\n",
      "torch.Size([9])\n",
      "tensor([[1, 2, 3],\n",
      "        [4, 5, 6],\n",
      "        [7, 8, 9]])\n",
      "torch.Size([3, 3])\n"
     ]
    }
   ],
   "source": [
    "a = torch.arange(1,10)\n",
    "print(a)\n",
    "print(a.shape)\n",
    "b = a.view(3,3)\n",
    "print(b)\n",
    "print(b.shape)"
   ]
  },
  {
   "cell_type": "markdown",
   "id": "0eac9b5b-feae-49e5-adbe-8e2aabe95f3b",
   "metadata": {},
   "source": [
    "## **Concatenating two tensors**"
   ]
  },
  {
   "cell_type": "code",
   "execution_count": 38,
   "id": "206d29a7-6296-4dfa-a374-da226a7562da",
   "metadata": {},
   "outputs": [
    {
     "name": "stdout",
     "output_type": "stream",
     "text": [
      "tensor([[0., 0.],\n",
      "        [0., 0.]])\n",
      "torch.Size([2, 2])\n",
      "tensor([[0., 0.],\n",
      "        [0., 0.],\n",
      "        [0., 0.],\n",
      "        [0., 0.],\n",
      "        [0., 0.],\n",
      "        [0., 0.]])\n",
      "torch.Size([6, 2])\n",
      "tensor([[0., 0., 0., 0., 0., 0.],\n",
      "        [0., 0., 0., 0., 0., 0.]])\n",
      "torch.Size([2, 6])\n"
     ]
    }
   ],
   "source": [
    "a = torch.zeros(2,2)\n",
    "print(a)\n",
    "print(a.shape)\n",
    "b = torch.cat([a,a,a],0)\n",
    "print(b)\n",
    "print(b.shape)\n",
    "c = torch.cat([a,a,a],1)\n",
    "print(c)\n",
    "print(c.shape)"
   ]
  },
  {
   "cell_type": "markdown",
   "id": "0dc383ec-4667-4f74-8475-f55e728367e3",
   "metadata": {},
   "source": [
    "## **Stacking tensors together**"
   ]
  },
  {
   "cell_type": "code",
   "execution_count": 39,
   "id": "bdd0cd72-0901-4670-8d3d-8b7335759f1b",
   "metadata": {},
   "outputs": [
    {
     "name": "stdout",
     "output_type": "stream",
     "text": [
      "tensor([[0.],\n",
      "        [0.]])\n",
      "torch.Size([2, 1])\n",
      "tensor([[[0.],\n",
      "         [0.]],\n",
      "\n",
      "        [[0.],\n",
      "         [0.]],\n",
      "\n",
      "        [[0.],\n",
      "         [0.]]])\n",
      "torch.Size([3, 2, 1])\n",
      "tensor([[[0.],\n",
      "         [0.],\n",
      "         [0.]],\n",
      "\n",
      "        [[0.],\n",
      "         [0.],\n",
      "         [0.]]])\n",
      "torch.Size([2, 3, 1])\n",
      "tensor([[[0., 0., 0.]],\n",
      "\n",
      "        [[0., 0., 0.]]])\n",
      "torch.Size([2, 1, 3])\n"
     ]
    }
   ],
   "source": [
    "a = torch.zeros(2,1)\n",
    "print(a)\n",
    "print(a.shape)\n",
    "b = torch.stack([a,a,a], 0)\n",
    "print(b)\n",
    "print(b.shape)\n",
    "c = torch.stack([a,a,a], 1)\n",
    "print(c)\n",
    "print(c.shape)\n",
    "d = torch.stack([a,a,a], 2)\n",
    "print(d)\n",
    "print(d.shape)"
   ]
  },
  {
   "cell_type": "markdown",
   "id": "8a8c5dd1-6fb7-48c6-a22b-ad328d6e2f4b",
   "metadata": {},
   "source": [
    "## **Chunking/chopping tensors** "
   ]
  },
  {
   "cell_type": "code",
   "execution_count": 40,
   "id": "2ab3ed9c-5e0f-4671-a365-2c82b8d87978",
   "metadata": {},
   "outputs": [
    {
     "name": "stdout",
     "output_type": "stream",
     "text": [
      "tensor([[0.],\n",
      "        [0.],\n",
      "        [0.],\n",
      "        [0.],\n",
      "        [0.],\n",
      "        [0.],\n",
      "        [0.],\n",
      "        [0.],\n",
      "        [0.],\n",
      "        [0.]])\n",
      "torch.Size([10, 1])\n",
      "(tensor([[0.],\n",
      "        [0.]]), tensor([[0.],\n",
      "        [0.]]), tensor([[0.],\n",
      "        [0.]]), tensor([[0.],\n",
      "        [0.]]), tensor([[0.],\n",
      "        [0.]]))\n"
     ]
    }
   ],
   "source": [
    "a = torch.zeros(10, 1)\n",
    "print(a)\n",
    "print(a.shape)\n",
    "b = torch.chunk(a, 5, 0)\n",
    "print(b)"
   ]
  },
  {
   "cell_type": "markdown",
   "id": "2f31d3d8-9dac-480f-a817-2aea9c64f1e4",
   "metadata": {},
   "source": [
    "## **Chunking/chopping tensors continued**"
   ]
  },
  {
   "cell_type": "code",
   "execution_count": 41,
   "id": "ad17303f-41b3-4b9b-9c2a-719051481cb7",
   "metadata": {},
   "outputs": [
    {
     "name": "stdout",
     "output_type": "stream",
     "text": [
      "(tensor([[0.],\n",
      "        [0.],\n",
      "        [0.],\n",
      "        [0.]]), tensor([[0.],\n",
      "        [0.],\n",
      "        [0.],\n",
      "        [0.]]), tensor([[0.],\n",
      "        [0.]]))\n"
     ]
    }
   ],
   "source": [
    "d = torch.chunk(a, 3, 0)\n",
    "print(d)"
   ]
  },
  {
   "cell_type": "markdown",
   "id": "6c9f9b86-a78d-490b-9df0-6a208af9c27e",
   "metadata": {},
   "source": [
    "## **Splitting tensors**"
   ]
  },
  {
   "cell_type": "code",
   "execution_count": 42,
   "id": "7a094935-ec9f-4549-b0a2-1d1db3b1fb5d",
   "metadata": {},
   "outputs": [
    {
     "name": "stdout",
     "output_type": "stream",
     "text": [
      "tensor([[0.],\n",
      "        [0.],\n",
      "        [0.],\n",
      "        [0.],\n",
      "        [0.],\n",
      "        [0.],\n",
      "        [0.],\n",
      "        [0.],\n",
      "        [0.],\n",
      "        [0.]])\n",
      "torch.Size([10, 1])\n",
      "(tensor([[0.],\n",
      "        [0.]]), tensor([[0.],\n",
      "        [0.]]), tensor([[0.],\n",
      "        [0.]]), tensor([[0.],\n",
      "        [0.]]), tensor([[0.],\n",
      "        [0.]]))\n"
     ]
    }
   ],
   "source": [
    "a = torch.zeros(10,1)\n",
    "print(a)\n",
    "print(a.shape)\n",
    "b = torch.split(a,2,0)\n",
    "print(b)"
   ]
  },
  {
   "cell_type": "markdown",
   "id": "02cba400-a14a-4ea0-a125-4ea6ccf9ff5b",
   "metadata": {},
   "source": [
    "## **Extracting parts of tensors using index_select**"
   ]
  },
  {
   "cell_type": "code",
   "execution_count": 43,
   "id": "6ddadb9a-493d-4d6a-9715-b66427a69d31",
   "metadata": {},
   "outputs": [
    {
     "name": "stdout",
     "output_type": "stream",
     "text": [
      "tensor([[1., 2., 3.],\n",
      "        [4., 5., 6.],\n",
      "        [7., 8., 9.]])\n",
      "torch.Size([3, 3])\n",
      "tensor([[1., 2., 3.],\n",
      "        [4., 5., 6.]])\n",
      "torch.Size([2, 3])\n",
      "tensor([[1., 2.],\n",
      "        [4., 5.],\n",
      "        [7., 8.]])\n",
      "torch.Size([3, 2])\n"
     ]
    }
   ],
   "source": [
    "a = torch.FloatTensor([[1 ,2, 3],[4, 5, 6], [7, 8, 9]])\n",
    "print(a)\n",
    "print(a.shape)\n",
    "index = torch.LongTensor([0, 1])\n",
    "b = torch.index_select(a, 0, index)\n",
    "                \n",
    "print(b)\n",
    "print(b.shape)\n",
    "c = torch.index_select(a, 1, index)\n",
    "                        \n",
    "print(c)\n",
    "print(c.shape)"
   ]
  },
  {
   "cell_type": "markdown",
   "id": "cf450d98-436b-4dbb-8193-9b7dafbe1bf0",
   "metadata": {},
   "source": [
    "## **Selecting elements from a tensor using masked_select**"
   ]
  },
  {
   "cell_type": "code",
   "execution_count": 44,
   "id": "c507ea0c-2ce8-41bb-85fd-e27322c47c1e",
   "metadata": {},
   "outputs": [
    {
     "name": "stdout",
     "output_type": "stream",
     "text": [
      "tensor([[1., 2., 3.],\n",
      "        [4., 5., 6.],\n",
      "        [7., 8., 9.]])\n",
      "torch.Size([3, 3])\n",
      "tensor([[0, 1, 0],\n",
      "        [1, 1, 1],\n",
      "        [0, 1, 0]], dtype=torch.uint8)\n",
      "torch.Size([3, 3])\n",
      "tensor([2., 4., 5., 6., 8.])\n",
      "torch.Size([5])\n"
     ]
    },
    {
     "name": "stderr",
     "output_type": "stream",
     "text": [
      "/tmp/ipykernel_264/1963178790.py:10: UserWarning: masked_select received a mask with dtype torch.uint8, this behavior is now deprecated,please use a mask with dtype torch.bool instead. (Triggered internally at  ../aten/src/ATen/native/TensorAdvancedIndexing.cpp:1356.)\n",
      "  b = torch.masked_select(a, mask)\n"
     ]
    }
   ],
   "source": [
    "a = torch.FloatTensor([[1 ,2, 3],[4, 5, 6], [7, 8, 9]])\n",
    "\n",
    "print(a)\n",
    "print(a.shape)\n",
    "                \n",
    "mask = torch.ByteTensor([[0, 1, 0],[1, 1, 1],[0, 1, 0]])\n",
    "                \n",
    "print(mask)\n",
    "print(mask.shape)                             \n",
    "b = torch.masked_select(a, mask)\n",
    "                                \n",
    "print(b)                      \n",
    "print(b.shape)"
   ]
  },
  {
   "cell_type": "markdown",
   "id": "e3fc1294-b15d-441b-ba56-b6e9c76cb7b5",
   "metadata": {},
   "source": [
    "## **Reshaping tensor with squeeze**"
   ]
  },
  {
   "cell_type": "code",
   "execution_count": 45,
   "id": "01a0a5ce-2595-4f1f-a246-e8c18d0b741e",
   "metadata": {},
   "outputs": [
    {
     "name": "stdout",
     "output_type": "stream",
     "text": [
      "tensor([[[0.],\n",
      "         [0.]],\n",
      "\n",
      "        [[0.],\n",
      "         [0.]]])\n",
      "torch.Size([2, 2, 1])\n",
      "tensor([[0., 0.],\n",
      "        [0., 0.]])\n",
      "torch.Size([2, 2])\n"
     ]
    }
   ],
   "source": [
    "a = torch.zeros(2,2,1)\n",
    "print(a)\n",
    "print(a.shape)\n",
    "                          \n",
    "b = a.squeeze()                        \n",
    "print(b)\n",
    "print(b.shape)"
   ]
  },
  {
   "cell_type": "markdown",
   "id": "3f4f407a-2d50-46b1-8031-3c4c2807ca1d",
   "metadata": {},
   "source": [
    "## **Reshaping tensor with unsqueeze**"
   ]
  },
  {
   "cell_type": "code",
   "execution_count": 46,
   "id": "65f580f2-4fcd-447e-a6b3-2bbb8a7244d3",
   "metadata": {},
   "outputs": [
    {
     "name": "stdout",
     "output_type": "stream",
     "text": [
      "tensor([[0., 0.],\n",
      "        [0., 0.]])\n",
      "torch.Size([2, 2])\n",
      "tensor([[[0., 0.],\n",
      "         [0., 0.]]])\n",
      "torch.Size([1, 2, 2])\n",
      "tensor([[[0., 0.]],\n",
      "\n",
      "        [[0., 0.]]])\n",
      "torch.Size([2, 1, 2])\n",
      "tensor([[[0.],\n",
      "         [0.]],\n",
      "\n",
      "        [[0.],\n",
      "         [0.]]])\n",
      "torch.Size([2, 2, 1])\n"
     ]
    }
   ],
   "source": [
    "a = torch.zeros(2,2)\n",
    "print(a)\n",
    "print(a.shape)\n",
    "        \n",
    "b = torch.unsqueeze(a, 0)\n",
    "print(b)\n",
    "print(b.shape)\n",
    "                 \n",
    "c = torch.unsqueeze(a, 1)\n",
    "print(c)\n",
    "print(c.shape)\n",
    "                         \n",
    "d = torch.unsqueeze(a, 2)\n",
    "print(d)\n",
    "print(d.shape)"
   ]
  },
  {
   "cell_type": "markdown",
   "id": "5534c4c8-6912-408d-be56-8e303bf09438",
   "metadata": {},
   "source": [
    "## **Extracting parts of a tensor using unbind**"
   ]
  },
  {
   "cell_type": "code",
   "execution_count": 47,
   "id": "1c187d77-3dca-42af-aa76-1dfc212d2aa6",
   "metadata": {},
   "outputs": [
    {
     "name": "stdout",
     "output_type": "stream",
     "text": [
      "torch.Size([2, 2])\n",
      "(tensor([0., 0.]), tensor([0., 0.]))\n",
      "(tensor([0., 0.]), tensor([0., 0.]))\n"
     ]
    }
   ],
   "source": [
    "a\n",
    "print(a.shape)                \n",
    "print(torch.unbind(a, 0))           \n",
    "print(torch.unbind(a, 1))"
   ]
  },
  {
   "cell_type": "markdown",
   "id": "9b275ad5-2a57-4f0f-a527-99c11094a5c3",
   "metadata": {},
   "source": [
    "## **Constructing tensor from existing tensor using where clause**"
   ]
  },
  {
   "cell_type": "code",
   "execution_count": 48,
   "id": "4750d8b9-a632-438e-a412-5e7a26fbe5d9",
   "metadata": {},
   "outputs": [
    {
     "name": "stdout",
     "output_type": "stream",
     "text": [
      "tensor([[0., 0., 0.],\n",
      "        [0., 0., 0.],\n",
      "        [0., 0., 0.]])\n",
      "torch.Size([3, 3])\n",
      "tensor([[1., 1., 1.],\n",
      "        [1., 1., 1.],\n",
      "        [1., 1., 1.]])\n",
      "torch.Size([3, 3])\n",
      "tensor([[0.2575, 0.0373, 0.0216],\n",
      "        [0.0179, 0.3146, 0.6050],\n",
      "        [0.4288, 0.1605, 0.8523]])\n",
      "torch.Size([3, 3])\n",
      "tensor([[1., 1., 1.],\n",
      "        [1., 1., 0.],\n",
      "        [1., 1., 0.]])\n",
      "torch.Size([3, 3])\n"
     ]
    }
   ],
   "source": [
    "a = torch.zeros(3,3)\n",
    "print(a)\n",
    "print(a.shape)\n",
    "                \n",
    "b = torch.ones(3,3)\n",
    "print(b)\n",
    "print(b.shape)\n",
    "                                \n",
    "c = torch.rand(3,3)\n",
    "print(c)\n",
    "print(c.shape)\n",
    "                                                \n",
    "d = torch.where(c > 0.5, a, b)\n",
    "print(d)\n",
    "print(d.shape)"
   ]
  },
  {
   "cell_type": "markdown",
   "id": "3552cebf-4b29-4e1d-ac69-2cb665d9c4c1",
   "metadata": {},
   "source": [
    "## **Logical operations on tensors using any and all**"
   ]
  },
  {
   "cell_type": "code",
   "execution_count": 49,
   "id": "a3022e7f-63e2-4fae-bef8-b9d7a7e08879",
   "metadata": {},
   "outputs": [
    {
     "name": "stdout",
     "output_type": "stream",
     "text": [
      "tensor([[0.4944, 0.3594, 0.5036],\n",
      "        [0.9726, 0.6347, 0.3419],\n",
      "        [0.2110, 0.7173, 0.9738]])\n",
      "torch.Size([3, 3])\n",
      "tensor(True)\n",
      "tensor(False)\n",
      "tensor(True)\n",
      "tensor(False)\n"
     ]
    }
   ],
   "source": [
    "a = torch.rand(3,3)\n",
    "print(a)\n",
    "print(a.shape)\n",
    "\n",
    "print(torch.any(a > 0))              \n",
    "print(torch.any(a > 1.0))          \n",
    "print(torch.all(a > 0))      \n",
    "print(torch.all(a > 1.0))"
   ]
  },
  {
   "cell_type": "markdown",
   "id": "dca1ae1f-a2e3-4b22-bfe6-6d0427dc546c",
   "metadata": {},
   "source": [
    "## **Reshaping tensors**"
   ]
  },
  {
   "cell_type": "code",
   "execution_count": 50,
   "id": "71cfbdf6-4876-4398-823f-41bd0985d65b",
   "metadata": {},
   "outputs": [
    {
     "name": "stdout",
     "output_type": "stream",
     "text": [
      "tensor([1, 2, 3, 4, 5, 6, 7, 8, 9])\n",
      "tensor([[1, 2, 3],\n",
      "        [4, 5, 6],\n",
      "        [7, 8, 9]])\n",
      "torch.Size([3, 3])\n",
      "tensor([[1, 2, 3],\n",
      "        [4, 5, 6],\n",
      "        [7, 8, 9]])\n",
      "torch.Size([3, 3])\n"
     ]
    }
   ],
   "source": [
    "a = torch.arange(1,10)\n",
    "print(a)\n",
    "\n",
    "b = a.view(3,3)\n",
    "print(b)\n",
    "print(b.shape)\n",
    "                \n",
    "c = a.view(3,-1)\n",
    "print(c)\n",
    "print(c.shape)"
   ]
  },
  {
   "cell_type": "markdown",
   "id": "43723029-4ced-4bc1-ba1d-608355111a53",
   "metadata": {},
   "source": [
    "## **Collapsing the dimensions of a tensor using flatten**"
   ]
  },
  {
   "cell_type": "code",
   "execution_count": 51,
   "id": "d5230524-d491-44ae-a5c9-f36add96dbba",
   "metadata": {},
   "outputs": [
    {
     "name": "stdout",
     "output_type": "stream",
     "text": [
      "tensor([[[[1., 1.],\n",
      "          [1., 1.]],\n",
      "\n",
      "         [[1., 1.],\n",
      "          [1., 1.]]],\n",
      "\n",
      "\n",
      "        [[[1., 1.],\n",
      "          [1., 1.]],\n",
      "\n",
      "         [[1., 1.],\n",
      "          [1., 1.]]]])\n",
      "torch.Size([2, 2, 2, 2])\n",
      "tensor([1., 1., 1., 1., 1., 1., 1., 1., 1., 1., 1., 1., 1., 1., 1., 1.])\n",
      "torch.Size([16])\n",
      "tensor([1., 1., 1., 1., 1., 1., 1., 1., 1., 1., 1., 1., 1., 1., 1., 1.])\n",
      "torch.Size([16])\n",
      "tensor([[1., 1., 1., 1., 1., 1., 1., 1.],\n",
      "        [1., 1., 1., 1., 1., 1., 1., 1.]])\n",
      "torch.Size([2, 8])\n",
      "tensor([[[1., 1., 1., 1.],\n",
      "         [1., 1., 1., 1.]],\n",
      "\n",
      "        [[1., 1., 1., 1.],\n",
      "         [1., 1., 1., 1.]]])\n",
      "torch.Size([2, 2, 4])\n",
      "tensor([[[[1., 1.],\n",
      "          [1., 1.]],\n",
      "\n",
      "         [[1., 1.],\n",
      "          [1., 1.]]],\n",
      "\n",
      "\n",
      "        [[[1., 1.],\n",
      "          [1., 1.]],\n",
      "\n",
      "         [[1., 1.],\n",
      "          [1., 1.]]]])\n",
      "torch.Size([2, 2, 2, 2])\n"
     ]
    }
   ],
   "source": [
    "a = torch.ones([2,2,2,2])\n",
    "print(a)\n",
    "print(a.shape)\n",
    "\n",
    "\n",
    "b = torch.flatten(a)\n",
    "print(b)\n",
    "print(b.shape)\n",
    "\n",
    "c = torch.flatten(a, start_dim=0)\n",
    "print(c)\n",
    "print(c.shape)\n",
    "\n",
    "\n",
    "d = torch.flatten(a, start_dim=1)\n",
    "print(d)\n",
    "print(d.shape)\n",
    "\n",
    "e = torch.flatten(a, start_dim=2)\n",
    "print(e)\n",
    "print(e.shape)\n",
    "\n",
    "f = torch.flatten(a, start_dim=3)\n",
    "print(f)\n",
    "print(f.shape)"
   ]
  },
  {
   "cell_type": "markdown",
   "id": "a9299f3b-a205-4908-8ead-c568fe6ef76f",
   "metadata": {},
   "source": [
    "## **Extract values from tensor using gather**"
   ]
  },
  {
   "cell_type": "code",
   "execution_count": 52,
   "id": "7cf49ae8-9eeb-4a47-9db1-4899d9fa7791",
   "metadata": {},
   "outputs": [
    {
     "name": "stdout",
     "output_type": "stream",
     "text": [
      "tensor([[0.2135, 0.4237, 0.5009, 0.4197],\n",
      "        [0.9047, 0.1540, 0.2839, 0.5638],\n",
      "        [0.0757, 0.8640, 0.7830, 0.3918],\n",
      "        [0.0481, 0.0696, 0.1963, 0.4586]])\n",
      "torch.Size([4, 4])\n",
      "tensor([[0, 1, 2, 3]])\n",
      "torch.Size([1, 4])\n",
      "tensor([[0.2135, 0.1540, 0.7830, 0.4586]])\n",
      "torch.Size([1, 4])\n",
      "tensor([[0],\n",
      "        [1],\n",
      "        [2],\n",
      "        [3]])\n",
      "torch.Size([4, 1])\n",
      "tensor([[0.2135],\n",
      "        [0.1540],\n",
      "        [0.7830],\n",
      "        [0.4586]])\n",
      "torch.Size([4, 1])\n"
     ]
    }
   ],
   "source": [
    "a = torch.rand(4,4)\n",
    "print(a)\n",
    "print(a.shape)\n",
    "                        \n",
    "b = torch.LongTensor([[0,1,2,3]])\n",
    "print(b)\n",
    "print(b.shape)\n",
    "\n",
    "c = a.gather(0,b)\n",
    "print(c)\n",
    "print(c.shape)\n",
    "                        \n",
    "d = torch.LongTensor([[0],[1],[2],[3]])\n",
    "print(d)\n",
    "print(d.shape)\n",
    "\n",
    "e = a.gather(1,d)\n",
    "print(e)\n",
    "print(e.shape)"
   ]
  },
  {
   "cell_type": "markdown",
   "id": "9ecbe151-457f-41a1-8a7d-3133fd96e2bd",
   "metadata": {},
   "source": [
    "## **Augmenting tensors values with scatter**"
   ]
  },
  {
   "cell_type": "code",
   "execution_count": 53,
   "id": "1a4e4b78-2b2b-4283-b811-ac2e0ad57490",
   "metadata": {},
   "outputs": [
    {
     "name": "stdout",
     "output_type": "stream",
     "text": [
      "tensor([[0.4459, 0.0515, 0.9351, 0.7622],\n",
      "        [0.6363, 0.8391, 0.3344, 0.9707],\n",
      "        [0.3943, 0.5922, 0.2198, 0.9519],\n",
      "        [0.2102, 0.0719, 0.9947, 0.9867]])\n",
      "torch.Size([4, 4])\n",
      "tensor([[0, 1, 2, 3]])\n",
      "torch.Size([1, 4])\n",
      "tensor([[0., 0., 0., 0.]])\n",
      "torch.Size([1, 4])\n",
      "tensor([[0.0000, 0.0515, 0.9351, 0.7622],\n",
      "        [0.6363, 0.0000, 0.3344, 0.9707],\n",
      "        [0.3943, 0.5922, 0.0000, 0.9519],\n",
      "        [0.2102, 0.0719, 0.9947, 0.0000]])\n",
      "torch.Size([4, 4])\n",
      "tensor([[0.4459, 0.0515, 0.9351, 0.7622],\n",
      "        [0.6363, 0.8391, 0.3344, 0.9707],\n",
      "        [0.3943, 0.5922, 0.2198, 0.9519],\n",
      "        [0.2102, 0.0719, 0.9947, 0.9867]])\n"
     ]
    }
   ],
   "source": [
    "a = torch.rand(4,4)\n",
    "print(a)\n",
    "print(a.shape)\n",
    "\n",
    "                        \n",
    "index = torch.LongTensor([[0,1,2,3]])\n",
    "print(index)\n",
    "print(index.shape)\n",
    "                        \n",
    "values = torch.zeros(1,4)\n",
    "print(values)\n",
    "print(values.shape)\n",
    "                        \n",
    "result = a.scatter(0, index, values)\n",
    "print(result)\n",
    "print(result.shape)\n",
    "print(a)"
   ]
  },
  {
   "cell_type": "markdown",
   "id": "8ee925e6-1e1b-4ed5-a1ab-2576acd733e7",
   "metadata": {
    "tags": []
   },
   "source": [
    "# **Mathematical Operations**"
   ]
  },
  {
   "cell_type": "markdown",
   "id": "3fa4bc78-173b-47d2-a273-30e0c3a15cba",
   "metadata": {},
   "source": [
    "## **Validating if given tensors are within a tolerance level**"
   ]
  },
  {
   "cell_type": "code",
   "execution_count": 54,
   "id": "8b42882f-4fb8-4c9b-b403-cb6ec0a25d99",
   "metadata": {},
   "outputs": [
    {
     "name": "stdout",
     "output_type": "stream",
     "text": [
      "tensor([[0.5316, 0.4201, 0.3297],\n",
      "        [0.3093, 0.9484, 0.3638],\n",
      "        [0.0935, 0.8684, 0.9244]])\n",
      "tensor([[0.5321, 0.4205, 0.3301],\n",
      "        [0.3096, 0.9494, 0.3641],\n",
      "        [0.0936, 0.8692, 0.9253]])\n",
      "True\n",
      "True\n",
      "True\n",
      "False\n",
      "True\n",
      "True\n",
      "True\n",
      "False\n"
     ]
    }
   ],
   "source": [
    "a = torch.rand(3,3)\n",
    "print(a)\n",
    "b = a + a * 1e-3\n",
    "                \n",
    "print(b)\n",
    "print(torch.allclose(a,b,rtol=1e-1))\n",
    "print(torch.allclose(a,b,rtol=1e-2))\n",
    "print(torch.allclose(a,b,rtol=1e-3))\n",
    "print(torch.allclose(a,b,rtol=1e-4))\n",
    "print(torch.allclose(a,b,atol=1e-1))\n",
    "print(torch.allclose(a,b,atol=1e-2))\n",
    "print(torch.allclose(a,b,atol=1e-3))\n",
    "print(torch.allclose(a,b,atol=1e-4))"
   ]
  },
  {
   "cell_type": "markdown",
   "id": "c6a0baea-4645-4bae-b11e-34234ab4ce9a",
   "metadata": {},
   "source": [
    "## **Extracting dimensions of minimum and maximum values in a given tensor**"
   ]
  },
  {
   "cell_type": "code",
   "execution_count": 55,
   "id": "a0addab1-9ec1-466c-a782-53b8380b3396",
   "metadata": {},
   "outputs": [
    {
     "name": "stdout",
     "output_type": "stream",
     "text": [
      "tensor([[0.4170, 0.8331, 0.9014],\n",
      "        [0.2764, 0.2613, 0.1822],\n",
      "        [0.1347, 0.8666, 0.8337]])\n",
      "torch.Size([3, 3])\n",
      "tensor([0, 2, 0])\n",
      "tensor([2, 0, 1])\n",
      "tensor([2, 1, 1])\n",
      "tensor([0, 2, 0])\n"
     ]
    }
   ],
   "source": [
    "a = torch.rand(3,3)\n",
    "print(a)\n",
    "print(a.shape)\n",
    "                \n",
    "print(torch.argmax(a, dim=0))\n",
    "print(torch.argmax(a, dim=1))\n",
    "print(torch.argmin(a, dim=0))\n",
    "print(torch.argmin(a, dim=1))"
   ]
  },
  {
   "cell_type": "markdown",
   "id": "1dfa685f-20ea-4591-950d-2d39da594ba1",
   "metadata": {},
   "source": [
    "## **Extracting the indices of sorted values of a tensor**"
   ]
  },
  {
   "cell_type": "code",
   "execution_count": 56,
   "id": "f68a2342-1eed-4067-9ebf-86b1f9b4f1ec",
   "metadata": {},
   "outputs": [
    {
     "name": "stdout",
     "output_type": "stream",
     "text": [
      "tensor([[0.8268, 0.0900, 0.1535],\n",
      "        [0.8230, 0.3314, 0.8989],\n",
      "        [0.3340, 0.3729, 0.2535]])\n",
      "torch.Size([3, 3])\n",
      "tensor([[2, 0, 0],\n",
      "        [1, 1, 2],\n",
      "        [0, 2, 1]])\n",
      "tensor([[1, 2, 0],\n",
      "        [1, 0, 2],\n",
      "        [2, 0, 1]])\n"
     ]
    }
   ],
   "source": [
    "a = torch.rand(3,3)\n",
    "print(a)\n",
    "print(a.shape)\n",
    "\n",
    "print(torch.argsort(a, dim=0))\n",
    "print(torch.argsort(a, dim=1))"
   ]
  },
  {
   "cell_type": "markdown",
   "id": "336fba27-34e4-45f4-a0a8-e6cdb5c31625",
   "metadata": {},
   "source": [
    "## **Cumulative sum along a dimension of the tensor**"
   ]
  },
  {
   "cell_type": "code",
   "execution_count": 57,
   "id": "3a4bb43e-1b41-43cd-924f-f503e0b1157e",
   "metadata": {},
   "outputs": [
    {
     "name": "stdout",
     "output_type": "stream",
     "text": [
      "tensor([[0.3704, 0.3661, 0.7640],\n",
      "        [0.5153, 0.4394, 0.8255],\n",
      "        [0.6062, 0.2864, 0.6346]])\n",
      "torch.Size([3, 3])\n",
      "tensor([[0.3704, 0.3661, 0.7640],\n",
      "        [0.8857, 0.8055, 1.5895],\n",
      "        [1.4919, 1.0919, 2.2241]])\n",
      "torch.Size([3, 3])\n",
      "tensor([[0.3704, 0.7366, 1.5005],\n",
      "        [0.5153, 0.9546, 1.7801],\n",
      "        [0.6062, 0.8926, 1.5272]])\n",
      "torch.Size([3, 3])\n"
     ]
    }
   ],
   "source": [
    "a = torch.rand(3,3)\n",
    "print(a)\n",
    "print(a.shape)\n",
    "                \n",
    "b = torch.cumsum(a, dim=0)\n",
    "print(b)\n",
    "print(b.shape)\n",
    "\n",
    "c = torch.cumsum(a, dim=1)\n",
    "print(c)\n",
    "print(c.shape)"
   ]
  },
  {
   "cell_type": "markdown",
   "id": "48859265-4c28-4d37-9080-1b78e76d572d",
   "metadata": {},
   "source": [
    "## **Cumulative product along a dimension of the tensor**"
   ]
  },
  {
   "cell_type": "code",
   "execution_count": 58,
   "id": "7a2ff7df-c82a-4cca-8a3c-d4c84622ed2c",
   "metadata": {},
   "outputs": [
    {
     "name": "stdout",
     "output_type": "stream",
     "text": [
      "tensor([[0.0901, 0.7662, 0.9067],\n",
      "        [0.5943, 0.2930, 0.0918],\n",
      "        [0.3406, 0.0487, 0.9898]])\n",
      "torch.Size([3, 3])\n",
      "tensor([[0.0901, 0.7662, 0.9067],\n",
      "        [0.0535, 0.2245, 0.0833],\n",
      "        [0.0182, 0.0109, 0.0824]])\n",
      "torch.Size([3, 3])\n",
      "tensor([[0.0901, 0.0690, 0.0626],\n",
      "        [0.5943, 0.1741, 0.0160],\n",
      "        [0.3406, 0.0166, 0.0164]])\n",
      "torch.Size([3, 3])\n"
     ]
    }
   ],
   "source": [
    "a = torch.rand(3,3)\n",
    "print(a)\n",
    "print(a.shape)\n",
    "                \n",
    "b = torch.cumprod(a, dim=0)\n",
    "print(b)\n",
    "print(b.shape)\n",
    "                                \n",
    "c = torch.cumprod(a, dim=1)\n",
    "print(c)\n",
    "print(c.shape)"
   ]
  },
  {
   "cell_type": "markdown",
   "id": "77459caf-dff3-46cb-8f77-ba7c6e1b66fd",
   "metadata": {},
   "source": [
    "## **Absolute value of a tensor**"
   ]
  },
  {
   "cell_type": "code",
   "execution_count": 59,
   "id": "dff4284f-9219-4660-864d-04fba0228ce4",
   "metadata": {},
   "outputs": [
    {
     "name": "stdout",
     "output_type": "stream",
     "text": [
      "tensor([[ 1, -1,  1],\n",
      "        [ 1, -1,  1],\n",
      "        [ 1, -1,  1]])\n",
      "tensor([[1, 1, 1],\n",
      "        [1, 1, 1],\n",
      "        [1, 1, 1]])\n"
     ]
    }
   ],
   "source": [
    "a = torch.tensor([[1,-1,1],[1,-1,1],[1,-1,1]])\n",
    "print(a)\n",
    "\n",
    "b = torch.abs(a)\n",
    "print(b)"
   ]
  },
  {
   "cell_type": "markdown",
   "id": "2d091b0d-28c8-4835-a211-67f90b12759c",
   "metadata": {},
   "source": [
    "## **Clamping values within a tensor**"
   ]
  },
  {
   "cell_type": "code",
   "execution_count": 60,
   "id": "9caea6ab-a306-4761-83a0-b133562c2aa0",
   "metadata": {},
   "outputs": [
    {
     "name": "stdout",
     "output_type": "stream",
     "text": [
      "tensor([[0.4468, 0.1840, 0.1446],\n",
      "        [0.4010, 0.4465, 0.7896],\n",
      "        [0.0149, 0.0366, 0.8741]])\n",
      "tensor([[0.4468, 0.2500, 0.2500],\n",
      "        [0.4010, 0.4465, 0.5000],\n",
      "        [0.2500, 0.2500, 0.5000]])\n"
     ]
    }
   ],
   "source": [
    "a = torch.rand(3,3)\n",
    "print(a)\n",
    "\n",
    "b = torch.clamp(a, min=0.25, max=0.50)\n",
    "print(b)"
   ]
  },
  {
   "cell_type": "markdown",
   "id": "a41e9586-fc5a-4718-be27-0fc59d882046",
   "metadata": {},
   "source": [
    "## **Ceil and floor operations within a tensor**"
   ]
  },
  {
   "cell_type": "code",
   "execution_count": 61,
   "id": "86ecfae0-a80b-4d93-bdb7-44351a6d9d32",
   "metadata": {},
   "outputs": [
    {
     "name": "stdout",
     "output_type": "stream",
     "text": [
      "tensor([[99.5164, 70.1482,  8.3628],\n",
      "        [19.9827, 39.4838, 96.7118],\n",
      "        [12.5187, 29.8814, 85.1419]])\n",
      "tensor([[99., 70.,  8.],\n",
      "        [19., 39., 96.],\n",
      "        [12., 29., 85.]])\n",
      "tensor([[100.,  71.,   9.],\n",
      "        [ 20.,  40.,  97.],\n",
      "        [ 13.,  30.,  86.]])\n"
     ]
    }
   ],
   "source": [
    "a = torch.rand(3,3) * 100\n",
    "print(a)\n",
    "\n",
    "b = torch.floor(a)\n",
    "print(b)\n",
    "\n",
    "c = torch.ceil(a)\n",
    "print(c)"
   ]
  },
  {
   "cell_type": "markdown",
   "id": "7fa326b8-ba9a-467f-805b-9391137ee3a8",
   "metadata": {},
   "source": [
    "## **Element wise multiplication**"
   ]
  },
  {
   "cell_type": "code",
   "execution_count": 62,
   "id": "a4050435-529c-4ba8-abbb-df1db15688ea",
   "metadata": {},
   "outputs": [
    {
     "name": "stdout",
     "output_type": "stream",
     "text": [
      "tensor([[0.5633, 0.5659, 0.9472],\n",
      "        [0.0787, 0.0882, 0.4865],\n",
      "        [0.4650, 0.3368, 0.8023]])\n",
      "tensor([[0., 1., 0.],\n",
      "        [1., 1., 1.],\n",
      "        [0., 1., 0.]])\n",
      "tensor([[0.0000, 0.5659, 0.0000],\n",
      "        [0.0787, 0.0882, 0.4865],\n",
      "        [0.0000, 0.3368, 0.0000]])\n"
     ]
    }
   ],
   "source": [
    "a = torch.rand(3,3)\n",
    "print(a)\n",
    "                \n",
    "b = torch.FloatTensor([[0, 1, 0],[1,1,1],[0,1,0]])\n",
    "print(b)                                \n",
    "\n",
    "c = torch.mul(a,b)                                \n",
    "print(c)"
   ]
  },
  {
   "cell_type": "markdown",
   "id": "501eda29-d430-452a-a285-7c92eff79a07",
   "metadata": {},
   "source": [
    "## **Element wise division**"
   ]
  },
  {
   "cell_type": "code",
   "execution_count": 63,
   "id": "98b03d6e-898f-40f5-899f-022ba7137d69",
   "metadata": {},
   "outputs": [
    {
     "name": "stdout",
     "output_type": "stream",
     "text": [
      "tensor([[0.1933, 0.2242, 0.2812],\n",
      "        [0.2177, 0.3329, 0.0778],\n",
      "        [0.1770, 0.6551, 0.9184]])\n",
      "tensor([[1., 2., 1.],\n",
      "        [2., 2., 2.],\n",
      "        [1., 2., 1.]])\n",
      "tensor([[0.1933, 0.1121, 0.2812],\n",
      "        [0.1089, 0.1665, 0.0389],\n",
      "        [0.1770, 0.3276, 0.9184]])\n"
     ]
    }
   ],
   "source": [
    "a = torch.rand(3,3)\n",
    "print(a)                \n",
    "\n",
    "b = torch.FloatTensor([[1, 2, 1],[2,2,2],[1,2,1]])\n",
    "print(b)                                \n",
    "\n",
    "c = torch.div(a,b)\n",
    "print(c)"
   ]
  },
  {
   "cell_type": "markdown",
   "id": "4e897ea8-f2ed-4e47-b6d9-82be74267a27",
   "metadata": {
    "tags": []
   },
   "source": [
    "# **Trigonometric Operations in Tensors**"
   ]
  },
  {
   "cell_type": "markdown",
   "id": "b2ab06c9-2a55-4d57-a36f-2db89e66204d",
   "metadata": {},
   "source": [
    "## **Basic Trigonometric operations for tensors**"
   ]
  },
  {
   "cell_type": "code",
   "execution_count": 64,
   "id": "e542e70b-60dc-4791-a0a9-94eb59d3e169",
   "metadata": {},
   "outputs": [
    {
     "name": "stdout",
     "output_type": "stream",
     "text": [
      "tensor([-1.0000, -0.7778, -0.5556, -0.3333, -0.1111,  0.1111,  0.3333,  0.5556,\n",
      "         0.7778,  1.0000])\n",
      "tensor([-0.8415, -0.7017, -0.5274, -0.3272, -0.1109,  0.1109,  0.3272,  0.5274,\n",
      "         0.7017,  0.8415])\n",
      "tensor([0.5403, 0.7125, 0.8496, 0.9450, 0.9938, 0.9938, 0.9450, 0.8496, 0.7125,\n",
      "        0.5403])\n",
      "tensor([-1.5574, -0.9849, -0.6208, -0.3463, -0.1116,  0.1116,  0.3463,  0.6208,\n",
      "         0.9849,  1.5574])\n",
      "tensor([-1.5708, -0.8911, -0.5890, -0.3398, -0.1113,  0.1113,  0.3398,  0.5890,\n",
      "         0.8911,  1.5708])\n",
      "tensor([3.1416, 2.4619, 2.1598, 1.9106, 1.6821, 1.4595, 1.2310, 0.9818, 0.6797,\n",
      "        0.0000])\n",
      "tensor([-0.7854, -0.6610, -0.5071, -0.3218, -0.1107,  0.1107,  0.3218,  0.5071,\n",
      "         0.6610,  0.7854])\n"
     ]
    }
   ],
   "source": [
    "a = torch.linspace(-1.0, 1.0, steps=10)\n",
    "\n",
    "print(a)\n",
    "print(torch.sin(a))\n",
    "print(torch.cos(a))\n",
    "print(torch.tan(a))\n",
    "print(torch.asin(a))\n",
    "print(torch.acos(a))\n",
    "print(torch.atan(a))"
   ]
  },
  {
   "cell_type": "markdown",
   "id": "555ccb63-9fb1-4733-b86e-7bace797a84f",
   "metadata": {},
   "source": [
    "## **Additional Trigonometric operations for tensors**"
   ]
  },
  {
   "cell_type": "code",
   "execution_count": 65,
   "id": "68c8b8ba-f6d0-45f9-b574-546e57fca211",
   "metadata": {},
   "outputs": [
    {
     "name": "stdout",
     "output_type": "stream",
     "text": [
      "tensor([-1.0000, -0.7778, -0.5556, -0.3333, -0.1111,  0.1111,  0.3333,  0.5556,\n",
      "         0.7778,  1.0000])\n",
      "tensor([0.2689, 0.3148, 0.3646, 0.4174, 0.4723, 0.5277, 0.5826, 0.6354, 0.6852,\n",
      "        0.7311])\n",
      "tensor([-0.7616, -0.6514, -0.5047, -0.3215, -0.1107,  0.1107,  0.3215,  0.5047,\n",
      "         0.6514,  0.7616])\n",
      "tensor([   -inf, -1.5041, -0.8109, -0.4055, -0.1178,  0.1054,  0.2877,  0.4418,\n",
      "         0.5754,  0.6931])\n",
      "tensor([-0.8427, -0.7286, -0.5679, -0.3626, -0.1249,  0.1249,  0.3626,  0.5679,\n",
      "         0.7286,  0.8427])\n",
      "tensor([   -inf, -0.8631, -0.5407, -0.3046, -0.0988,  0.0988,  0.3046,  0.5407,\n",
      "         0.8631,     inf])\n"
     ]
    }
   ],
   "source": [
    "a = torch.linspace(-1.0, 1.0, steps=10)\n",
    "\n",
    "print(a)\n",
    "print(torch.sigmoid(a))\n",
    "print(torch.tanh(a))\n",
    "print(torch.log1p(a))\n",
    "print(torch.erf(a))\n",
    "print(torch.erfinv(a))"
   ]
  },
  {
   "cell_type": "markdown",
   "id": "ffac02e3-7b91-4ad0-b701-e6c0cf3db76a",
   "metadata": {},
   "source": [
    "# **Comparison operations for tensors**"
   ]
  },
  {
   "cell_type": "code",
   "execution_count": 66,
   "id": "81f5e4c5-4cfe-4f30-a35a-2867363647d0",
   "metadata": {},
   "outputs": [
    {
     "name": "stdout",
     "output_type": "stream",
     "text": [
      "tensor([[0.7410, 0.7269, 0.3113],\n",
      "        [0.4025, 0.8574, 0.3757],\n",
      "        [0.9038, 0.0994, 0.8158]])\n",
      "tensor([[0.8943, 0.8478, 0.6313],\n",
      "        [0.0379, 0.6828, 0.5971],\n",
      "        [0.0340, 0.9279, 0.4626]])\n",
      "tensor([[False, False, False],\n",
      "        [ True,  True, False],\n",
      "        [ True, False,  True]])\n",
      "tensor([[ True,  True,  True],\n",
      "        [False, False,  True],\n",
      "        [False,  True, False]])\n",
      "tensor([[False, False, False],\n",
      "        [False, False, False],\n",
      "        [False, False, False]])\n",
      "tensor([[True, True, True],\n",
      "        [True, True, True],\n",
      "        [True, True, True]])\n"
     ]
    }
   ],
   "source": [
    "a = torch.rand(3,3)\n",
    "print(a)               \n",
    "\n",
    "b = torch.rand(3,3)\n",
    "print(b)                                \n",
    "\n",
    "print(torch.ge(a,b))\n",
    "print(torch.le(a,b))\n",
    "print(torch.eq(a,b))\n",
    "print(torch.ne(a,b))"
   ]
  },
  {
   "cell_type": "markdown",
   "id": "6bc55878-6961-4618-aacd-ceacf68e25de",
   "metadata": {},
   "source": [
    "# **Linear Algebraic Operations**"
   ]
  },
  {
   "cell_type": "markdown",
   "id": "a9316ef9-a824-43df-b17a-763dec94c9a8",
   "metadata": {},
   "source": [
    "## **Matrix multiplication operations for tensors**"
   ]
  },
  {
   "cell_type": "code",
   "execution_count": 67,
   "id": "16b46c8a-d464-4134-aa98-acf095e6be7d",
   "metadata": {},
   "outputs": [
    {
     "name": "stdout",
     "output_type": "stream",
     "text": [
      "a -\n",
      "tensor([[1., 1., 1.],\n",
      "        [1., 1., 1.]])\n",
      "torch.Size([2, 3])\n",
      "b -\n",
      "tensor([[1., 1.],\n",
      "        [1., 1.],\n",
      "        [1., 1.]])\n",
      "torch.Size([3, 2])\n",
      "\n",
      "Multiplication - \n",
      "tensor([[3., 3.],\n",
      "        [3., 3.]])\n"
     ]
    }
   ],
   "source": [
    "a = torch.ones(2,3)\n",
    "print(\"a -\")\n",
    "print(a)\n",
    "print(a.shape)\n",
    "\n",
    "print(\"b -\")\n",
    "b = torch.ones(3,2)\n",
    "print(b)\n",
    "print(b.shape)\n",
    "\n",
    "print(\"\\nMultiplication - \")\n",
    "print(torch.matmul(a,b))"
   ]
  },
  {
   "cell_type": "markdown",
   "id": "16b90fec-70c7-45bf-9627-289553f56619",
   "metadata": {},
   "source": [
    "## **Batch matrix matrix addition of tensors**"
   ]
  },
  {
   "cell_type": "code",
   "execution_count": 68,
   "id": "54440bb3-5aa3-4611-a98a-e6d3aefcbafc",
   "metadata": {},
   "outputs": [
    {
     "name": "stdout",
     "output_type": "stream",
     "text": [
      "a-\n",
      "tensor([[[1., 1., 1.],\n",
      "         [1., 1., 1.]],\n",
      "\n",
      "        [[1., 1., 1.],\n",
      "         [1., 1., 1.]]])\n",
      "torch.Size([2, 2, 3])\n",
      "b-\n",
      "tensor([[[1., 1.],\n",
      "         [1., 1.],\n",
      "         [1., 1.]],\n",
      "\n",
      "        [[1., 1.],\n",
      "         [1., 1.],\n",
      "         [1., 1.]]])\n",
      "torch.Size([2, 3, 2])\n",
      "m-\n",
      "tensor([[1., 1.],\n",
      "        [1., 1.]])\n",
      "torch.Size([2, 2])\n",
      "BMM- 2 .  3\n",
      "tensor([[20., 20.],\n",
      "        [20., 20.]])\n",
      "BMM- 1 .  1\n",
      "tensor([[7., 7.],\n",
      "        [7., 7.]])\n",
      "BMM-\n",
      "tensor([[7., 7.],\n",
      "        [7., 7.]])\n"
     ]
    },
    {
     "name": "stderr",
     "output_type": "stream",
     "text": [
      "/tmp/ipykernel_264/3813042772.py:19: UserWarning: This overload of addbmm is deprecated:\n",
      "\taddbmm(Number beta, Tensor input, Number alpha, Tensor batch1, Tensor batch2, *, Tensor out)\n",
      "Consider using one of the following signatures instead:\n",
      "\taddbmm(Tensor input, Tensor batch1, Tensor batch2, *, Number beta, Number alpha, Tensor out) (Triggered internally at  ../torch/csrc/utils/python_arg_parser.cpp:1050.)\n",
      "  print(torch.addbmm(2, m, 3, a, b))\n"
     ]
    }
   ],
   "source": [
    "a = torch .ones(2, 2, 3)\n",
    "print(\"a-\")\n",
    "print(a)                          \n",
    "print(a.shape)\n",
    "\n",
    "b = torch.ones(2, 3, 2)\n",
    "print(\"b-\")\n",
    "print(b)\n",
    "print(b.shape)\n",
    "\n",
    "print(\"m-\")\n",
    "m = torch.ones(2,2)\n",
    "                                                                      \n",
    "print(m)                                                                              \n",
    "print(m.shape)\n",
    "                                                                              \n",
    "\n",
    "print(\"BMM- 2 .  3\")\n",
    "print(torch.addbmm(2, m, 3, a, b))\n",
    "\n",
    "print(\"BMM- 1 .  1\")\n",
    "print(torch.addbmm(1, m, 1, a, b))\n",
    "\n",
    "\n",
    "print(\"BMM-\")\n",
    "print(torch.addbmm(m, a, b))"
   ]
  },
  {
   "cell_type": "markdown",
   "id": "9208c862-3d0f-41ea-bafc-c078b115ecec",
   "metadata": {},
   "source": [
    "## **Non Batch matrix matrix addition of tensors**"
   ]
  },
  {
   "cell_type": "code",
   "execution_count": 69,
   "id": "eb6baa51-0ad7-4fe0-9984-6a788283e2ea",
   "metadata": {},
   "outputs": [
    {
     "name": "stdout",
     "output_type": "stream",
     "text": [
      "a-\n",
      "tensor([[1., 1., 1.],\n",
      "        [1., 1., 1.]])\n",
      "torch.Size([2, 3])\n",
      "b-\n",
      "tensor([[1., 1.],\n",
      "        [1., 1.],\n",
      "        [1., 1.]])\n",
      "torch.Size([3, 2])\n",
      "m-\n",
      "tensor([[1., 1.],\n",
      "        [1., 1.]])\n",
      "torch.Size([2, 2])\n",
      "ADDMM\n",
      "tensor([[4., 4.],\n",
      "        [4., 4.]])\n",
      "ADDMM - 2 . 3\n",
      "tensor([[11., 11.],\n",
      "        [11., 11.]])\n",
      "ADDMM - 1 . 1\n",
      "tensor([[4., 4.],\n",
      "        [4., 4.]])\n"
     ]
    }
   ],
   "source": [
    "a = torch.ones(2, 3)\n",
    "print(\"a-\") \n",
    "print(a)\n",
    "print(a.shape)\n",
    "\n",
    "b = torch.ones(3, 2)\n",
    "print(\"b-\")        \n",
    "print(b)\n",
    "print(b.shape)\n",
    "\n",
    "m = torch.ones(2,2)\n",
    "print(\"m-\") \n",
    "                        \n",
    "print(m)\n",
    "print(m.shape)\n",
    "\n",
    "print(\"ADDMM\")\n",
    "print(torch.addmm(m, a, b))\n",
    "\n",
    "print(\"ADDMM - 2 . 3\")\n",
    "print(torch.addmm(2, m, 3, a, b))\n",
    "\n",
    "print(\"ADDMM - 1 . 1\")\n",
    "print(torch.addmm(1, m, 1, a, b))"
   ]
  },
  {
   "cell_type": "markdown",
   "id": "9afa705a-8e1d-43fa-9ba8-b5f3ccd88751",
   "metadata": {},
   "source": [
    "## **matrix vector addition of tensors**"
   ]
  },
  {
   "cell_type": "code",
   "execution_count": 70,
   "id": "0212fc52-f1ef-404c-9de2-42d828f26179",
   "metadata": {},
   "outputs": [
    {
     "name": "stdout",
     "output_type": "stream",
     "text": [
      "a - \n",
      "tensor([[1., 1., 1.],\n",
      "        [1., 1., 1.]])\n",
      "torch.Size([2, 3])\n",
      "b - \n",
      "tensor([1., 1., 1.])\n",
      "torch.Size([3])\n",
      "m - \n",
      "tensor([1., 1.])\n",
      "torch.Size([2])\n",
      "ADDMV- 2 . 2\n",
      "ADDMV- 1 . 1\n",
      "ADDMV-\n"
     ]
    },
    {
     "data": {
      "text/plain": [
       "tensor([4., 4.])"
      ]
     },
     "execution_count": 70,
     "metadata": {},
     "output_type": "execute_result"
    }
   ],
   "source": [
    "a = torch.ones(2, 3)\n",
    "print(\"a - \")        \n",
    "print(a)\n",
    "print(a.shape)\n",
    "\n",
    "\n",
    "b = torch.ones(3)\n",
    "print(\"b - \")        \n",
    "print(b)\n",
    "print(b.shape)\n",
    "\n",
    "m = torch.ones(2)\n",
    "print(\"m - \")        \n",
    "print(m)\n",
    "print(m.shape)\n",
    "        \n",
    "print(\"ADDMV- 2 . 2\")        \n",
    "torch.addmv(2,m,3,a,b)\n",
    "\n",
    "print(\"ADDMV- 1 . 1\")                \n",
    "torch.addmv(1,m,1,a,b)\n",
    "\n",
    "print(\"ADDMV-\")   \n",
    "torch.addmv(m,a,b)"
   ]
  },
  {
   "cell_type": "markdown",
   "id": "a42d9ec2-bd1c-46c2-8f44-923237d55eb3",
   "metadata": {},
   "source": [
    "## **Outer product of vectors**"
   ]
  },
  {
   "cell_type": "code",
   "execution_count": 71,
   "id": "69a2e53e-df05-4e72-9d26-82556cb20c2e",
   "metadata": {},
   "outputs": [
    {
     "name": "stdout",
     "output_type": "stream",
     "text": [
      "a - \n",
      "tensor([1., 2., 3.])\n",
      "torch.Size([3])\n",
      "m - \n",
      "tensor([[1., 1., 1.],\n",
      "        [1., 1., 1.],\n",
      "        [1., 1., 1.]])\n",
      "torch.Size([3, 3])\n",
      "ADDR -\n",
      "tensor([[ 2.,  3.,  4.],\n",
      "        [ 3.,  5.,  7.],\n",
      "        [ 4.,  7., 10.]])\n",
      "m - \n",
      "tensor([[0., 0., 0.],\n",
      "        [0., 0., 0.],\n",
      "        [0., 0., 0.]])\n",
      "ADDR -\n",
      "tensor([[1., 2., 3.],\n",
      "        [2., 4., 6.],\n",
      "        [3., 6., 9.]])\n"
     ]
    }
   ],
   "source": [
    "a = torch.tensor([1.0, 2.0, 3.0])\n",
    "print(\"a - \")        \n",
    "print(a)\n",
    "print(a.shape)\n",
    "\n",
    "\n",
    "b = a\n",
    "\n",
    "m = torch.ones(3,3)\n",
    "print(\"m - \")        \n",
    "print(m)\n",
    "print(m.shape)\n",
    "\n",
    "print(\"ADDR -\")                    \n",
    "print(torch.addr(m,a,b))\n",
    "        \n",
    "m = torch.zeros(3,3)\n",
    "\n",
    "print(\"m - \")        \n",
    "print(m)\n",
    "                \n",
    "print(\"ADDR -\")    \n",
    "print(torch.addr(m,a,b))"
   ]
  },
  {
   "cell_type": "markdown",
   "id": "cc6ef7f7-9a0a-4ee1-b96e-a9de38794227",
   "metadata": {},
   "source": [
    "## **Illustration for baddbmm**"
   ]
  },
  {
   "cell_type": "code",
   "execution_count": 72,
   "id": "79c19407-1d7d-4330-8cac-e19077ba8d36",
   "metadata": {},
   "outputs": [
    {
     "name": "stdout",
     "output_type": "stream",
     "text": [
      "a - \n",
      "tensor([[[1., 1., 1.],\n",
      "         [1., 1., 1.]],\n",
      "\n",
      "        [[1., 1., 1.],\n",
      "         [1., 1., 1.]]])\n",
      "torch.Size([2, 2, 3])\n",
      "b - \n",
      "tensor([[[1., 1.],\n",
      "         [1., 1.],\n",
      "         [1., 1.]],\n",
      "\n",
      "        [[1., 1.],\n",
      "         [1., 1.],\n",
      "         [1., 1.]]])\n",
      "torch.Size([2, 3, 2])\n",
      "m - \n",
      "tensor([[[1., 1.],\n",
      "         [1., 1.]],\n",
      "\n",
      "        [[1., 1.],\n",
      "         [1., 1.]]])\n",
      "torch.Size([2, 2, 2])\n",
      "BADDBMM - 1,m,1,a,b\n",
      "tensor([[[4., 4.],\n",
      "         [4., 4.]],\n",
      "\n",
      "        [[4., 4.],\n",
      "         [4., 4.]]])\n",
      "BADDBMM - 2,m,1,a,b\n",
      "tensor([[[5., 5.],\n",
      "         [5., 5.]],\n",
      "\n",
      "        [[5., 5.],\n",
      "         [5., 5.]]])\n",
      "BADDBMM - 1,m,3,a,b\n",
      "tensor([[[7., 7.],\n",
      "         [7., 7.]],\n",
      "\n",
      "        [[7., 7.],\n",
      "         [7., 7.]]])\n"
     ]
    }
   ],
   "source": [
    "a = torch.ones(2,2,3)\n",
    "print(\"a - \")        \n",
    "print(a)\n",
    "print(a.shape)\n",
    "                          \n",
    "b = torch.ones(2,3,2)\n",
    "print(\"b - \")        \n",
    "print(b)\n",
    "print(b.shape)                                                                      \n",
    "\n",
    "\n",
    "m = torch.ones(2, 2, 2)\n",
    "print(\"m - \")        \n",
    "print(m)\n",
    "print(m.shape)                                                                                                \n",
    "\n",
    "print(\"BADDBMM - 1,m,1,a,b\")\n",
    "print(torch.baddbmm(1,m,1,a,b))\n",
    "\n",
    "print(\"BADDBMM - 2,m,1,a,b\")\n",
    "print(torch.baddbmm(2,m,1,a,b))\n",
    "\n",
    "print(\"BADDBMM - 1,m,3,a,b\")\n",
    "print(torch.baddbmm(1,m,2,a,b))"
   ]
  },
  {
   "cell_type": "markdown",
   "id": "fa450a3d-0e3d-4d67-aaa6-6257a53ec6d8",
   "metadata": {},
   "source": [
    "## **Illustration for batch-wise matrix multiplication**"
   ]
  },
  {
   "cell_type": "code",
   "execution_count": 73,
   "id": "7055e3cd-854e-4128-ba1a-561f8339018d",
   "metadata": {},
   "outputs": [
    {
     "name": "stdout",
     "output_type": "stream",
     "text": [
      "a - \n",
      "tensor([[[1., 1., 1.],\n",
      "         [1., 1., 1.]],\n",
      "\n",
      "        [[1., 1., 1.],\n",
      "         [1., 1., 1.]]])\n",
      "torch.Size([2, 2, 3])\n",
      "b - \n",
      "tensor([[[1., 1.],\n",
      "         [1., 1.],\n",
      "         [1., 1.]],\n",
      "\n",
      "        [[1., 1.],\n",
      "         [1., 1.],\n",
      "         [1., 1.]]])\n",
      "torch.Size([2, 3, 2])\n",
      "BMM a.b\n",
      "tensor([[[3., 3.],\n",
      "         [3., 3.]],\n",
      "\n",
      "        [[3., 3.],\n",
      "         [3., 3.]]])\n"
     ]
    }
   ],
   "source": [
    "a = torch.ones(2,2,3)\n",
    "print(\"a - \")        \n",
    "print(a)\n",
    "print(a.shape)                                                                                                \n",
    "\n",
    "b = torch.ones(2,3,2)\n",
    "print(\"b - \")        \n",
    "print(b)\n",
    "print(b.shape)                                                                                                \n",
    "\n",
    "print(\"BMM a.b\")\n",
    "print(torch.bmm(a,b))"
   ]
  },
  {
   "cell_type": "markdown",
   "id": "7466e57b-7c06-4bda-b51f-26cf3d5d1afc",
   "metadata": {},
   "source": [
    "## **Dot product for tensors**"
   ]
  },
  {
   "cell_type": "code",
   "execution_count": 74,
   "id": "0ccec900-7007-4c20-b998-bcdc7b78edc2",
   "metadata": {},
   "outputs": [
    {
     "name": "stdout",
     "output_type": "stream",
     "text": [
      "a-\n",
      "tensor([0.1147, 0.2184, 0.0627])\n",
      "b-\n",
      "tensor([0.8914, 0.1353, 0.6794])\n",
      "Dot -- A.b\n",
      "tensor(0.1744)\n"
     ]
    }
   ],
   "source": [
    "a = torch.rand(3)\n",
    "print(\"a-\")\n",
    "print(a)\n",
    "\n",
    "b = torch.rand(3)\n",
    "print(\"b-\")\n",
    "print(b)\n",
    "\n",
    "print(\"Dot -- A.b\")\n",
    "print(torch.dot(a,b))"
   ]
  },
  {
   "cell_type": "markdown",
   "id": "a33909ff-2bc7-43c1-b64c-232035cab31e",
   "metadata": {},
   "source": [
    "## **Compute Eigen values**"
   ]
  },
  {
   "cell_type": "code",
   "execution_count": 75,
   "id": "f31523f3-2914-4d41-a24c-5164f3617665",
   "metadata": {},
   "outputs": [
    {
     "name": "stdout",
     "output_type": "stream",
     "text": [
      "a- tensor([[0.9575, 0.1461, 0.6842],\n",
      "        [0.5801, 0.0996, 0.1264],\n",
      "        [0.2193, 0.4995, 0.1721]])\n",
      "Values: tensor([[ 1.3189,  0.0000],\n",
      "        [-0.0448,  0.3092],\n",
      "        [-0.0448, -0.3092]])\n",
      "Vectors: tensor([[-0.8323,  0.4027,  0.2010],\n",
      "        [-0.4320,  0.1310, -0.5270],\n",
      "        [-0.3473, -0.7089,  0.0000]])\n",
      "tensor([[-1.0977],\n",
      "        [-0.5697],\n",
      "        [-0.4581]])\n",
      "tensor([[-1.0977],\n",
      "        [-0.5697],\n",
      "        [-0.4581]])\n"
     ]
    },
    {
     "name": "stderr",
     "output_type": "stream",
     "text": [
      "/tmp/ipykernel_264/93519019.py:4: UserWarning: torch.eig is deprecated in favor of torch.linalg.eig and will be removed in a future PyTorch release.\n",
      "torch.linalg.eig returns complex tensors of dtype cfloat or cdouble rather than real tensors mimicking complex tensors.\n",
      "L, _ = torch.eig(A)\n",
      "should be replaced with\n",
      "L_complex = torch.linalg.eigvals(A)\n",
      "and\n",
      "L, V = torch.eig(A, eigenvectors=True)\n",
      "should be replaced with\n",
      "L_complex, V_complex = torch.linalg.eig(A) (Triggered internally at  ../aten/src/ATen/native/BatchLinearAlgebra.cpp:2894.)\n",
      "  values, vectors = torch.eig(a, eigenvectors=True)\n"
     ]
    }
   ],
   "source": [
    "a = torch.rand(3,3)\n",
    "print(\"a-\",a)                \n",
    "\n",
    "values, vectors = torch.eig(a, eigenvectors=True)\n",
    "print(\"Values:\",values)\n",
    "print(\"Vectors:\",vectors)\n",
    "\n",
    "print(values[0,0] * vectors[:,0].reshape(3,1))\n",
    "print(torch.mm(a, vectors[:,0].reshape(3,1)))"
   ]
  },
  {
   "cell_type": "markdown",
   "id": "693ba2a4-57f3-4e5d-88d5-96ea8bbc1161",
   "metadata": {},
   "source": [
    "## **Cross product of two tensors**"
   ]
  },
  {
   "cell_type": "code",
   "execution_count": 76,
   "id": "288feaee-ce30-49ac-bd7c-7500d893a336",
   "metadata": {},
   "outputs": [
    {
     "name": "stdout",
     "output_type": "stream",
     "text": [
      "Cross Product \n",
      "tensor([ 0.0371,  0.2195, -0.3233])\n"
     ]
    }
   ],
   "source": [
    "a = torch.rand(3)\n",
    "b = torch.rand(3)\n",
    "\n",
    "print(\"Cross Product \")\n",
    "print(torch.cross(a,b))"
   ]
  },
  {
   "cell_type": "markdown",
   "id": "ead308da-9bd5-4adf-a692-5e510e9745ff",
   "metadata": {},
   "source": [
    "## **Compute the norm of a tensor**"
   ]
  },
  {
   "cell_type": "code",
   "execution_count": 77,
   "id": "937973e6-a22e-463e-8f88-3e1d3c3246be",
   "metadata": {},
   "outputs": [
    {
     "name": "stdout",
     "output_type": "stream",
     "text": [
      "Norm(a,1)-\n",
      "tensor(4.)\n",
      "Norm(a,2)-\n",
      "tensor(2.)\n",
      "Norm(a,3)-\n",
      "tensor(1.5874)\n",
      "Norm(a,4)-\n",
      "tensor(1.4142)\n",
      "Norm(a,5)-\n",
      "tensor(1.3195)\n",
      "Norm(a,Inf)-\n",
      "tensor(1.)\n"
     ]
    }
   ],
   "source": [
    "a = torch.ones(4)\n",
    "\n",
    "print(\"Norm(a,1)-\")\n",
    "print(torch.norm(a,1))\n",
    "\n",
    "print(\"Norm(a,2)-\")\n",
    "print(torch.norm(a,2))\n",
    "\n",
    "print(\"Norm(a,3)-\")\n",
    "print(torch.norm(a,3))\n",
    "\n",
    "print(\"Norm(a,4)-\")\n",
    "print(torch.norm(a,4))\n",
    "\n",
    "print(\"Norm(a,5)-\")\n",
    "print(torch.norm(a,5))\n",
    "\n",
    "print(\"Norm(a,Inf)-\")\n",
    "print(torch.norm(a,float('inf')))"
   ]
  },
  {
   "cell_type": "markdown",
   "id": "71afb5e4-1a2f-40bf-984d-3c956732442c",
   "metadata": {},
   "source": [
    "## **Normalize a tensor**"
   ]
  },
  {
   "cell_type": "code",
   "execution_count": 78,
   "id": "940089b4-6a81-4e44-9979-c986d7b310ef",
   "metadata": {},
   "outputs": [
    {
     "name": "stdout",
     "output_type": "stream",
     "text": [
      "a-\n",
      "tensor([[1., 2., 3., 4.]])\n",
      "renorm(a)\n",
      "tensor([[0.1826, 0.3651, 0.5477, 0.7303]])\n"
     ]
    }
   ],
   "source": [
    "a = torch.FloatTensor([[1,2,3,4]])\n",
    "print(\"a-\")\n",
    "print(a)\n",
    "\n",
    "print(\"renorm(a)\")\n",
    "print(torch.renorm(a, dim=0, p=2, maxnorm=1))"
   ]
  }
 ],
 "metadata": {
  "kernelspec": {
   "display_name": "Qiskit v0.34.2 (ipykernel)",
   "language": "python",
   "name": "python3"
  },
  "language_info": {
   "codemirror_mode": {
    "name": "ipython",
    "version": 3
   },
   "file_extension": ".py",
   "mimetype": "text/x-python",
   "name": "python",
   "nbconvert_exporter": "python",
   "pygments_lexer": "ipython3",
   "version": "3.8.12"
  },
  "widgets": {
   "application/vnd.jupyter.widget-state+json": {
    "state": {},
    "version_major": 2,
    "version_minor": 0
   }
  }
 },
 "nbformat": 4,
 "nbformat_minor": 5
}
