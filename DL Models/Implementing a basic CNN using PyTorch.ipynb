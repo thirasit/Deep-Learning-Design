{
 "cells": [
  {
   "cell_type": "markdown",
   "id": "c5e4aed7-a0b3-454a-9ba6-3b8412389f02",
   "metadata": {},
   "source": [
    "# **Implementing a basic CNN using PyTorch**"
   ]
  },
  {
   "cell_type": "markdown",
   "id": "d7e80608-2576-4efc-ae3a-0238366f3c77",
   "metadata": {},
   "source": [
    "## **Import required packages**"
   ]
  },
  {
   "cell_type": "code",
   "execution_count": 1,
   "id": "071fcab6-3d75-482f-945a-74c6fc7df864",
   "metadata": {},
   "outputs": [
    {
     "name": "stderr",
     "output_type": "stream",
     "text": [
      "<frozen importlib._bootstrap>:219: RuntimeWarning: scipy._lib.messagestream.MessageStream size changed, may indicate binary incompatibility. Expected 56 from C header, got 64 from PyObject\n"
     ]
    }
   ],
   "source": [
    "#pytorch utility imports\n",
    "import torch\n",
    "from torch.utils.data import DataLoader, TensorDataset\n",
    "\n",
    "#neural net imports\n",
    "import torch.nn as nn, torch.nn.functional as F, torch.optim as optim\n",
    "from torch.autograd import Variable\n",
    "\n",
    "#import external libraries\n",
    "import pandas as pd,numpy as np,matplotlib.pyplot as plt, os\n",
    "from sklearn.model_selection import train_test_split\n",
    "from sklearn.metrics import confusion_matrix, accuracy_score\n",
    "%matplotlib inline\n",
    "\n",
    "#Set device to GPU or CPU based on availability\n",
    "if torch.cuda.is_available():\n",
    "    device = torch.device('cuda')\n",
    "else:\n",
    "    device = torch.device('cpu')"
   ]
  },
  {
   "cell_type": "markdown",
   "id": "b31758c7-32a9-43c0-bf7f-7b678a7ebbcd",
   "metadata": {},
   "source": [
    "## **Load dataset into memory**"
   ]
  },
  {
   "cell_type": "code",
   "execution_count": 3,
   "id": "4f1a49d7-f587-4948-b6f1-5b9a369dcf6e",
   "metadata": {},
   "outputs": [
    {
     "data": {
      "image/png": "[encoded data removed]",
      "text/plain": [
       "<Figure size 432x288 with 6 Axes>"
      ]
     },
     "metadata": {
      "needs_background": "light"
     },
     "output_type": "display_data"
    }
   ],
   "source": [
    "input_folder_path = \"input/data/MNIST/\"\n",
    "\n",
    "#The CSV contains a flat file of images, \n",
    "#i.e. each 28*28 image is flattened into a row of 784 colums \n",
    "#(1 column represents a pixel value)\n",
    "#For CNN, we would need to reshape this to our desired shape\n",
    "\n",
    "train_df = pd.read_csv(input_folder_path+\"train.csv\")\n",
    "\n",
    "#First column is the target/label\n",
    "train_labels = train_df['label'].values\n",
    "\n",
    "#Pixels values start from the 2nd column\n",
    "train_images = (train_df.iloc[:,1:].values).astype('float32')\n",
    "\n",
    "#Training and Validation Split\n",
    "train_images, val_images, train_labels, val_labels = train_test_split(\n",
    "train_images, train_labels, random_state=2020, test_size=0.2)\n",
    "\n",
    "#Here we reshape the flat row into [#images,#Channels,#Width,#Height]\n",
    "#Given this a simple grayscale image, we will have just 1 channel\n",
    "train_images = train_images.reshape(train_images.shape[0],1,28, 28)\n",
    "val_images = val_images.reshape(val_images.shape[0],1,28, 28)\n",
    "\n",
    "#Also, let's plot few samples\n",
    "for i in range(0, 6):\n",
    "    plt.subplot(160 + (i+1))\n",
    "    plt.imshow(train_images[i].reshape(28,28), cmap=plt.get_cmap('gray'))\n",
    "    plt.title(train_labels[i])"
   ]
  },
  {
   "cell_type": "markdown",
   "id": "eda749b9-04fd-4b06-9c3a-34ff891af99b",
   "metadata": {},
   "source": [
    "## **Normalize data and prepare train/val datasets**"
   ]
  },
  {
   "cell_type": "code",
   "execution_count": 4,
   "id": "df0798b6-00f3-438b-9ab7-f0d1c914dbc4",
   "metadata": {},
   "outputs": [
    {
     "name": "stdout",
     "output_type": "stream",
     "text": [
      "Train Labels Shape: torch.Size([33600])\n",
      "Train Images Shape: torch.Size([33600, 1, 28, 28])\n",
      "Validation Labels Shape: torch.Size([8400])\n",
      "Validation Images Shape: torch.Size([8400, 1, 28, 28])\n"
     ]
    }
   ],
   "source": [
    "#Covert Train Images from pandas/numpy to tensor and normalize the values\n",
    "train_images_tensor = torch.tensor(train_images)/255.0\n",
    "train_images_tensor = train_images_tensor.view(-1,1,28,28)\n",
    "train_labels_tensor = torch.tensor(train_labels)\n",
    "\n",
    "#Create a train TensorDataset\n",
    "train_tensor = TensorDataset(train_images_tensor, train_labels_tensor)\n",
    "\n",
    "#Covert Validation Images from pandas/numpy to tensor and normalize the values\n",
    "val_images_tensor = torch.tensor(val_images)/255.0\n",
    "val_images_tensor = val_images_tensor.view(-1,1,28,28)\n",
    "val_labels_tensor = torch.tensor(val_labels)\n",
    "\n",
    "#Create a Validation TensorDataset\n",
    "val_tensor = TensorDataset(val_images_tensor, val_labels_tensor)\n",
    "\n",
    "print(\"Train Labels Shape:\",train_labels_tensor.shape)\n",
    "print(\"Train Images Shape:\",train_images_tensor.shape)\n",
    "print(\"Validation Labels Shape:\",val_labels_tensor.shape)\n",
    "print(\"Validation Images Shape:\",val_images_tensor.shape)\n",
    "\n",
    "#Load Train and Validation TensorDatasets into the data generator for Training \n",
    "train_loader = DataLoader(train_tensor, batch_size=64\n",
    ", num_workers=2, shuffle=True)\n",
    "val_loader = DataLoader(val_tensor, batch_size=64, num_workers=2, shuffle=True)"
   ]
  },
  {
   "cell_type": "markdown",
   "id": "66f44695-0789-4bf3-9872-9e7a0b29fd91",
   "metadata": {},
   "source": [
    "## **Define Convolutional Neural Network, function to train and predict**"
   ]
  },
  {
   "cell_type": "code",
   "execution_count": 5,
   "id": "1c2c4a91-d681-484b-b624-1f771d2f4a93",
   "metadata": {},
   "outputs": [],
   "source": [
    "#Define conv-net\n",
    "class ConvNet(nn.Module):\n",
    "    def __init__(self, num_classes=10):\n",
    "        super(ConvNet, self).__init__()\n",
    "        #First unit of convolution\n",
    "        self.conv_unit_1 = nn.Sequential(\n",
    "            nn.Conv2d(1, 16, kernel_size=3, stride=1, padding=1),\n",
    "            nn.BatchNorm2d(16),\n",
    "            nn.ReLU(),\n",
    "            nn.MaxPool2d(kernel_size=2, stride=2))\n",
    "\n",
    "        #Second unit of convolution        \n",
    "        self.conv_unit_2 = nn.Sequential(\n",
    "            nn.Conv2d(16, 32, kernel_size=3, stride=1, padding=1),\n",
    "            nn.BatchNorm2d(32),\n",
    "            nn.ReLU(),\n",
    "            nn.MaxPool2d(kernel_size=2, stride=2))\n",
    "\n",
    "        #Fully connected layers\n",
    "        self.fc1 = nn.Linear(7*7*32, 128)       \n",
    "        self.fc2 = nn.Linear(128, 10)        \n",
    "    \n",
    "    #Connect the units\n",
    "    def forward(self, x):       \n",
    "        out = self.conv_unit_1(x)\n",
    "        out = self.conv_unit_2(out)\n",
    "        out = out.view(out.size(0), -1)\n",
    "        out = self.fc1(out)\n",
    "        out = self.fc2(out)        \n",
    "        out = F.log_softmax(out,dim=1)                                \n",
    "        return out\n",
    "\n",
    "#Define Functions for Model Evaluation and generating Predictions    \n",
    "def make_predictions(data_loader):\n",
    "    #Explcitly set the model to eval mode\n",
    "    model.eval()\n",
    "    test_preds = torch.LongTensor()\n",
    "    actual = torch.LongTensor()\n",
    "    \n",
    "    for data, target in data_loader:\n",
    "        \n",
    "        if torch.cuda.is_available():\n",
    "            data = data.cuda()\n",
    "        output = model(data)\n",
    "\n",
    "        #Predict output/Take the index of the output with max value\n",
    "        preds = output.cpu().data.max(1, keepdim=True)[1]\n",
    "\n",
    "        #Combine tensors from each batch\n",
    "        test_preds = torch.cat((test_preds, preds), dim=0)\n",
    "        actual  = torch.cat((actual,target),dim=0)\n",
    "        \n",
    "    return actual,test_preds\n",
    "\n",
    "#Evalute model\n",
    "def evaluate(data_loader):\n",
    "    model.eval()\n",
    "    loss = 0\n",
    "    correct = 0\n",
    "    \n",
    "    for data, target in data_loader:        \n",
    "        if torch.cuda.is_available():\n",
    "            data = data.cuda()\n",
    "            target = target.cuda()\n",
    "        output = model(data)\n",
    "        loss += F.cross_entropy(output, target, size_average=False).data.item()\n",
    "        predicted = output.data.max(1, keepdim=True)[1]   \n",
    "        correct += (target.reshape(-1,1) == predicted.reshape(-1,1)).float().sum()        \n",
    "        \n",
    "    loss /= len(data_loader.dataset)\n",
    "        \n",
    "    print('\\nAverage Val Loss: {:.4f}, Val Accuracy: {}/{} ({:.3f}%)\\n'.format(\n",
    "        loss, correct, len(data_loader.dataset),\n",
    "        100. * correct / len(data_loader.dataset)))  "
   ]
  },
  {
   "cell_type": "markdown",
   "id": "87225197-a222-470f-b8a1-4d4adc678953",
   "metadata": {},
   "source": [
    "## **Create model instance, define Loss and optimizer**"
   ]
  },
  {
   "cell_type": "code",
   "execution_count": 6,
   "id": "98cdee07-7887-46b6-975c-45ce4f665cc1",
   "metadata": {},
   "outputs": [
    {
     "name": "stdout",
     "output_type": "stream",
     "text": [
      "ConvNet(\n",
      "  (conv_unit_1): Sequential(\n",
      "    (0): Conv2d(1, 16, kernel_size=(3, 3), stride=(1, 1), padding=(1, 1))\n",
      "    (1): BatchNorm2d(16, eps=1e-05, momentum=0.1, affine=True, track_running_stats=True)\n",
      "    (2): ReLU()\n",
      "    (3): MaxPool2d(kernel_size=2, stride=2, padding=0, dilation=1, ceil_mode=False)\n",
      "  )\n",
      "  (conv_unit_2): Sequential(\n",
      "    (0): Conv2d(16, 32, kernel_size=(3, 3), stride=(1, 1), padding=(1, 1))\n",
      "    (1): BatchNorm2d(32, eps=1e-05, momentum=0.1, affine=True, track_running_stats=True)\n",
      "    (2): ReLU()\n",
      "    (3): MaxPool2d(kernel_size=2, stride=2, padding=0, dilation=1, ceil_mode=False)\n",
      "  )\n",
      "  (fc1): Linear(in_features=1568, out_features=128, bias=True)\n",
      "  (fc2): Linear(in_features=128, out_features=10, bias=True)\n",
      ")\n"
     ]
    }
   ],
   "source": [
    "#Create Model  instance\n",
    "model = ConvNet(10).to(device)\n",
    "\n",
    "#Define Loss and optimizer\n",
    "criterion = nn.CrossEntropyLoss()\n",
    "optimizer = torch.optim.Adam(model.parameters(), lr=0.001)    \n",
    "print(model)"
   ]
  },
  {
   "cell_type": "markdown",
   "id": "b6055c9d-3ffe-4f4b-b145-c18bd674d47d",
   "metadata": {},
   "source": [
    "## **Model training**"
   ]
  },
  {
   "cell_type": "code",
   "execution_count": 7,
   "id": "72d7eb6f-cb2e-4642-afc2-73fcd6aecea4",
   "metadata": {},
   "outputs": [
    {
     "name": "stdout",
     "output_type": "stream",
     "text": [
      "Epoch [1/5], Loss: 0.0940\n"
     ]
    },
    {
     "name": "stderr",
     "output_type": "stream",
     "text": [
      "/opt/conda/lib/python3.8/site-packages/torch/nn/_reduction.py:42: UserWarning: size_average and reduce args will be deprecated, please use reduction='sum' instead.\n",
      "  warnings.warn(warning.format(ret))\n"
     ]
    },
    {
     "name": "stdout",
     "output_type": "stream",
     "text": [
      "\n",
      "Average Val Loss: 0.0792, Val Accuracy: 8165.0/8400 (97.202%)\n",
      "\n",
      "Epoch [2/5], Loss: 0.0349\n",
      "\n",
      "Average Val Loss: 0.0518, Val Accuracy: 8265.0/8400 (98.393%)\n",
      "\n",
      "Epoch [3/5], Loss: 0.0540\n",
      "\n",
      "Average Val Loss: 0.0515, Val Accuracy: 8262.0/8400 (98.357%)\n",
      "\n",
      "Epoch [4/5], Loss: 0.0047\n",
      "\n",
      "Average Val Loss: 0.0562, Val Accuracy: 8254.0/8400 (98.262%)\n",
      "\n",
      "Epoch [5/5], Loss: 0.0596\n",
      "\n",
      "Average Val Loss: 0.0568, Val Accuracy: 8271.0/8400 (98.464%)\n",
      "\n"
     ]
    }
   ],
   "source": [
    "num_epochs = 5\n",
    "\n",
    "# Train the model\n",
    "total_step = len(train_loader)\n",
    "for epoch in range(num_epochs):\n",
    "    for i, (images, labels) in enumerate(train_loader):\n",
    "        images = images.to(device)\n",
    "        labels = labels.to(device)\n",
    "        \n",
    "        # Forward pass\n",
    "        outputs = model(images)\n",
    "        loss = criterion(outputs, labels)\n",
    "        \n",
    "        # Backward and optimize\n",
    "        optimizer.zero_grad()\n",
    "        loss.backward()\n",
    "        optimizer.step()        \n",
    "        \n",
    "    #After each epoch print Train loss and validation loss + accuracy\n",
    "    print ('Epoch [{}/{}], Loss: {:.4f}' .format(epoch+1, num_epochs, loss.item()))\n",
    "    evaluate(val_loader)"
   ]
  },
  {
   "cell_type": "markdown",
   "id": "58773116-63e5-4a77-a3b5-9ea04d29d437",
   "metadata": {},
   "source": [
    "## **Make predictions**"
   ]
  },
  {
   "cell_type": "code",
   "execution_count": 9,
   "id": "3b342f8c-4e75-456c-9073-d4a3841ccc3b",
   "metadata": {},
   "outputs": [
    {
     "name": "stdout",
     "output_type": "stream",
     "text": [
      "Validation Accuracy- 98.46000000000001\n",
      "\n",
      " Confusion Matrix\n",
      " [[810   0   2   1   0   0   2   0   1   1]\n",
      " [  1 925   2   1   0   0   0   2   2   1]\n",
      " [  0   0 830   2   1   0   0   0   0   0]\n",
      " [  0   1   7 858   0   2   0   1   0   2]\n",
      " [  1   0   0   0 851   0   0   0   1   2]\n",
      " [  0   0   2   6   0 724   3   0   2   0]\n",
      " [  1   0   1   1   0   0 798   0   1   0]\n",
      " [  0   1   7   0   4   0   0 875   2   3]\n",
      " [  3   4   7   3   3   2   5   0 805   2]\n",
      " [  0   0   0   0  20   1   0   7   2 795]]\n"
     ]
    }
   ],
   "source": [
    "#Make Predictions on Validation Dataset\n",
    "\n",
    "actual, predicted = make_predictions(val_loader)\n",
    "actual,predicted = np.array(actual).reshape(-1,1),np.array(predicted).reshape(-1,1)\n",
    "\n",
    "print(\"Validation Accuracy-\",round(accuracy_score(actual,predicted),4)*100)\n",
    "print(\"\\n Confusion Matrix\\n\",confusion_matrix(actual,predicted))"
   ]
  }
 ],
 "metadata": {
  "kernelspec": {
   "display_name": "Qiskit v0.34.2 (ipykernel)",
   "language": "python",
   "name": "python3"
  },
  "language_info": {
   "codemirror_mode": {
    "name": "ipython",
    "version": 3
   },
   "file_extension": ".py",
   "mimetype": "text/x-python",
   "name": "python",
   "nbconvert_exporter": "python",
   "pygments_lexer": "ipython3",
   "version": "3.8.12"
  },
  "widgets": {
   "application/vnd.jupyter.widget-state+json": {
    "state": {},
    "version_major": 2,
    "version_minor": 0
   }
  }
 },
 "nbformat": 4,
 "nbformat_minor": 5
}
