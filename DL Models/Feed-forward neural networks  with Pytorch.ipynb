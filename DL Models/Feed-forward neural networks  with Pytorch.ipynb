{
 "cells": [
  {
   "cell_type": "markdown",
   "id": "000e8aa8-acb6-42a1-a4b7-3c92c4eb15b0",
   "metadata": {},
   "source": [
    "# **Feed-forward neural networks with Pytorch**"
   ]
  },
  {
   "cell_type": "code",
   "execution_count": 1,
   "id": "82b9fb52-798b-4520-97c1-4be401472898",
   "metadata": {},
   "outputs": [
    {
     "name": "stderr",
     "output_type": "stream",
     "text": [
      "<frozen importlib._bootstrap>:219: RuntimeWarning: scipy._lib.messagestream.MessageStream size changed, may indicate binary incompatibility. Expected 56 from C header, got 64 from PyObject\n"
     ]
    }
   ],
   "source": [
    "# Importing necessary packages\n",
    "\n",
    "#Import required libraries\n",
    "import torch as tch\n",
    "import torch.nn as nn\n",
    "\n",
    "import numpy as np\n",
    "\n",
    "from sklearn.datasets import make_blobs\n",
    "from matplotlib import pyplot"
   ]
  },
  {
   "cell_type": "code",
   "execution_count": 2,
   "id": "a8c53aa4-7576-470e-9412-f4ec38951dd5",
   "metadata": {},
   "outputs": [
    {
     "name": "stdout",
     "output_type": "stream",
     "text": [
      "X_train.shape: torch.Size([4000, 64])\n",
      "x_test.shape: torch.Size([1000, 64])\n",
      "Y_train.shape: torch.Size([4000, 1])\n",
      "y_test.shape: torch.Size([1000, 1])\n",
      "X.dtype torch.float32\n",
      "y.dtype torch.float32\n"
     ]
    }
   ],
   "source": [
    "# Creating a toy dataset\n",
    "\n",
    "samples = 5000\n",
    "\n",
    "#Let’s divide the toy dataset into training (80%) and rest for validation.\n",
    "train_split = int(samples*0.8)\n",
    "\n",
    "#Create a dummy classification dataset\n",
    "X, y = make_blobs(n_samples=samples, centers=2, n_features=64, cluster_std=10, random_state=2020)\n",
    "y = y.reshape(-1,1)\n",
    "\n",
    "#Convert the numpy datasets to Torch Tensors\n",
    "X,y = tch.from_numpy(X),tch.from_numpy(y)\n",
    "X,y =X.float(),y.float()\n",
    "\n",
    "#Split the datasets inot train and test(validation)\n",
    "X_train, x_test = X[:train_split], X[train_split:]\n",
    "Y_train, y_test = y[:train_split], y[train_split:]\n",
    "\n",
    "#Print shapes of each dataset\n",
    "print(\"X_train.shape:\",X_train.shape)\n",
    "print(\"x_test.shape:\",x_test.shape)\n",
    "print(\"Y_train.shape:\",Y_train.shape)\n",
    "print(\"y_test.shape:\",y_test.shape)\n",
    "print(\"X.dtype\",X.dtype)\n",
    "print(\"y.dtype\",y.dtype)"
   ]
  },
  {
   "cell_type": "code",
   "execution_count": 3,
   "id": "644451b6-1576-4224-bd2c-6e9af44425d7",
   "metadata": {},
   "outputs": [],
   "source": [
    "# Define a feed forward neural network\n",
    "\n",
    "#Define a neural network with 3 hidden layers and 1 output layer\n",
    "#Hidden Layers will have 64,256 and 1024 neurons\n",
    "#Output layers will have 1 neuron\n",
    "\n",
    "class NeuralNetwork(nn.Module):\n",
    "    \n",
    "    def __init__(self):\n",
    "        super().__init__()\n",
    "        tch.manual_seed(2020)\n",
    "        self.fc1 = nn.Linear(64, 256)\n",
    "        self.relu1 = nn.ReLU()\n",
    "        self.fc2 = nn.Linear(256, 1024)\n",
    "        self.relu2 = nn.ReLU()\n",
    "        self.out = nn.Linear(1024, 1)\n",
    "        self.final = nn.Sigmoid()\n",
    "        \n",
    "    def forward(self, x):\n",
    "        op = self.fc1(x)\n",
    "        op = self.relu1(op)        \n",
    "        op = self.fc2(op)\n",
    "        op = self.relu2(op)\n",
    "        op = self.out(op)\n",
    "        y = self.final(op)\n",
    "        return y"
   ]
  },
  {
   "cell_type": "code",
   "execution_count": 4,
   "id": "d6ce21b3-d904-48d0-ae75-5d06c25d6440",
   "metadata": {},
   "outputs": [
    {
     "name": "stdout",
     "output_type": "stream",
     "text": [
      "Epoch: 1 - Loss:107.9976\n",
      "Epoch: 2 - Loss:8.7378\n",
      "Epoch: 3 - Loss:8.2709\n",
      "Epoch: 4 - Loss:0.8969\n",
      "Epoch: 5 - Loss:0.2221\n",
      "Epoch: 6 - Loss:0.0017\n",
      "Epoch: 7 - Loss:0.0016\n",
      "Epoch: 8 - Loss:0.0014\n",
      "Epoch: 9 - Loss:0.0012\n",
      "Epoch: 10 - Loss:0.0011\n"
     ]
    }
   ],
   "source": [
    "# Define loss, optimizer and Training function for  neural network\n",
    "\n",
    "#Define function for training a network\n",
    "def train_network(model,optimizer,loss_function \\\n",
    ",num_epochs,batch_size,X_train,Y_train):\n",
    "    #Explicitly start model training\n",
    "    model.train()\n",
    "\n",
    "    loss_across_epochs = []\n",
    "    for epoch in range(num_epochs):\n",
    "        train_loss= 0.0\n",
    "\n",
    "\n",
    "        for i in range(0,X_train.shape[0],batch_size):\n",
    "\n",
    "            #Extract train batch from X and Y\n",
    "            input_data = X_train[i:min(X_train.shape[0],i+batch_size)]\n",
    "            labels = Y_train[i:min(X_train.shape[0],i+batch_size)]\n",
    "\n",
    "            #set the gradients to zero before starting to do backpropragation \n",
    "            optimizer.zero_grad()\n",
    "\n",
    "            #Forward pass\n",
    "            output_data  = model(input_data)\n",
    "\n",
    "            #Caculate loss\n",
    "            loss = loss_function(output_data, labels)\n",
    "\n",
    "            #Backpropogate\n",
    "            loss.backward()\n",
    "\n",
    "            #Update weights\n",
    "            optimizer.step()\n",
    "\n",
    "            train_loss += loss.item() * batch_size\n",
    "\n",
    "        print(\"Epoch: {} - Loss:{:.4f}\".format(epoch+1,train_loss ))\n",
    "        loss_across_epochs.extend([train_loss])        \n",
    "\n",
    "    #Predict\n",
    "    y_test_pred = model(x_test)\n",
    "    a =np.where(y_test_pred>0.5,1,0)\n",
    "    return(loss_across_epochs)\n",
    "###------------END OF FUNCTION--------------\n",
    "\n",
    "#Create an object of the Neural Network class\n",
    "model = NeuralNetwork()\n",
    "\n",
    "#Define loss function\n",
    "loss_function = nn.BCELoss()  #Binary Crosss Entropy Loss\n",
    "\n",
    "#Define Optimizer\n",
    "adam_optimizer = tch.optim.Adam(model.parameters(),lr= 0.001)\n",
    "\n",
    "#Define epochs and batch size\n",
    "num_epochs = 10\n",
    "batch_size=16\n",
    "\n",
    "\n",
    "#Calling the function for training and pass model, optimizer, loss and related paramters\n",
    "adam_loss = train_network(model,adam_optimizer \\\n",
    ",loss_function,num_epochs,batch_size,X_train,Y_train)"
   ]
  },
  {
   "cell_type": "code",
   "execution_count": 5,
   "id": "11e881e6-8eea-4118-99f6-cf5f230e11d2",
   "metadata": {},
   "outputs": [
    {
     "name": "stdout",
     "output_type": "stream",
     "text": [
      "RMSProp...\n",
      "Epoch: 1 - Loss:6403.0953\n",
      "Epoch: 2 - Loss:5119.7601\n",
      "Epoch: 3 - Loss:1232.0223\n",
      "Epoch: 4 - Loss:4766.0770\n",
      "Epoch: 5 - Loss:1206.2896\n",
      "Epoch: 6 - Loss:924.4163\n",
      "Epoch: 7 - Loss:1657.4756\n",
      "Epoch: 8 - Loss:4347.9244\n",
      "Epoch: 9 - Loss:1150.4940\n",
      "Epoch: 10 - Loss:1296.6181\n",
      "Adam...\n",
      "Epoch: 1 - Loss:107.9976\n",
      "Epoch: 2 - Loss:8.7378\n",
      "Epoch: 3 - Loss:8.2709\n",
      "Epoch: 4 - Loss:0.8969\n",
      "Epoch: 5 - Loss:0.2221\n",
      "Epoch: 6 - Loss:0.0017\n",
      "Epoch: 7 - Loss:0.0016\n",
      "Epoch: 8 - Loss:0.0014\n",
      "Epoch: 9 - Loss:0.0012\n",
      "Epoch: 10 - Loss:0.0011\n",
      "SGD...\n",
      "Epoch: 1 - Loss:915.0231\n",
      "Epoch: 2 - Loss:1155.3803\n",
      "Epoch: 3 - Loss:519.4835\n",
      "Epoch: 4 - Loss:598.0285\n",
      "Epoch: 5 - Loss:598.0285\n",
      "Epoch: 6 - Loss:598.0285\n",
      "Epoch: 7 - Loss:598.0285\n",
      "Epoch: 8 - Loss:598.0285\n",
      "Epoch: 9 - Loss:598.0285\n",
      "Epoch: 10 - Loss:598.0285\n"
     ]
    },
    {
     "data": {
      "image/png": "[encoded data removed]",
      "text/plain": [
       "<Figure size 432x288 with 1 Axes>"
      ]
     },
     "metadata": {
      "needs_background": "light"
     },
     "output_type": "display_data"
    }
   ],
   "source": [
    "# Train model with various optimizers\n",
    "\n",
    "#Define loss function\n",
    "loss_function = nn.BCELoss()  #Binary Crosss Entropy Loss\n",
    "num_epochs = 10\n",
    "batch_size=16\n",
    "\n",
    "#Define a model object from the class defined earlier\n",
    "model = NeuralNetwork()\n",
    "\n",
    "#Train network using RMSProp optimizer\n",
    "rmsprp_optimizer = tch.optim.RMSprop(model.parameters()\n",
    ", lr=0.01, alpha=0.9\n",
    ", eps=1e-08, weight_decay=0.1\n",
    ", momentum=0.1, centered=True)\n",
    "print(\"RMSProp...\")\n",
    "rmsprop_loss = train_network(model,rmsprp_optimizer,loss_function\n",
    ",num_epochs,batch_size,X_train,Y_train)\n",
    "\n",
    "#Train network using Adam optimizer\n",
    "\n",
    "model = NeuralNetwork()\n",
    "adam_optimizer = tch.optim.Adam(model.parameters(),lr= 0.001)\n",
    "print(\"Adam...\")\n",
    "adam_loss = train_network(model,adam_optimizer,loss_function\n",
    ",num_epochs,batch_size,X_train,Y_train)\n",
    "\n",
    "#Train network using SGD optimizer\n",
    "\n",
    "model = NeuralNetwork()\n",
    "sgd_optimizer = tch.optim.SGD(model.parameters(), lr=0.01, momentum=0.9)\n",
    "print(\"SGD...\")\n",
    "sgd_loss = train_network(model,sgd_optimizer,loss_function\n",
    ",num_epochs,batch_size,X_train,Y_train) \n",
    "\n",
    "#Plot the losses for each optimizer across epochs\n",
    "import matplotlib.pyplot as plt\n",
    "%matplotlib inline\n",
    "\n",
    "epochs = range(0,10)\n",
    "\n",
    "ax = plt.subplot(111)\n",
    "ax.plot(adam_loss,label=\"ADAM\")\n",
    "ax.plot(sgd_loss,label=\"SGD\")\n",
    "ax.plot(rmsprop_loss,label=\"RMSProp\")\n",
    "ax.legend()\n",
    "plt.xlabel(\"Epochs\")\n",
    "plt.ylabel(\"Overall Loss\")\n",
    "plt.title(\"Loss across epochs for different optimizers\")\n",
    "plt.show()"
   ]
  }
 ],
 "metadata": {
  "kernelspec": {
   "display_name": "Qiskit v0.34.2 (ipykernel)",
   "language": "python",
   "name": "python3"
  },
  "language_info": {
   "codemirror_mode": {
    "name": "ipython",
    "version": 3
   },
   "file_extension": ".py",
   "mimetype": "text/x-python",
   "name": "python",
   "nbconvert_exporter": "python",
   "pygments_lexer": "ipython3",
   "version": "3.8.12"
  },
  "widgets": {
   "application/vnd.jupyter.widget-state+json": {
    "state": {},
    "version_major": 2,
    "version_minor": 0
   }
  }
 },
 "nbformat": 4,
 "nbformat_minor": 5
}
