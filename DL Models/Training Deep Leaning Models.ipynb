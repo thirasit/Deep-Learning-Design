{
 "cells": [
  {
   "cell_type": "markdown",
   "id": "8a81458c-bb3d-4627-8e9d-4779e30e7115",
   "metadata": {},
   "source": [
    "# **Training Deep Leaning Models**"
   ]
  },
  {
   "cell_type": "markdown",
   "id": "5e045649-7c75-4715-851f-b450e71317fb",
   "metadata": {},
   "source": [
    "* The original dataset was sourced from UCI Machine Learning Repository and was contributed by [Moro et al., 2014].\n",
    "https://www.kaggle.com/janiobachmann/bank-marketing-dataset."
   ]
  },
  {
   "cell_type": "markdown",
   "id": "13a643f0-d44a-49d3-add6-6851b99b3c7d",
   "metadata": {},
   "source": [
    "## **Import required libraries**"
   ]
  },
  {
   "cell_type": "code",
   "execution_count": 1,
   "id": "0cc5c43a-bef6-4feb-b8ef-760c72bbadc1",
   "metadata": {},
   "outputs": [
    {
     "name": "stderr",
     "output_type": "stream",
     "text": [
      "<frozen importlib._bootstrap>:219: RuntimeWarning: scipy._lib.messagestream.MessageStream size changed, may indicate binary incompatibility. Expected 56 from C header, got 64 from PyObject\n"
     ]
    }
   ],
   "source": [
    "#Import required libraries\n",
    "import torch.nn as nn\n",
    "import torch as tch\n",
    "import numpy as np, pandas as pd\n",
    "from sklearn.metrics import confusion_matrix, accuracy_score\n",
    "from sklearn.metrics import  precision_score, recall_score,roc_curve, auc, roc_auc_score\n",
    "from sklearn.model_selection import train_test_split\n",
    "from sklearn.utils import shuffle\n",
    "import matplotlib.pyplot as plt"
   ]
  },
  {
   "cell_type": "markdown",
   "id": "1e0081bf-7e0e-496d-8936-eb50a4e3e6f0",
   "metadata": {},
   "source": [
    "## **Load data into memory**"
   ]
  },
  {
   "cell_type": "code",
   "execution_count": 2,
   "id": "49f23bcf-5515-4269-8da6-5e7e5c8b10dd",
   "metadata": {},
   "outputs": [
    {
     "name": "stdout",
     "output_type": "stream",
     "text": [
      "DF Shape: (11162, 17)\n"
     ]
    },
    {
     "data": {
      "text/html": [
       "<div>\n",
       "<style scoped>\n",
       "    .dataframe tbody tr th:only-of-type {\n",
       "        vertical-align: middle;\n",
       "    }\n",
       "\n",
       "    .dataframe tbody tr th {\n",
       "        vertical-align: top;\n",
       "    }\n",
       "\n",
       "    .dataframe thead th {\n",
       "        text-align: right;\n",
       "    }\n",
       "</style>\n",
       "<table border=\"1\" class=\"dataframe\">\n",
       "  <thead>\n",
       "    <tr style=\"text-align: right;\">\n",
       "      <th></th>\n",
       "      <th>age</th>\n",
       "      <th>job</th>\n",
       "      <th>marital</th>\n",
       "      <th>education</th>\n",
       "      <th>default</th>\n",
       "      <th>balance</th>\n",
       "      <th>housing</th>\n",
       "      <th>loan</th>\n",
       "      <th>contact</th>\n",
       "      <th>day</th>\n",
       "      <th>month</th>\n",
       "      <th>duration</th>\n",
       "      <th>campaign</th>\n",
       "      <th>pdays</th>\n",
       "      <th>previous</th>\n",
       "      <th>poutcome</th>\n",
       "      <th>deposit</th>\n",
       "    </tr>\n",
       "  </thead>\n",
       "  <tbody>\n",
       "    <tr>\n",
       "      <th>0</th>\n",
       "      <td>59</td>\n",
       "      <td>admin.</td>\n",
       "      <td>married</td>\n",
       "      <td>secondary</td>\n",
       "      <td>no</td>\n",
       "      <td>2343</td>\n",
       "      <td>yes</td>\n",
       "      <td>no</td>\n",
       "      <td>unknown</td>\n",
       "      <td>5</td>\n",
       "      <td>may</td>\n",
       "      <td>1042</td>\n",
       "      <td>1</td>\n",
       "      <td>-1</td>\n",
       "      <td>0</td>\n",
       "      <td>unknown</td>\n",
       "      <td>yes</td>\n",
       "    </tr>\n",
       "    <tr>\n",
       "      <th>1</th>\n",
       "      <td>56</td>\n",
       "      <td>admin.</td>\n",
       "      <td>married</td>\n",
       "      <td>secondary</td>\n",
       "      <td>no</td>\n",
       "      <td>45</td>\n",
       "      <td>no</td>\n",
       "      <td>no</td>\n",
       "      <td>unknown</td>\n",
       "      <td>5</td>\n",
       "      <td>may</td>\n",
       "      <td>1467</td>\n",
       "      <td>1</td>\n",
       "      <td>-1</td>\n",
       "      <td>0</td>\n",
       "      <td>unknown</td>\n",
       "      <td>yes</td>\n",
       "    </tr>\n",
       "    <tr>\n",
       "      <th>2</th>\n",
       "      <td>41</td>\n",
       "      <td>technician</td>\n",
       "      <td>married</td>\n",
       "      <td>secondary</td>\n",
       "      <td>no</td>\n",
       "      <td>1270</td>\n",
       "      <td>yes</td>\n",
       "      <td>no</td>\n",
       "      <td>unknown</td>\n",
       "      <td>5</td>\n",
       "      <td>may</td>\n",
       "      <td>1389</td>\n",
       "      <td>1</td>\n",
       "      <td>-1</td>\n",
       "      <td>0</td>\n",
       "      <td>unknown</td>\n",
       "      <td>yes</td>\n",
       "    </tr>\n",
       "    <tr>\n",
       "      <th>3</th>\n",
       "      <td>55</td>\n",
       "      <td>services</td>\n",
       "      <td>married</td>\n",
       "      <td>secondary</td>\n",
       "      <td>no</td>\n",
       "      <td>2476</td>\n",
       "      <td>yes</td>\n",
       "      <td>no</td>\n",
       "      <td>unknown</td>\n",
       "      <td>5</td>\n",
       "      <td>may</td>\n",
       "      <td>579</td>\n",
       "      <td>1</td>\n",
       "      <td>-1</td>\n",
       "      <td>0</td>\n",
       "      <td>unknown</td>\n",
       "      <td>yes</td>\n",
       "    </tr>\n",
       "    <tr>\n",
       "      <th>4</th>\n",
       "      <td>54</td>\n",
       "      <td>admin.</td>\n",
       "      <td>married</td>\n",
       "      <td>tertiary</td>\n",
       "      <td>no</td>\n",
       "      <td>184</td>\n",
       "      <td>no</td>\n",
       "      <td>no</td>\n",
       "      <td>unknown</td>\n",
       "      <td>5</td>\n",
       "      <td>may</td>\n",
       "      <td>673</td>\n",
       "      <td>2</td>\n",
       "      <td>-1</td>\n",
       "      <td>0</td>\n",
       "      <td>unknown</td>\n",
       "      <td>yes</td>\n",
       "    </tr>\n",
       "  </tbody>\n",
       "</table>\n",
       "</div>"
      ],
      "text/plain": [
       "   age         job  marital  education default  balance housing loan  contact  \\\n",
       "0   59      admin.  married  secondary      no     2343     yes   no  unknown   \n",
       "1   56      admin.  married  secondary      no       45      no   no  unknown   \n",
       "2   41  technician  married  secondary      no     1270     yes   no  unknown   \n",
       "3   55    services  married  secondary      no     2476     yes   no  unknown   \n",
       "4   54      admin.  married   tertiary      no      184      no   no  unknown   \n",
       "\n",
       "   day month  duration  campaign  pdays  previous poutcome deposit  \n",
       "0    5   may      1042         1     -1         0  unknown     yes  \n",
       "1    5   may      1467         1     -1         0  unknown     yes  \n",
       "2    5   may      1389         1     -1         0  unknown     yes  \n",
       "3    5   may       579         1     -1         0  unknown     yes  \n",
       "4    5   may       673         2     -1         0  unknown     yes  "
      ]
     },
     "execution_count": 2,
     "metadata": {},
     "output_type": "execute_result"
    }
   ],
   "source": [
    "#Load data into memory using pandas\n",
    "df = pd.read_csv(\"bank.csv\")\n",
    "print(\"DF Shape:\",df.shape)\n",
    "df.head()"
   ]
  },
  {
   "cell_type": "markdown",
   "id": "341800ac-7acc-4bed-b74b-c969a0e3e15d",
   "metadata": {},
   "source": [
    "## **Distribution of target values**"
   ]
  },
  {
   "cell_type": "code",
   "execution_count": 3,
   "id": "feccc7d1-fcc4-4c08-888c-553abc149903",
   "metadata": {},
   "outputs": [
    {
     "name": "stdout",
     "output_type": "stream",
     "text": [
      "Distribution of Target Values in Dataset -\n"
     ]
    },
    {
     "data": {
      "text/plain": [
       "no     5873\n",
       "yes    5289\n",
       "Name: deposit, dtype: int64"
      ]
     },
     "execution_count": 3,
     "metadata": {},
     "output_type": "execute_result"
    }
   ],
   "source": [
    "print(\"Distribution of Target Values in Dataset -\")\n",
    "df.deposit.value_counts()"
   ]
  },
  {
   "cell_type": "markdown",
   "id": "3afbae69-3847-4f29-9684-446ecda9d966",
   "metadata": {},
   "source": [
    "## **Distribution of na (null) values in dataset**"
   ]
  },
  {
   "cell_type": "code",
   "execution_count": 4,
   "id": "4edb0d39-6aa0-4ff7-96a9-92227a412249",
   "metadata": {},
   "outputs": [
    {
     "data": {
      "text/plain": [
       "age          0\n",
       "job          0\n",
       "marital      0\n",
       "education    0\n",
       "default      0\n",
       "balance      0\n",
       "housing      0\n",
       "loan         0\n",
       "contact      0\n",
       "day          0\n",
       "month        0\n",
       "duration     0\n",
       "campaign     0\n",
       "pdays        0\n",
       "previous     0\n",
       "poutcome     0\n",
       "deposit      0\n",
       "dtype: int64"
      ]
     },
     "execution_count": 4,
     "metadata": {},
     "output_type": "execute_result"
    }
   ],
   "source": [
    "#Check if we have 'na' values within the dataset\n",
    "df.isna().sum()"
   ]
  },
  {
   "cell_type": "markdown",
   "id": "f6e58266-3c41-4f29-b62a-6965592543db",
   "metadata": {},
   "source": [
    "## **Distribution of distinct datatypes**"
   ]
  },
  {
   "cell_type": "code",
   "execution_count": 5,
   "id": "e91d09ba-6856-4c99-a2c6-be5ca7575777",
   "metadata": {},
   "outputs": [
    {
     "data": {
      "text/plain": [
       "object    10\n",
       "int64      7\n",
       "dtype: int64"
      ]
     },
     "execution_count": 5,
     "metadata": {},
     "output_type": "execute_result"
    }
   ],
   "source": [
    "#Check the distinct datatypes within the dataset\n",
    "df.dtypes.value_counts()"
   ]
  },
  {
   "cell_type": "markdown",
   "id": "bc433bdb-5222-4051-ae8c-5427944187cd",
   "metadata": {},
   "source": [
    "## **Extract categorical columns from dataset**"
   ]
  },
  {
   "cell_type": "code",
   "execution_count": 6,
   "id": "eb24e988-226f-484d-af1b-18d2f74f261a",
   "metadata": {},
   "outputs": [
    {
     "name": "stdout",
     "output_type": "stream",
     "text": [
      "Categorical cols: ['job', 'marital', 'education', 'default', 'housing', 'loan', 'contact', 'month', 'poutcome', 'deposit']\n"
     ]
    },
    {
     "data": {
      "text/html": [
       "<div>\n",
       "<style scoped>\n",
       "    .dataframe tbody tr th:only-of-type {\n",
       "        vertical-align: middle;\n",
       "    }\n",
       "\n",
       "    .dataframe tbody tr th {\n",
       "        vertical-align: top;\n",
       "    }\n",
       "\n",
       "    .dataframe thead th {\n",
       "        text-align: right;\n",
       "    }\n",
       "</style>\n",
       "<table border=\"1\" class=\"dataframe\">\n",
       "  <thead>\n",
       "    <tr style=\"text-align: right;\">\n",
       "      <th></th>\n",
       "      <th>age</th>\n",
       "      <th>job</th>\n",
       "      <th>marital</th>\n",
       "      <th>education</th>\n",
       "      <th>default</th>\n",
       "      <th>balance</th>\n",
       "      <th>housing</th>\n",
       "      <th>loan</th>\n",
       "      <th>contact</th>\n",
       "      <th>day</th>\n",
       "      <th>month</th>\n",
       "      <th>duration</th>\n",
       "      <th>campaign</th>\n",
       "      <th>pdays</th>\n",
       "      <th>previous</th>\n",
       "      <th>poutcome</th>\n",
       "      <th>deposit</th>\n",
       "    </tr>\n",
       "  </thead>\n",
       "  <tbody>\n",
       "    <tr>\n",
       "      <th>0</th>\n",
       "      <td>59</td>\n",
       "      <td>admin.</td>\n",
       "      <td>married</td>\n",
       "      <td>secondary</td>\n",
       "      <td>0</td>\n",
       "      <td>2343</td>\n",
       "      <td>1</td>\n",
       "      <td>0</td>\n",
       "      <td>unknown</td>\n",
       "      <td>5</td>\n",
       "      <td>may</td>\n",
       "      <td>1042</td>\n",
       "      <td>1</td>\n",
       "      <td>-1</td>\n",
       "      <td>0</td>\n",
       "      <td>unknown</td>\n",
       "      <td>1</td>\n",
       "    </tr>\n",
       "    <tr>\n",
       "      <th>1</th>\n",
       "      <td>56</td>\n",
       "      <td>admin.</td>\n",
       "      <td>married</td>\n",
       "      <td>secondary</td>\n",
       "      <td>0</td>\n",
       "      <td>45</td>\n",
       "      <td>0</td>\n",
       "      <td>0</td>\n",
       "      <td>unknown</td>\n",
       "      <td>5</td>\n",
       "      <td>may</td>\n",
       "      <td>1467</td>\n",
       "      <td>1</td>\n",
       "      <td>-1</td>\n",
       "      <td>0</td>\n",
       "      <td>unknown</td>\n",
       "      <td>1</td>\n",
       "    </tr>\n",
       "    <tr>\n",
       "      <th>2</th>\n",
       "      <td>41</td>\n",
       "      <td>technician</td>\n",
       "      <td>married</td>\n",
       "      <td>secondary</td>\n",
       "      <td>0</td>\n",
       "      <td>1270</td>\n",
       "      <td>1</td>\n",
       "      <td>0</td>\n",
       "      <td>unknown</td>\n",
       "      <td>5</td>\n",
       "      <td>may</td>\n",
       "      <td>1389</td>\n",
       "      <td>1</td>\n",
       "      <td>-1</td>\n",
       "      <td>0</td>\n",
       "      <td>unknown</td>\n",
       "      <td>1</td>\n",
       "    </tr>\n",
       "    <tr>\n",
       "      <th>3</th>\n",
       "      <td>55</td>\n",
       "      <td>services</td>\n",
       "      <td>married</td>\n",
       "      <td>secondary</td>\n",
       "      <td>0</td>\n",
       "      <td>2476</td>\n",
       "      <td>1</td>\n",
       "      <td>0</td>\n",
       "      <td>unknown</td>\n",
       "      <td>5</td>\n",
       "      <td>may</td>\n",
       "      <td>579</td>\n",
       "      <td>1</td>\n",
       "      <td>-1</td>\n",
       "      <td>0</td>\n",
       "      <td>unknown</td>\n",
       "      <td>1</td>\n",
       "    </tr>\n",
       "    <tr>\n",
       "      <th>4</th>\n",
       "      <td>54</td>\n",
       "      <td>admin.</td>\n",
       "      <td>married</td>\n",
       "      <td>tertiary</td>\n",
       "      <td>0</td>\n",
       "      <td>184</td>\n",
       "      <td>0</td>\n",
       "      <td>0</td>\n",
       "      <td>unknown</td>\n",
       "      <td>5</td>\n",
       "      <td>may</td>\n",
       "      <td>673</td>\n",
       "      <td>2</td>\n",
       "      <td>-1</td>\n",
       "      <td>0</td>\n",
       "      <td>unknown</td>\n",
       "      <td>1</td>\n",
       "    </tr>\n",
       "  </tbody>\n",
       "</table>\n",
       "</div>"
      ],
      "text/plain": [
       "   age         job  marital  education  default  balance  housing  loan  \\\n",
       "0   59      admin.  married  secondary        0     2343        1     0   \n",
       "1   56      admin.  married  secondary        0       45        0     0   \n",
       "2   41  technician  married  secondary        0     1270        1     0   \n",
       "3   55    services  married  secondary        0     2476        1     0   \n",
       "4   54      admin.  married   tertiary        0      184        0     0   \n",
       "\n",
       "   contact  day month  duration  campaign  pdays  previous poutcome  deposit  \n",
       "0  unknown    5   may      1042         1     -1         0  unknown        1  \n",
       "1  unknown    5   may      1467         1     -1         0  unknown        1  \n",
       "2  unknown    5   may      1389         1     -1         0  unknown        1  \n",
       "3  unknown    5   may       579         1     -1         0  unknown        1  \n",
       "4  unknown    5   may       673         2     -1         0  unknown        1  "
      ]
     },
     "execution_count": 6,
     "metadata": {},
     "output_type": "execute_result"
    }
   ],
   "source": [
    "#Extract categorical columns from dataset\n",
    "categorical_columns = df.select_dtypes(include=\"object\").columns\n",
    "print(\"Categorical cols:\",list(categorical_columns))\n",
    "\n",
    "#For each categorical column if values in (Yes/No) convert into a 1/0 Flag\n",
    "for col in categorical_columns:\n",
    "    if df[col].nunique() == 2:\n",
    "        df[col] = np.where(df[col]==\"yes\",1,0)\n",
    "\n",
    "df.head()"
   ]
  },
  {
   "cell_type": "markdown",
   "id": "4d4228b3-cd20-488e-baac-0a2edc7d45fa",
   "metadata": {},
   "source": [
    "## **Onehot encoding for remaining non-binary categorical variables**"
   ]
  },
  {
   "cell_type": "code",
   "execution_count": 7,
   "id": "50d2ac0d-8958-451e-aa2f-87ed3d1a5fd5",
   "metadata": {},
   "outputs": [
    {
     "name": "stdout",
     "output_type": "stream",
     "text": [
      "new_df.shape: (11162, 49)\n"
     ]
    },
    {
     "data": {
      "text/html": [
       "<div>\n",
       "<style scoped>\n",
       "    .dataframe tbody tr th:only-of-type {\n",
       "        vertical-align: middle;\n",
       "    }\n",
       "\n",
       "    .dataframe tbody tr th {\n",
       "        vertical-align: top;\n",
       "    }\n",
       "\n",
       "    .dataframe thead th {\n",
       "        text-align: right;\n",
       "    }\n",
       "</style>\n",
       "<table border=\"1\" class=\"dataframe\">\n",
       "  <thead>\n",
       "    <tr style=\"text-align: right;\">\n",
       "      <th></th>\n",
       "      <th>previous</th>\n",
       "      <th>poutcome_success</th>\n",
       "      <th>campaign</th>\n",
       "      <th>default</th>\n",
       "      <th>duration</th>\n",
       "      <th>education_secondary</th>\n",
       "      <th>month_dec</th>\n",
       "      <th>poutcome_unknown</th>\n",
       "      <th>contact_cellular</th>\n",
       "      <th>month_apr</th>\n",
       "      <th>...</th>\n",
       "      <th>job_unknown</th>\n",
       "      <th>month_jan</th>\n",
       "      <th>education_primary</th>\n",
       "      <th>job_admin.</th>\n",
       "      <th>month_sep</th>\n",
       "      <th>month_jul</th>\n",
       "      <th>marital_single</th>\n",
       "      <th>loan</th>\n",
       "      <th>job_self-employed</th>\n",
       "      <th>month_oct</th>\n",
       "    </tr>\n",
       "  </thead>\n",
       "  <tbody>\n",
       "    <tr>\n",
       "      <th>0</th>\n",
       "      <td>0</td>\n",
       "      <td>0</td>\n",
       "      <td>1</td>\n",
       "      <td>0</td>\n",
       "      <td>1042</td>\n",
       "      <td>1</td>\n",
       "      <td>0</td>\n",
       "      <td>1</td>\n",
       "      <td>0</td>\n",
       "      <td>0</td>\n",
       "      <td>...</td>\n",
       "      <td>0</td>\n",
       "      <td>0</td>\n",
       "      <td>0</td>\n",
       "      <td>1</td>\n",
       "      <td>0</td>\n",
       "      <td>0</td>\n",
       "      <td>0</td>\n",
       "      <td>0</td>\n",
       "      <td>0</td>\n",
       "      <td>0</td>\n",
       "    </tr>\n",
       "    <tr>\n",
       "      <th>1</th>\n",
       "      <td>0</td>\n",
       "      <td>0</td>\n",
       "      <td>1</td>\n",
       "      <td>0</td>\n",
       "      <td>1467</td>\n",
       "      <td>1</td>\n",
       "      <td>0</td>\n",
       "      <td>1</td>\n",
       "      <td>0</td>\n",
       "      <td>0</td>\n",
       "      <td>...</td>\n",
       "      <td>0</td>\n",
       "      <td>0</td>\n",
       "      <td>0</td>\n",
       "      <td>1</td>\n",
       "      <td>0</td>\n",
       "      <td>0</td>\n",
       "      <td>0</td>\n",
       "      <td>0</td>\n",
       "      <td>0</td>\n",
       "      <td>0</td>\n",
       "    </tr>\n",
       "    <tr>\n",
       "      <th>2</th>\n",
       "      <td>0</td>\n",
       "      <td>0</td>\n",
       "      <td>1</td>\n",
       "      <td>0</td>\n",
       "      <td>1389</td>\n",
       "      <td>1</td>\n",
       "      <td>0</td>\n",
       "      <td>1</td>\n",
       "      <td>0</td>\n",
       "      <td>0</td>\n",
       "      <td>...</td>\n",
       "      <td>0</td>\n",
       "      <td>0</td>\n",
       "      <td>0</td>\n",
       "      <td>0</td>\n",
       "      <td>0</td>\n",
       "      <td>0</td>\n",
       "      <td>0</td>\n",
       "      <td>0</td>\n",
       "      <td>0</td>\n",
       "      <td>0</td>\n",
       "    </tr>\n",
       "    <tr>\n",
       "      <th>3</th>\n",
       "      <td>0</td>\n",
       "      <td>0</td>\n",
       "      <td>1</td>\n",
       "      <td>0</td>\n",
       "      <td>579</td>\n",
       "      <td>1</td>\n",
       "      <td>0</td>\n",
       "      <td>1</td>\n",
       "      <td>0</td>\n",
       "      <td>0</td>\n",
       "      <td>...</td>\n",
       "      <td>0</td>\n",
       "      <td>0</td>\n",
       "      <td>0</td>\n",
       "      <td>0</td>\n",
       "      <td>0</td>\n",
       "      <td>0</td>\n",
       "      <td>0</td>\n",
       "      <td>0</td>\n",
       "      <td>0</td>\n",
       "      <td>0</td>\n",
       "    </tr>\n",
       "    <tr>\n",
       "      <th>4</th>\n",
       "      <td>0</td>\n",
       "      <td>0</td>\n",
       "      <td>2</td>\n",
       "      <td>0</td>\n",
       "      <td>673</td>\n",
       "      <td>0</td>\n",
       "      <td>0</td>\n",
       "      <td>1</td>\n",
       "      <td>0</td>\n",
       "      <td>0</td>\n",
       "      <td>...</td>\n",
       "      <td>0</td>\n",
       "      <td>0</td>\n",
       "      <td>0</td>\n",
       "      <td>1</td>\n",
       "      <td>0</td>\n",
       "      <td>0</td>\n",
       "      <td>0</td>\n",
       "      <td>0</td>\n",
       "      <td>0</td>\n",
       "      <td>0</td>\n",
       "    </tr>\n",
       "  </tbody>\n",
       "</table>\n",
       "<p>5 rows × 48 columns</p>\n",
       "</div>"
      ],
      "text/plain": [
       "   previous  poutcome_success  campaign  default  duration  \\\n",
       "0         0                 0         1        0      1042   \n",
       "1         0                 0         1        0      1467   \n",
       "2         0                 0         1        0      1389   \n",
       "3         0                 0         1        0       579   \n",
       "4         0                 0         2        0       673   \n",
       "\n",
       "   education_secondary  month_dec  poutcome_unknown  contact_cellular  \\\n",
       "0                    1          0                 1                 0   \n",
       "1                    1          0                 1                 0   \n",
       "2                    1          0                 1                 0   \n",
       "3                    1          0                 1                 0   \n",
       "4                    0          0                 1                 0   \n",
       "\n",
       "   month_apr  ...  job_unknown  month_jan  education_primary  job_admin.  \\\n",
       "0          0  ...            0          0                  0           1   \n",
       "1          0  ...            0          0                  0           1   \n",
       "2          0  ...            0          0                  0           0   \n",
       "3          0  ...            0          0                  0           0   \n",
       "4          0  ...            0          0                  0           1   \n",
       "\n",
       "   month_sep  month_jul  marital_single  loan  job_self-employed  month_oct  \n",
       "0          0          0               0     0                  0          0  \n",
       "1          0          0               0     0                  0          0  \n",
       "2          0          0               0     0                  0          0  \n",
       "3          0          0               0     0                  0          0  \n",
       "4          0          0               0     0                  0          0  \n",
       "\n",
       "[5 rows x 48 columns]"
      ]
     },
     "execution_count": 7,
     "metadata": {},
     "output_type": "execute_result"
    }
   ],
   "source": [
    "#For the remaining cateogrical variables; \n",
    "#create one-hot encoded version of the dataset\n",
    "new_df = pd.get_dummies(df)\n",
    "\n",
    "#Define target and predictors for the model\n",
    "target = \"deposit\"\n",
    "predictors = set(new_df.columns) - set([target])\n",
    "print(\"new_df.shape:\",new_df.shape)\n",
    "new_df[predictors].head()"
   ]
  },
  {
   "cell_type": "markdown",
   "id": "2b12ec10-6df3-427d-baa5-ede1fc23bf49",
   "metadata": {},
   "source": [
    "## **Prepare data for training and validation**"
   ]
  },
  {
   "cell_type": "code",
   "execution_count": 8,
   "id": "b3b1ac35-6046-4fc7-ae3e-d45b04d0cf9a",
   "metadata": {},
   "outputs": [
    {
     "name": "stdout",
     "output_type": "stream",
     "text": [
      "X_train.shape: torch.Size([8929, 48])\n",
      "x_test.shape: torch.Size([2233, 48])\n",
      "Y_train.shape: torch.Size([8929, 1])\n",
      "y_test.shape: torch.Size([2233, 1])\n"
     ]
    }
   ],
   "source": [
    "#Convert all datatypes within pandas dataframe to Float32 \n",
    "#(Compatibility with PyTorch tensors)\n",
    "new_df = new_df.astype(np.float32)\n",
    "\n",
    "#Split dataset into Train/Test [80:20]\n",
    "X_train,x_test, Y_train,y_test = train_test_split(new_df[predictors],new_df[target],test_size= 0.2)\n",
    "\n",
    "#Convert Pandas dataframe, first to numpy and then to Torch Tensors\n",
    "X_train = tch.from_numpy(X_train.values)\n",
    "x_test  = tch.from_numpy(x_test.values)\n",
    "Y_train = tch.from_numpy(Y_train.values).reshape(-1,1)\n",
    "y_test  = tch.from_numpy(y_test.values).reshape(-1,1)\n",
    "\n",
    "#Print the dataset size to verify\n",
    "print(\"X_train.shape:\",X_train.shape)\n",
    "print(\"x_test.shape:\",x_test.shape)\n",
    "print(\"Y_train.shape:\",Y_train.shape)\n",
    "print(\"y_test.shape:\",y_test.shape)"
   ]
  },
  {
   "cell_type": "markdown",
   "id": "b6f01e03-1a37-47df-872d-b5a2a44f0a2b",
   "metadata": {},
   "source": [
    "## **Define function to train model**"
   ]
  },
  {
   "cell_type": "code",
   "execution_count": 9,
   "id": "ee7c5fd8-0655-49cb-a42b-870a28c72973",
   "metadata": {},
   "outputs": [],
   "source": [
    "#Define function to train the network\n",
    "def train_network(model,optimizer,loss_function,num_epochs,batch_size\n",
    ",X_train,Y_train,lambda_L1=0.0):\n",
    "    loss_across_epochs = []\n",
    "\n",
    "    for epoch in range(num_epochs):\n",
    "        train_loss= 0.0\n",
    "\n",
    "        #Explicitly start model training\n",
    "        model.train()\n",
    "\n",
    "        for i in range(0,X_train.shape[0],batch_size):\n",
    "\n",
    "            #Extract train batch from X and Y\n",
    "            input_data = X_train[i:min(X_train.shape[0],i+batch_size)]\n",
    "            labels = Y_train[i:min(X_train.shape[0],i+batch_size)]\n",
    "\n",
    "            #set the gradients to zero before starting to do backpropragation \n",
    "            optimizer.zero_grad()\n",
    "\n",
    "            #Forward pass\n",
    "            output_data  = model(input_data)\n",
    "\n",
    "            #Caculate loss\n",
    "            loss = loss_function(output_data, labels)\n",
    "            L1_loss = 0\n",
    "            \n",
    "            #Compute L1 penalty to be added with loss \n",
    "            for p in model.parameters():\n",
    "                L1_loss = L1_loss + p.abs().sum()   \n",
    "\n",
    "            #Add L1 penalty to loss\n",
    "            loss = loss + lambda_L1 * L1_loss\n",
    "\n",
    "            #Backpropogate\n",
    "            loss.backward()\n",
    "\n",
    "            #Update weights\n",
    "            optimizer.step()\n",
    "\n",
    "            train_loss += loss.item() * input_data.size(0)\n",
    "\n",
    "        loss_across_epochs.append(train_loss/X_train.size(0))\n",
    "        if epoch%500 == 0:\n",
    "            print(\"Epoch: {} - Loss:{:.4f}\".format(epoch,train_loss/X_train.size(0) ))    \n",
    "        \n",
    "    return(loss_across_epochs)"
   ]
  },
  {
   "cell_type": "markdown",
   "id": "396daa25-5e95-4d4d-a5cc-a92ab3b36d21",
   "metadata": {},
   "source": [
    "## **Define function to evaluate model**"
   ]
  },
  {
   "cell_type": "code",
   "execution_count": 10,
   "id": "eba86687-bd33-43a9-8f6d-80e7c235a510",
   "metadata": {},
   "outputs": [],
   "source": [
    "#Define function for evaluating NN\n",
    "def evaluate_model(model,x_test,y_test,X_train,Y_train,loss_list):\n",
    "\n",
    "    model.eval() #Explicitly set to evaluate mode\n",
    "\n",
    "    #Predict on Train and Validation Datasets\n",
    "    y_test_prob = model(x_test)\n",
    "    y_test_pred =np.where(y_test_prob>0.5,1,0)\n",
    "    Y_train_prob = model(X_train)\n",
    "    Y_train_pred =np.where(Y_train_prob>0.5,1,0)\n",
    "\n",
    "    #Compute Training and Validation Metrics\n",
    "    print(\"\\n Model Performance -\")\n",
    "    print(\"Training Accuracy-\",round(accuracy_score(Y_train,Y_train_pred),3))\n",
    "    print(\"Training Precision-\",round(precision_score(Y_train,Y_train_pred),3))\n",
    "    print(\"Training Recall-\",round(recall_score(Y_train,Y_train_pred),3))\n",
    "    print(\"Training ROCAUC\", round(roc_auc_score(Y_train\n",
    ",Y_train_prob.detach().numpy()),3))\n",
    "\n",
    "    print(\"Validation Accuracy-\",round(accuracy_score(y_test,y_test_pred),3))\n",
    "    print(\"Validation Precision-\",round(precision_score(y_test,y_test_pred),3))\n",
    "    print(\"Validation Recall-\",round(recall_score(y_test,y_test_pred),3))\n",
    "    print(\"Validation ROCAUC\", round(roc_auc_score(y_test\n",
    ",y_test_prob.detach().numpy()),3))    \n",
    "    print(\"\\n\")\n",
    "    \n",
    "    #Plot the Loss curve and ROC Curve\n",
    "    plt.figure(figsize=(20,5))\n",
    "    plt.subplot(1, 2, 1)\n",
    "    plt.plot(loss_list)\n",
    "    plt.title('Loss across epochs')\n",
    "    plt.ylabel('Loss')\n",
    "    plt.xlabel('Epochs')\n",
    "\n",
    "    plt.subplot(1, 2, 2)\n",
    "\n",
    "    #Validation\n",
    "    fpr_v, tpr_v, _ = roc_curve(y_test, y_test_prob.detach().numpy())\n",
    "    roc_auc_v = auc(fpr_v, tpr_v)\n",
    "\n",
    "    #Training\n",
    "    fpr_t, tpr_t, _ = roc_curve(Y_train, Y_train_prob.detach().numpy())\n",
    "    roc_auc_t = auc(fpr_t, tpr_t)    \n",
    "\n",
    "    plt.title('Receiver Operating Characteristic:Validation')\n",
    "    plt.plot(fpr_v, tpr_v, 'b', label = 'Validation AUC = %0.2f' % roc_auc_v)\n",
    "    plt.plot(fpr_t, tpr_t, 'r', label = 'Training AUC = %0.2f' % roc_auc_t)    \n",
    "    plt.legend(loc = 'lower right')\n",
    "    plt.plot([0, 1], [0, 1],'r--')\n",
    "    plt.xlim([0, 1])\n",
    "    plt.ylim([0, 1])\n",
    "    plt.ylabel('True Positive Rate')\n",
    "    plt.xlabel('False Positive Rate')\n",
    "    \n",
    "    plt.show()"
   ]
  },
  {
   "cell_type": "markdown",
   "id": "258023fa-074f-44d0-9baf-1cb4f8bd841f",
   "metadata": {},
   "source": [
    "## **Define Neural Network**"
   ]
  },
  {
   "cell_type": "code",
   "execution_count": 11,
   "id": "26b459a3-bd7b-494a-8a7b-2ca06f3d800f",
   "metadata": {},
   "outputs": [
    {
     "name": "stdout",
     "output_type": "stream",
     "text": [
      "Epoch: 0 - Loss:6.8052\n",
      "\n",
      " Model Performance -\n",
      "Training Accuracy- 0.931\n",
      "Training Precision- 0.908\n",
      "Training Recall- 0.949\n",
      "Training ROCAUC 0.983\n",
      "Validation Accuracy- 0.825\n",
      "Validation Precision- 0.806\n",
      "Validation Recall- 0.828\n",
      "Validation ROCAUC 0.88\n",
      "\n",
      "\n"
     ]
    },
    {
     "data": {
      "image/png": "[encoded data removed]",
      "text/plain": [
       "<Figure size 1440x360 with 2 Axes>"
      ]
     },
     "metadata": {
      "needs_background": "light"
     },
     "output_type": "display_data"
    }
   ],
   "source": [
    "#Define Neural Network\n",
    "\n",
    "class NeuralNetwork(nn.Module):\n",
    "    \n",
    "    def __init__(self):\n",
    "        super().__init__()\n",
    "        tch.manual_seed(2020)\n",
    "        self.fc1 = nn.Linear(48, 96) \n",
    "        self.fc2 = nn.Linear(96, 192)\n",
    "        self.fc3 = nn.Linear(192, 384)\n",
    "        self.out = nn.Linear(384, 1)        \n",
    "        self.relu = nn.ReLU()        \n",
    "        self.final = nn.Sigmoid()\n",
    "\n",
    "        \n",
    "    def forward(self, x):\n",
    "        op = self.fc1(x)\n",
    "        op = self.relu(op)        \n",
    "        op = self.fc2(op)\n",
    "        op = self.relu(op)\n",
    "        op = self.fc3(op)\n",
    "        op = self.relu(op)\n",
    "        op = self.out(op)\n",
    "        y = self.final(op)\n",
    "        return y\n",
    "    \n",
    "#Define training variables\n",
    "num_epochs = 500\n",
    "batch_size= 128\n",
    "loss_function = nn.BCELoss()  #Binary Crosss Entropy Loss\n",
    "\n",
    "#Hyperparameters\n",
    "weight_decay=0.0 #set to 0; no L2 Regularizer; passed into the Optimizer\n",
    "lambda_L1=0.0    #Set to 0; no L1 reg; manually added in loss (train_network)\n",
    "\n",
    "#Create a model instance\n",
    "model = NeuralNetwork()\n",
    "\n",
    "#Define optimizer\n",
    "adam_optimizer = tch.optim.Adam(model.parameters(), lr= 0.001,weight_decay=weight_decay)\n",
    "\n",
    "#Train model\n",
    "adam_loss = train_network(model,adam_optimizer,loss_function\n",
    ",num_epochs,batch_size,X_train,Y_train,lambda_L1=0.0)\n",
    "\n",
    "#Evaluate model\n",
    "evaluate_model(model,x_test,y_test,X_train,Y_train,adam_loss)"
   ]
  },
  {
   "cell_type": "markdown",
   "id": "abfb4a8e-c4b9-4b5e-87c5-dc03eb33f7af",
   "metadata": {},
   "source": [
    "## **L1 Regularization**"
   ]
  },
  {
   "cell_type": "code",
   "execution_count": 13,
   "id": "10bd8f68-35e4-4c71-baf4-afba7fb7ea94",
   "metadata": {},
   "outputs": [
    {
     "name": "stdout",
     "output_type": "stream",
     "text": [
      "Epoch: 0 - Loss:4.5400\n",
      "\n",
      " Model Performance -\n",
      "Training Accuracy- 0.843\n",
      "Training Precision- 0.856\n",
      "Training Recall- 0.803\n",
      "Training ROCAUC 0.928\n",
      "Validation Accuracy- 0.825\n",
      "Validation Precision- 0.842\n",
      "Validation Recall- 0.776\n",
      "Validation ROCAUC 0.898\n",
      "\n",
      "\n"
     ]
    },
    {
     "data": {
      "image/png": "[encoded data removed]",
      "text/plain": [
       "<Figure size 1440x360 with 2 Axes>"
      ]
     },
     "metadata": {
      "needs_background": "light"
     },
     "output_type": "display_data"
    }
   ],
   "source": [
    "#L1 Regularization    \n",
    "num_epochs = 500\n",
    "batch_size= 128\n",
    "\n",
    "weight_decay=0.0   #Set to 0; no L2 reg\n",
    "lambda_L1 = 0.0001 #Enables L1 Regularization\n",
    "\n",
    "model = NeuralNetwork()\n",
    "loss_function = nn.BCELoss()  #Binary Crosss Entropy Loss\n",
    "\n",
    "adam_optimizer = tch.optim.Adam(model.parameters(),lr= 0.001 ,weight_decay=weight_decay)\n",
    "\n",
    "#Define hyperparater for L1 Regularization\n",
    "#Train network\n",
    "adam_loss = train_network(model,adam_optimizer,loss_function ,num_epochs,batch_size\n",
    ",X_train,Y_train,lambda_L1=lambda_L1)\n",
    "\n",
    "#Evaluate model\n",
    "evaluate_model(model,x_test,y_test,X_train,Y_train,adam_loss)"
   ]
  },
  {
   "cell_type": "markdown",
   "id": "3cd31aa7-8919-4dc8-8a0d-3c4a51daa967",
   "metadata": {},
   "source": [
    "## **L2 Regularization**"
   ]
  },
  {
   "cell_type": "code",
   "execution_count": 14,
   "id": "04f5a5be-dd02-400b-a17d-a97629272e4a",
   "metadata": {},
   "outputs": [
    {
     "name": "stdout",
     "output_type": "stream",
     "text": [
      "Epoch: 0 - Loss:5.8391\n",
      "\n",
      " Model Performance -\n",
      "Training Accuracy- 0.859\n",
      "Training Precision- 0.814\n",
      "Training Recall- 0.91\n",
      "Training ROCAUC 0.93\n",
      "Validation Accuracy- 0.831\n",
      "Validation Precision- 0.793\n",
      "Validation Recall- 0.869\n",
      "Validation ROCAUC 0.902\n",
      "\n",
      "\n"
     ]
    },
    {
     "data": {
      "image/png": "[encoded data removed]",
      "text/plain": [
       "<Figure size 1440x360 with 2 Axes>"
      ]
     },
     "metadata": {
      "needs_background": "light"
     },
     "output_type": "display_data"
    }
   ],
   "source": [
    "#L2 Regularization    \n",
    "num_epochs = 500\n",
    "batch_size= 128\n",
    "weight_decay=0.001 #Enables L2 Regularization\t\n",
    "lambda_L1 = 0.00    #Set to 0; no L1 reg\n",
    "\n",
    "model = NeuralNetwork()\n",
    "loss_function = nn.BCELoss()  #Binary Crosss Entropy Loss\n",
    "\n",
    "adam_optimizer = tch.optim.Adam(model.parameters(),lr= 0.001,weight_decay=weight_decay)\n",
    "\n",
    "#Train Network\n",
    "adam_loss = train_network(model,adam_optimizer,loss_function,num_epochs,batch_size\n",
    ",X_train,Y_train,lambda_L1=lambda_L1)\n",
    "\n",
    "#Evaluate model\n",
    "evaluate_model(model,x_test,y_test,X_train,Y_train,adam_loss)"
   ]
  },
  {
   "cell_type": "markdown",
   "id": "80691bbf-a353-4e1d-bebe-c59514518476",
   "metadata": {},
   "source": [
    "## **Dropout Regularization**"
   ]
  },
  {
   "cell_type": "code",
   "execution_count": 15,
   "id": "b9de1b8f-59f1-4634-9bd3-a4abee890735",
   "metadata": {},
   "outputs": [
    {
     "name": "stdout",
     "output_type": "stream",
     "text": [
      "Epoch: 0 - Loss:3.6632\n",
      "\n",
      " Model Performance -\n",
      "Training Accuracy- 0.869\n",
      "Training Precision- 0.862\n",
      "Training Recall- 0.862\n",
      "Training ROCAUC 0.941\n",
      "Validation Accuracy- 0.849\n",
      "Validation Precision- 0.849\n",
      "Validation Recall- 0.827\n",
      "Validation ROCAUC 0.92\n",
      "\n",
      "\n"
     ]
    },
    {
     "data": {
      "image/png": "[encoded data removed]",
      "text/plain": [
       "<Figure size 1440x360 with 2 Axes>"
      ]
     },
     "metadata": {
      "needs_background": "light"
     },
     "output_type": "display_data"
    }
   ],
   "source": [
    "#Define Network with Dropout Layers\n",
    "class NeuralNetwork(nn.Module):\n",
    "    #Adding droput layers within Neural Network to reduce overfitting\n",
    "    def __init__(self):\n",
    "        super().__init__()\n",
    "        tch.manual_seed(2020)\n",
    "        self.fc1 = nn.Linear(48, 96)\n",
    "        self.fc2 = nn.Linear(96, 192)\n",
    "        self.fc3 = nn.Linear(192, 384)\n",
    "        self.relu = nn.ReLU()\n",
    "        self.out = nn.Linear(384, 1)\n",
    "        self.final = nn.Sigmoid()\n",
    "        self.drop = nn.Dropout(0.1)  #Dropout Layer\n",
    "\n",
    "\n",
    "        \n",
    "    def forward(self, x):\n",
    "        op = self.drop(x)  #Dropout for input layer\n",
    "        op = self.fc1(op)\n",
    "        op = self.relu(op)        \n",
    "        op = self.drop(op) #Dropout for hidden layer 1\n",
    "        op = self.fc2(op)\n",
    "        op = self.relu(op)\n",
    "        op = self.drop(op) #Dropout for hidden layer 2\n",
    "        op = self.fc3(op)\n",
    "        op = self.relu(op)      \n",
    "        op = self.drop(op) #Dropout for hidden layer 3       \n",
    "        op = self.out(op)\n",
    "        y = self.final(op)\n",
    "        return y\n",
    "    \n",
    "num_epochs = 500\n",
    "batch_size= 128\n",
    "\n",
    "weight_decay=0.0 #Set to 0; no L2 reg\n",
    "lambda_L1 = 0.0  #Set to 0; no L1 reg\n",
    "\n",
    "\n",
    "model = NeuralNetwork()\n",
    "loss_function = nn.BCELoss()  #Binary Crosss Entropy Loss\n",
    "\n",
    "adam_optimizer = tch.optim.Adam(model.parameters(),lr= 0.001\n",
    ",weight_decay=weight_decay)\n",
    "#Train model\n",
    "adam_loss = train_network(model,adam_optimizer,loss_function,num_epochs\n",
    ",batch_size,X_train,Y_train\n",
    ",lambda_L1= lambda_L1)\n",
    "\n",
    "#Evaluate model\n",
    "evaluate_model(model,x_test,y_test,X_train,Y_train,adam_loss)"
   ]
  },
  {
   "cell_type": "markdown",
   "id": "ddd05d45-6ba8-4aa4-be0e-32b8ccfdbed3",
   "metadata": {},
   "source": [
    "## **L1, L2 + Dropout Regularization**"
   ]
  },
  {
   "cell_type": "code",
   "execution_count": 16,
   "id": "b77c84b3-11cc-4043-8015-59b7ed73eeb0",
   "metadata": {},
   "outputs": [
    {
     "name": "stdout",
     "output_type": "stream",
     "text": [
      "Epoch: 0 - Loss:3.6012\n",
      "\n",
      " Model Performance -\n",
      "Training Accuracy- 0.809\n",
      "Training Precision- 0.802\n",
      "Training Recall- 0.793\n",
      "Training ROCAUC 0.886\n",
      "Validation Accuracy- 0.825\n",
      "Validation Precision- 0.827\n",
      "Validation Recall- 0.796\n",
      "Validation ROCAUC 0.898\n",
      "\n",
      "\n"
     ]
    },
    {
     "data": {
      "image/png": "[encoded data removed]",
      "text/plain": [
       "<Figure size 1440x360 with 2 Axes>"
      ]
     },
     "metadata": {
      "needs_background": "light"
     },
     "output_type": "display_data"
    }
   ],
   "source": [
    "#Create a network with Dropout layer\n",
    "class NeuralNetwork(nn.Module):\n",
    "    def __init__(self):\n",
    "        super().__init__()\n",
    "        tch.manual_seed(2020)\n",
    "        self.fc1 = nn.Linear(48, 96)\n",
    "        self.fc2 = nn.Linear(96, 192)\n",
    "        self.fc3 = nn.Linear(192, 384)\n",
    "        self.relu = nn.ReLU()\n",
    "        self.out = nn.Linear(384, 1)\n",
    "        self.final = nn.Sigmoid()\n",
    "        self.drop = nn.Dropout(0.1)  #Dropout Layer\n",
    "\n",
    "\n",
    "        \n",
    "    def forward(self, x):\n",
    "        op = self.drop(x)  #Dropout for input layer\n",
    "        op = self.fc1(op)\n",
    "        op = self.relu(op)        \n",
    "        op = self.drop(op) #Dropout for hidden layer 1\n",
    "        op = self.fc2(op)\n",
    "        op = self.relu(op)\n",
    "        op = self.drop(op) #Dropout for hidden layer 2\n",
    "        op = self.fc3(op)\n",
    "        op = self.relu(op)      \n",
    "        op = self.drop(op) #Dropout for hidden layer 3       \n",
    "        op = self.out(op)\n",
    "        y = self.final(op)\n",
    "        return y\n",
    "    \n",
    "num_epochs = 500\n",
    "batch_size= 128\n",
    "\n",
    "lambda_L1    = 0.0001  #Enabled L1 \n",
    "weight_decay =0.001    #Enabled L2\n",
    "\n",
    "model = NeuralNetwork()\n",
    "loss_function = nn.BCELoss()\n",
    "\n",
    "adam_optimizer = tch.optim.Adam(model.parameters(),lr= 0.001 ,weight_decay=weight_decay)\n",
    "\n",
    "adam_loss = train_network(model,adam_optimizer,loss_function ,num_epochs,batch_size\n",
    ",X_train,Y_train,lambda_L1=lambda_L1)\n",
    "\n",
    "evaluate_model(model,x_test,y_test,X_train,Y_train,adam_loss)"
   ]
  }
 ],
 "metadata": {
  "kernelspec": {
   "display_name": "Qiskit v0.34.2 (ipykernel)",
   "language": "python",
   "name": "python3"
  },
  "language_info": {
   "codemirror_mode": {
    "name": "ipython",
    "version": 3
   },
   "file_extension": ".py",
   "mimetype": "text/x-python",
   "name": "python",
   "nbconvert_exporter": "python",
   "pygments_lexer": "ipython3",
   "version": "3.8.12"
  },
  "widgets": {
   "application/vnd.jupyter.widget-state+json": {
    "state": {},
    "version_major": 2,
    "version_minor": 0
   }
  }
 },
 "nbformat": 4,
 "nbformat_minor": 5
}
