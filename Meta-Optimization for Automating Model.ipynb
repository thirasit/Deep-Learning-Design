{
 "cells": [
  {
   "cell_type": "markdown",
   "id": "019ce3ec-1b85-41de-9008-63fb86c3c8da",
   "metadata": {},
   "source": [
    "# **Meta-Optimization for Automating Model**"
   ]
  },
  {
   "cell_type": "markdown",
   "id": "f0e2fbe1-9eb6-41d5-b961-cb0fc1a3951d",
   "metadata": {},
   "source": [
    "## **Installing and Importing Libraries**"
   ]
  },
  {
   "cell_type": "code",
   "execution_count": 1,
   "id": "a238d94c-f95f-474d-9d68-85150371ed1b",
   "metadata": {},
   "outputs": [
    {
     "name": "stdout",
     "output_type": "stream",
     "text": [
      "Requirement already satisfied: hyperopt in /opt/conda/lib/python3.8/site-packages (0.2.5)\n",
      "Requirement already satisfied: six in /opt/conda/lib/python3.8/site-packages (from hyperopt) (1.16.0)\n",
      "Requirement already satisfied: cloudpickle in /opt/conda/lib/python3.8/site-packages (from hyperopt) (1.6.0)\n",
      "Requirement already satisfied: tqdm in /opt/conda/lib/python3.8/site-packages (from hyperopt) (4.62.3)\n",
      "Requirement already satisfied: networkx>=2.2 in /opt/conda/lib/python3.8/site-packages (from hyperopt) (2.6.3)\n",
      "Requirement already satisfied: scipy in /opt/conda/lib/python3.8/site-packages (from hyperopt) (1.8.0)\n",
      "Requirement already satisfied: future in /opt/conda/lib/python3.8/site-packages (from hyperopt) (0.18.2)\n",
      "Requirement already satisfied: numpy in /opt/conda/lib/python3.8/site-packages (from hyperopt) (1.22.2)\n",
      "Requirement already satisfied: hyperas in /opt/conda/lib/python3.8/site-packages (0.4.1)\n",
      "Requirement already satisfied: keras in /opt/conda/lib/python3.8/site-packages (from hyperas) (2.8.0)\n",
      "Requirement already satisfied: nbconvert in /opt/conda/lib/python3.8/site-packages (from hyperas) (5.6.1)\n",
      "Requirement already satisfied: jupyter in /opt/conda/lib/python3.8/site-packages (from hyperas) (1.0.0)\n",
      "Requirement already satisfied: entrypoints in /opt/conda/lib/python3.8/site-packages (from hyperas) (0.4)\n",
      "Requirement already satisfied: hyperopt in /opt/conda/lib/python3.8/site-packages (from hyperas) (0.2.5)\n",
      "Requirement already satisfied: nbformat in /opt/conda/lib/python3.8/site-packages (from hyperas) (5.1.3)\n",
      "Requirement already satisfied: networkx>=2.2 in /opt/conda/lib/python3.8/site-packages (from hyperopt->hyperas) (2.6.3)\n",
      "Requirement already satisfied: future in /opt/conda/lib/python3.8/site-packages (from hyperopt->hyperas) (0.18.2)\n",
      "Requirement already satisfied: six in /opt/conda/lib/python3.8/site-packages (from hyperopt->hyperas) (1.16.0)\n",
      "Requirement already satisfied: numpy in /opt/conda/lib/python3.8/site-packages (from hyperopt->hyperas) (1.22.2)\n",
      "Requirement already satisfied: tqdm in /opt/conda/lib/python3.8/site-packages (from hyperopt->hyperas) (4.62.3)\n",
      "Requirement already satisfied: scipy in /opt/conda/lib/python3.8/site-packages (from hyperopt->hyperas) (1.8.0)\n",
      "Requirement already satisfied: cloudpickle in /opt/conda/lib/python3.8/site-packages (from hyperopt->hyperas) (1.6.0)\n",
      "Requirement already satisfied: ipykernel in /opt/conda/lib/python3.8/site-packages (from jupyter->hyperas) (6.9.0)\n",
      "Requirement already satisfied: jupyter-console in /opt/conda/lib/python3.8/site-packages (from jupyter->hyperas) (6.4.0)\n",
      "Requirement already satisfied: ipywidgets in /opt/conda/lib/python3.8/site-packages (from jupyter->hyperas) (7.6.5)\n",
      "Requirement already satisfied: notebook in /opt/conda/lib/python3.8/site-packages (from jupyter->hyperas) (6.4.8)\n",
      "Requirement already satisfied: qtconsole in /opt/conda/lib/python3.8/site-packages (from jupyter->hyperas) (5.2.2)\n",
      "Requirement already satisfied: matplotlib-inline<0.2.0,>=0.1.0 in /opt/conda/lib/python3.8/site-packages (from ipykernel->jupyter->hyperas) (0.1.3)\n",
      "Requirement already satisfied: jupyter-client<8.0 in /opt/conda/lib/python3.8/site-packages (from ipykernel->jupyter->hyperas) (6.1.12)\n",
      "Requirement already satisfied: ipython>=7.23.1 in /opt/conda/lib/python3.8/site-packages (from ipykernel->jupyter->hyperas) (8.0.1)\n",
      "Requirement already satisfied: traitlets<6.0,>=5.1.0 in /opt/conda/lib/python3.8/site-packages (from ipykernel->jupyter->hyperas) (5.1.1)\n",
      "Requirement already satisfied: debugpy<2.0,>=1.0.0 in /opt/conda/lib/python3.8/site-packages (from ipykernel->jupyter->hyperas) (1.5.1)\n",
      "Requirement already satisfied: nest-asyncio in /opt/conda/lib/python3.8/site-packages (from ipykernel->jupyter->hyperas) (1.5.4)\n",
      "Requirement already satisfied: tornado<7.0,>=4.2 in /opt/conda/lib/python3.8/site-packages (from ipykernel->jupyter->hyperas) (6.1)\n",
      "Requirement already satisfied: backcall in /opt/conda/lib/python3.8/site-packages (from ipython>=7.23.1->ipykernel->jupyter->hyperas) (0.2.0)\n",
      "Requirement already satisfied: pickleshare in /opt/conda/lib/python3.8/site-packages (from ipython>=7.23.1->ipykernel->jupyter->hyperas) (0.7.5)\n",
      "Requirement already satisfied: pexpect>4.3 in /opt/conda/lib/python3.8/site-packages (from ipython>=7.23.1->ipykernel->jupyter->hyperas) (4.8.0)\n",
      "Requirement already satisfied: prompt-toolkit!=3.0.0,!=3.0.1,<3.1.0,>=2.0.0 in /opt/conda/lib/python3.8/site-packages (from ipython>=7.23.1->ipykernel->jupyter->hyperas) (3.0.28)\n",
      "Requirement already satisfied: black in /opt/conda/lib/python3.8/site-packages (from ipython>=7.23.1->ipykernel->jupyter->hyperas) (22.1.0)\n",
      "Requirement already satisfied: jedi>=0.16 in /opt/conda/lib/python3.8/site-packages (from ipython>=7.23.1->ipykernel->jupyter->hyperas) (0.18.1)\n",
      "Requirement already satisfied: setuptools>=18.5 in /opt/conda/lib/python3.8/site-packages (from ipython>=7.23.1->ipykernel->jupyter->hyperas) (60.9.1)\n",
      "Requirement already satisfied: stack-data in /opt/conda/lib/python3.8/site-packages (from ipython>=7.23.1->ipykernel->jupyter->hyperas) (0.2.0)\n",
      "Requirement already satisfied: decorator in /opt/conda/lib/python3.8/site-packages (from ipython>=7.23.1->ipykernel->jupyter->hyperas) (5.1.1)\n",
      "Requirement already satisfied: pygments in /opt/conda/lib/python3.8/site-packages (from ipython>=7.23.1->ipykernel->jupyter->hyperas) (2.11.2)\n",
      "Requirement already satisfied: parso<0.9.0,>=0.8.0 in /opt/conda/lib/python3.8/site-packages (from jedi>=0.16->ipython>=7.23.1->ipykernel->jupyter->hyperas) (0.8.3)\n",
      "Requirement already satisfied: python-dateutil>=2.1 in /opt/conda/lib/python3.8/site-packages (from jupyter-client<8.0->ipykernel->jupyter->hyperas) (2.8.2)\n",
      "Requirement already satisfied: pyzmq>=13 in /opt/conda/lib/python3.8/site-packages (from jupyter-client<8.0->ipykernel->jupyter->hyperas) (22.3.0)\n",
      "Requirement already satisfied: jupyter-core>=4.6.0 in /opt/conda/lib/python3.8/site-packages (from jupyter-client<8.0->ipykernel->jupyter->hyperas) (4.9.1)\n",
      "Requirement already satisfied: ptyprocess>=0.5 in /opt/conda/lib/python3.8/site-packages (from pexpect>4.3->ipython>=7.23.1->ipykernel->jupyter->hyperas) (0.7.0)\n",
      "Requirement already satisfied: wcwidth in /opt/conda/lib/python3.8/site-packages (from prompt-toolkit!=3.0.0,!=3.0.1,<3.1.0,>=2.0.0->ipython>=7.23.1->ipykernel->jupyter->hyperas) (0.2.5)\n",
      "Requirement already satisfied: pathspec>=0.9.0 in /opt/conda/lib/python3.8/site-packages (from black->ipython>=7.23.1->ipykernel->jupyter->hyperas) (0.9.0)\n",
      "Requirement already satisfied: mypy-extensions>=0.4.3 in /opt/conda/lib/python3.8/site-packages (from black->ipython>=7.23.1->ipykernel->jupyter->hyperas) (0.4.3)\n",
      "Requirement already satisfied: click>=8.0.0 in /opt/conda/lib/python3.8/site-packages (from black->ipython>=7.23.1->ipykernel->jupyter->hyperas) (8.0.3)\n",
      "Requirement already satisfied: platformdirs>=2 in /opt/conda/lib/python3.8/site-packages (from black->ipython>=7.23.1->ipykernel->jupyter->hyperas) (2.5.0)\n",
      "Requirement already satisfied: tomli>=1.1.0 in /opt/conda/lib/python3.8/site-packages (from black->ipython>=7.23.1->ipykernel->jupyter->hyperas) (2.0.1)\n",
      "Requirement already satisfied: typing-extensions>=3.10.0.0 in /opt/conda/lib/python3.8/site-packages (from black->ipython>=7.23.1->ipykernel->jupyter->hyperas) (4.1.1)\n",
      "Requirement already satisfied: widgetsnbextension~=3.5.0 in /opt/conda/lib/python3.8/site-packages (from ipywidgets->jupyter->hyperas) (3.5.2)\n",
      "Requirement already satisfied: jupyterlab-widgets>=1.0.0 in /opt/conda/lib/python3.8/site-packages (from ipywidgets->jupyter->hyperas) (1.0.2)\n",
      "Requirement already satisfied: ipython-genutils~=0.2.0 in /opt/conda/lib/python3.8/site-packages (from ipywidgets->jupyter->hyperas) (0.2.0)\n",
      "Requirement already satisfied: jsonschema!=2.5.0,>=2.4 in /opt/conda/lib/python3.8/site-packages (from nbformat->hyperas) (4.4.0)\n",
      "Requirement already satisfied: pyrsistent!=0.17.0,!=0.17.1,!=0.17.2,>=0.14.0 in /opt/conda/lib/python3.8/site-packages (from jsonschema!=2.5.0,>=2.4->nbformat->hyperas) (0.18.1)\n",
      "Requirement already satisfied: importlib-resources>=1.4.0 in /opt/conda/lib/python3.8/site-packages (from jsonschema!=2.5.0,>=2.4->nbformat->hyperas) (5.4.0)\n",
      "Requirement already satisfied: attrs>=17.4.0 in /opt/conda/lib/python3.8/site-packages (from jsonschema!=2.5.0,>=2.4->nbformat->hyperas) (21.4.0)\n",
      "Requirement already satisfied: zipp>=3.1.0 in /opt/conda/lib/python3.8/site-packages (from importlib-resources>=1.4.0->jsonschema!=2.5.0,>=2.4->nbformat->hyperas) (3.7.0)\n",
      "Requirement already satisfied: Send2Trash>=1.8.0 in /opt/conda/lib/python3.8/site-packages (from notebook->jupyter->hyperas) (1.8.0)\n",
      "Requirement already satisfied: jinja2 in /opt/conda/lib/python3.8/site-packages (from notebook->jupyter->hyperas) (3.0.3)\n",
      "Requirement already satisfied: argon2-cffi in /opt/conda/lib/python3.8/site-packages (from notebook->jupyter->hyperas) (21.3.0)\n",
      "Requirement already satisfied: terminado>=0.8.3 in /opt/conda/lib/python3.8/site-packages (from notebook->jupyter->hyperas) (0.13.1)\n",
      "Requirement already satisfied: prometheus-client in /opt/conda/lib/python3.8/site-packages (from notebook->jupyter->hyperas) (0.13.1)\n",
      "Requirement already satisfied: argon2-cffi-bindings in /opt/conda/lib/python3.8/site-packages (from argon2-cffi->notebook->jupyter->hyperas) (21.2.0)\n",
      "Requirement already satisfied: cffi>=1.0.1 in /opt/conda/lib/python3.8/site-packages (from argon2-cffi-bindings->argon2-cffi->notebook->jupyter->hyperas) (1.15.0)\n",
      "Requirement already satisfied: pycparser in /opt/conda/lib/python3.8/site-packages (from cffi>=1.0.1->argon2-cffi-bindings->argon2-cffi->notebook->jupyter->hyperas) (2.21)\n",
      "Requirement already satisfied: MarkupSafe>=2.0 in /opt/conda/lib/python3.8/site-packages (from jinja2->notebook->jupyter->hyperas) (2.0.1)\n",
      "Requirement already satisfied: mistune<2,>=0.8.1 in /opt/conda/lib/python3.8/site-packages (from nbconvert->hyperas) (0.8.4)\n",
      "Requirement already satisfied: testpath in /opt/conda/lib/python3.8/site-packages (from nbconvert->hyperas) (0.5.0)\n",
      "Requirement already satisfied: defusedxml in /opt/conda/lib/python3.8/site-packages (from nbconvert->hyperas) (0.7.1)\n",
      "Requirement already satisfied: pandocfilters>=1.4.1 in /opt/conda/lib/python3.8/site-packages (from nbconvert->hyperas) (1.5.0)\n",
      "Requirement already satisfied: bleach in /opt/conda/lib/python3.8/site-packages (from nbconvert->hyperas) (4.1.0)\n",
      "Requirement already satisfied: packaging in /opt/conda/lib/python3.8/site-packages (from bleach->nbconvert->hyperas) (21.3)\n",
      "Requirement already satisfied: webencodings in /opt/conda/lib/python3.8/site-packages (from bleach->nbconvert->hyperas) (0.5.1)\n",
      "Requirement already satisfied: pyparsing!=3.0.5,>=2.0.2 in /opt/conda/lib/python3.8/site-packages (from packaging->bleach->nbconvert->hyperas) (2.4.7)\n",
      "Requirement already satisfied: qtpy in /opt/conda/lib/python3.8/site-packages (from qtconsole->jupyter->hyperas) (2.0.1)\n",
      "Requirement already satisfied: asttokens in /opt/conda/lib/python3.8/site-packages (from stack-data->ipython>=7.23.1->ipykernel->jupyter->hyperas) (2.0.5)\n",
      "Requirement already satisfied: executing in /opt/conda/lib/python3.8/site-packages (from stack-data->ipython>=7.23.1->ipykernel->jupyter->hyperas) (0.8.2)\n",
      "Requirement already satisfied: pure-eval in /opt/conda/lib/python3.8/site-packages (from stack-data->ipython>=7.23.1->ipykernel->jupyter->hyperas) (0.2.2)\n",
      "Requirement already satisfied: autokeras in /opt/conda/lib/python3.8/site-packages (1.0.18)\n",
      "Requirement already satisfied: keras-tuner>=1.1.0 in /opt/conda/lib/python3.8/site-packages (from autokeras) (1.1.0)\n",
      "Requirement already satisfied: packaging in /opt/conda/lib/python3.8/site-packages (from autokeras) (21.3)\n",
      "Requirement already satisfied: pandas in /opt/conda/lib/python3.8/site-packages (from autokeras) (1.3.5)\n",
      "Requirement already satisfied: tensorflow>=2.8.0 in /opt/conda/lib/python3.8/site-packages (from autokeras) (2.8.0)\n",
      "Requirement already satisfied: scipy in /opt/conda/lib/python3.8/site-packages (from keras-tuner>=1.1.0->autokeras) (1.8.0)\n",
      "Requirement already satisfied: numpy in /opt/conda/lib/python3.8/site-packages (from keras-tuner>=1.1.0->autokeras) (1.22.2)\n",
      "Requirement already satisfied: requests in /opt/conda/lib/python3.8/site-packages (from keras-tuner>=1.1.0->autokeras) (2.27.1)\n",
      "Requirement already satisfied: ipython in /opt/conda/lib/python3.8/site-packages (from keras-tuner>=1.1.0->autokeras) (8.0.1)\n",
      "Requirement already satisfied: tensorboard in /opt/conda/lib/python3.8/site-packages (from keras-tuner>=1.1.0->autokeras) (2.8.0)\n",
      "Requirement already satisfied: kt-legacy in /opt/conda/lib/python3.8/site-packages (from keras-tuner>=1.1.0->autokeras) (1.0.4)\n",
      "Requirement already satisfied: typing-extensions>=3.6.6 in /opt/conda/lib/python3.8/site-packages (from tensorflow>=2.8.0->autokeras) (4.1.1)\n",
      "Requirement already satisfied: flatbuffers>=1.12 in /opt/conda/lib/python3.8/site-packages (from tensorflow>=2.8.0->autokeras) (2.0)\n",
      "Requirement already satisfied: astunparse>=1.6.0 in /opt/conda/lib/python3.8/site-packages (from tensorflow>=2.8.0->autokeras) (1.6.3)\n",
      "Requirement already satisfied: protobuf>=3.9.2 in /opt/conda/lib/python3.8/site-packages (from tensorflow>=2.8.0->autokeras) (3.14.0)\n",
      "Requirement already satisfied: termcolor>=1.1.0 in /opt/conda/lib/python3.8/site-packages (from tensorflow>=2.8.0->autokeras) (1.1.0)\n",
      "Requirement already satisfied: opt-einsum>=2.3.2 in /opt/conda/lib/python3.8/site-packages (from tensorflow>=2.8.0->autokeras) (3.3.0)\n",
      "Requirement already satisfied: setuptools in /opt/conda/lib/python3.8/site-packages (from tensorflow>=2.8.0->autokeras) (60.9.1)\n",
      "Requirement already satisfied: gast>=0.2.1 in /opt/conda/lib/python3.8/site-packages (from tensorflow>=2.8.0->autokeras) (0.5.3)\n",
      "Requirement already satisfied: google-pasta>=0.1.1 in /opt/conda/lib/python3.8/site-packages (from tensorflow>=2.8.0->autokeras) (0.2.0)\n",
      "Requirement already satisfied: h5py>=2.9.0 in /opt/conda/lib/python3.8/site-packages (from tensorflow>=2.8.0->autokeras) (3.6.0)\n",
      "Requirement already satisfied: grpcio<2.0,>=1.24.3 in /opt/conda/lib/python3.8/site-packages (from tensorflow>=2.8.0->autokeras) (1.44.0)\n",
      "Requirement already satisfied: absl-py>=0.4.0 in /opt/conda/lib/python3.8/site-packages (from tensorflow>=2.8.0->autokeras) (1.0.0)\n",
      "Requirement already satisfied: libclang>=9.0.1 in /opt/conda/lib/python3.8/site-packages (from tensorflow>=2.8.0->autokeras) (13.0.0)\n",
      "Requirement already satisfied: six>=1.12.0 in /opt/conda/lib/python3.8/site-packages (from tensorflow>=2.8.0->autokeras) (1.16.0)\n",
      "Requirement already satisfied: tf-estimator-nightly==2.8.0.dev2021122109 in /opt/conda/lib/python3.8/site-packages (from tensorflow>=2.8.0->autokeras) (2.8.0.dev2021122109)\n",
      "Requirement already satisfied: wrapt>=1.11.0 in /opt/conda/lib/python3.8/site-packages (from tensorflow>=2.8.0->autokeras) (1.13.3)\n",
      "Requirement already satisfied: keras<2.9,>=2.8.0rc0 in /opt/conda/lib/python3.8/site-packages (from tensorflow>=2.8.0->autokeras) (2.8.0)\n",
      "Requirement already satisfied: tensorflow-io-gcs-filesystem>=0.23.1 in /opt/conda/lib/python3.8/site-packages (from tensorflow>=2.8.0->autokeras) (0.24.0)\n",
      "Requirement already satisfied: keras-preprocessing>=1.1.1 in /opt/conda/lib/python3.8/site-packages (from tensorflow>=2.8.0->autokeras) (1.1.2)\n",
      "Requirement already satisfied: wheel<1.0,>=0.23.0 in /opt/conda/lib/python3.8/site-packages (from astunparse>=1.6.0->tensorflow>=2.8.0->autokeras) (0.37.1)\n",
      "Requirement already satisfied: tensorboard-plugin-wit>=1.6.0 in /opt/conda/lib/python3.8/site-packages (from tensorboard->keras-tuner>=1.1.0->autokeras) (1.8.1)\n",
      "Requirement already satisfied: werkzeug>=0.11.15 in /opt/conda/lib/python3.8/site-packages (from tensorboard->keras-tuner>=1.1.0->autokeras) (2.0.3)\n",
      "Requirement already satisfied: tensorboard-data-server<0.7.0,>=0.6.0 in /opt/conda/lib/python3.8/site-packages (from tensorboard->keras-tuner>=1.1.0->autokeras) (0.6.1)\n",
      "Requirement already satisfied: markdown>=2.6.8 in /opt/conda/lib/python3.8/site-packages (from tensorboard->keras-tuner>=1.1.0->autokeras) (3.3.6)\n",
      "Requirement already satisfied: google-auth-oauthlib<0.5,>=0.4.1 in /opt/conda/lib/python3.8/site-packages (from tensorboard->keras-tuner>=1.1.0->autokeras) (0.4.6)\n",
      "Requirement already satisfied: google-auth<3,>=1.6.3 in /opt/conda/lib/python3.8/site-packages (from tensorboard->keras-tuner>=1.1.0->autokeras) (2.6.0)\n",
      "Requirement already satisfied: cachetools<6.0,>=2.0.0 in /opt/conda/lib/python3.8/site-packages (from google-auth<3,>=1.6.3->tensorboard->keras-tuner>=1.1.0->autokeras) (5.0.0)\n",
      "Requirement already satisfied: rsa<5,>=3.1.4 in /opt/conda/lib/python3.8/site-packages (from google-auth<3,>=1.6.3->tensorboard->keras-tuner>=1.1.0->autokeras) (4.8)\n",
      "Requirement already satisfied: pyasn1-modules>=0.2.1 in /opt/conda/lib/python3.8/site-packages (from google-auth<3,>=1.6.3->tensorboard->keras-tuner>=1.1.0->autokeras) (0.2.8)\n",
      "Requirement already satisfied: requests-oauthlib>=0.7.0 in /opt/conda/lib/python3.8/site-packages (from google-auth-oauthlib<0.5,>=0.4.1->tensorboard->keras-tuner>=1.1.0->autokeras) (1.3.1)\n",
      "Requirement already satisfied: importlib-metadata>=4.4 in /opt/conda/lib/python3.8/site-packages (from markdown>=2.6.8->tensorboard->keras-tuner>=1.1.0->autokeras) (4.11.0)\n",
      "Requirement already satisfied: zipp>=0.5 in /opt/conda/lib/python3.8/site-packages (from importlib-metadata>=4.4->markdown>=2.6.8->tensorboard->keras-tuner>=1.1.0->autokeras) (3.7.0)\n",
      "Requirement already satisfied: pyasn1<0.5.0,>=0.4.6 in /opt/conda/lib/python3.8/site-packages (from pyasn1-modules>=0.2.1->google-auth<3,>=1.6.3->tensorboard->keras-tuner>=1.1.0->autokeras) (0.4.8)\n",
      "Requirement already satisfied: charset-normalizer~=2.0.0 in /opt/conda/lib/python3.8/site-packages (from requests->keras-tuner>=1.1.0->autokeras) (2.0.12)\n",
      "Requirement already satisfied: certifi>=2017.4.17 in /opt/conda/lib/python3.8/site-packages (from requests->keras-tuner>=1.1.0->autokeras) (2021.10.8)\n",
      "Requirement already satisfied: urllib3<1.27,>=1.21.1 in /opt/conda/lib/python3.8/site-packages (from requests->keras-tuner>=1.1.0->autokeras) (1.26.8)\n",
      "Requirement already satisfied: idna<4,>=2.5 in /opt/conda/lib/python3.8/site-packages (from requests->keras-tuner>=1.1.0->autokeras) (3.3)\n",
      "Requirement already satisfied: oauthlib>=3.0.0 in /opt/conda/lib/python3.8/site-packages (from requests-oauthlib>=0.7.0->google-auth-oauthlib<0.5,>=0.4.1->tensorboard->keras-tuner>=1.1.0->autokeras) (3.2.0)\n",
      "Requirement already satisfied: matplotlib-inline in /opt/conda/lib/python3.8/site-packages (from ipython->keras-tuner>=1.1.0->autokeras) (0.1.3)\n",
      "Requirement already satisfied: traitlets>=5 in /opt/conda/lib/python3.8/site-packages (from ipython->keras-tuner>=1.1.0->autokeras) (5.1.1)\n",
      "Requirement already satisfied: stack-data in /opt/conda/lib/python3.8/site-packages (from ipython->keras-tuner>=1.1.0->autokeras) (0.2.0)\n",
      "Requirement already satisfied: decorator in /opt/conda/lib/python3.8/site-packages (from ipython->keras-tuner>=1.1.0->autokeras) (5.1.1)\n",
      "Requirement already satisfied: backcall in /opt/conda/lib/python3.8/site-packages (from ipython->keras-tuner>=1.1.0->autokeras) (0.2.0)\n",
      "Requirement already satisfied: jedi>=0.16 in /opt/conda/lib/python3.8/site-packages (from ipython->keras-tuner>=1.1.0->autokeras) (0.18.1)\n",
      "Requirement already satisfied: black in /opt/conda/lib/python3.8/site-packages (from ipython->keras-tuner>=1.1.0->autokeras) (22.1.0)\n",
      "Requirement already satisfied: pexpect>4.3 in /opt/conda/lib/python3.8/site-packages (from ipython->keras-tuner>=1.1.0->autokeras) (4.8.0)\n",
      "Requirement already satisfied: pickleshare in /opt/conda/lib/python3.8/site-packages (from ipython->keras-tuner>=1.1.0->autokeras) (0.7.5)\n",
      "Requirement already satisfied: prompt-toolkit!=3.0.0,!=3.0.1,<3.1.0,>=2.0.0 in /opt/conda/lib/python3.8/site-packages (from ipython->keras-tuner>=1.1.0->autokeras) (3.0.28)\n",
      "Requirement already satisfied: pygments in /opt/conda/lib/python3.8/site-packages (from ipython->keras-tuner>=1.1.0->autokeras) (2.11.2)\n",
      "Requirement already satisfied: parso<0.9.0,>=0.8.0 in /opt/conda/lib/python3.8/site-packages (from jedi>=0.16->ipython->keras-tuner>=1.1.0->autokeras) (0.8.3)\n",
      "Requirement already satisfied: ptyprocess>=0.5 in /opt/conda/lib/python3.8/site-packages (from pexpect>4.3->ipython->keras-tuner>=1.1.0->autokeras) (0.7.0)\n",
      "Requirement already satisfied: wcwidth in /opt/conda/lib/python3.8/site-packages (from prompt-toolkit!=3.0.0,!=3.0.1,<3.1.0,>=2.0.0->ipython->keras-tuner>=1.1.0->autokeras) (0.2.5)\n",
      "Requirement already satisfied: click>=8.0.0 in /opt/conda/lib/python3.8/site-packages (from black->ipython->keras-tuner>=1.1.0->autokeras) (8.0.3)\n",
      "Requirement already satisfied: pathspec>=0.9.0 in /opt/conda/lib/python3.8/site-packages (from black->ipython->keras-tuner>=1.1.0->autokeras) (0.9.0)\n",
      "Requirement already satisfied: platformdirs>=2 in /opt/conda/lib/python3.8/site-packages (from black->ipython->keras-tuner>=1.1.0->autokeras) (2.5.0)\n",
      "Requirement already satisfied: tomli>=1.1.0 in /opt/conda/lib/python3.8/site-packages (from black->ipython->keras-tuner>=1.1.0->autokeras) (2.0.1)\n",
      "Requirement already satisfied: mypy-extensions>=0.4.3 in /opt/conda/lib/python3.8/site-packages (from black->ipython->keras-tuner>=1.1.0->autokeras) (0.4.3)\n",
      "Requirement already satisfied: pyparsing!=3.0.5,>=2.0.2 in /opt/conda/lib/python3.8/site-packages (from packaging->autokeras) (2.4.7)\n",
      "Requirement already satisfied: python-dateutil>=2.7.3 in /opt/conda/lib/python3.8/site-packages (from pandas->autokeras) (2.8.2)\n",
      "Requirement already satisfied: pytz>=2017.3 in /opt/conda/lib/python3.8/site-packages (from pandas->autokeras) (2021.3)\n",
      "Requirement already satisfied: pure-eval in /opt/conda/lib/python3.8/site-packages (from stack-data->ipython->keras-tuner>=1.1.0->autokeras) (0.2.2)\n",
      "Requirement already satisfied: asttokens in /opt/conda/lib/python3.8/site-packages (from stack-data->ipython->keras-tuner>=1.1.0->autokeras) (2.0.5)\n",
      "Requirement already satisfied: executing in /opt/conda/lib/python3.8/site-packages (from stack-data->ipython->keras-tuner>=1.1.0->autokeras) (0.8.2)\n",
      "Requirement already satisfied: tensorflow in /opt/conda/lib/python3.8/site-packages (2.8.0)\n",
      "Requirement already satisfied: keras-preprocessing>=1.1.1 in /opt/conda/lib/python3.8/site-packages (from tensorflow) (1.1.2)\n",
      "Requirement already satisfied: six>=1.12.0 in /opt/conda/lib/python3.8/site-packages (from tensorflow) (1.16.0)\n",
      "Requirement already satisfied: tensorflow-io-gcs-filesystem>=0.23.1 in /opt/conda/lib/python3.8/site-packages (from tensorflow) (0.24.0)\n",
      "Requirement already satisfied: opt-einsum>=2.3.2 in /opt/conda/lib/python3.8/site-packages (from tensorflow) (3.3.0)\n",
      "Requirement already satisfied: keras<2.9,>=2.8.0rc0 in /opt/conda/lib/python3.8/site-packages (from tensorflow) (2.8.0)\n",
      "Requirement already satisfied: termcolor>=1.1.0 in /opt/conda/lib/python3.8/site-packages (from tensorflow) (1.1.0)\n",
      "Requirement already satisfied: gast>=0.2.1 in /opt/conda/lib/python3.8/site-packages (from tensorflow) (0.5.3)\n",
      "Requirement already satisfied: protobuf>=3.9.2 in /opt/conda/lib/python3.8/site-packages (from tensorflow) (3.14.0)\n",
      "Requirement already satisfied: typing-extensions>=3.6.6 in /opt/conda/lib/python3.8/site-packages (from tensorflow) (4.1.1)\n",
      "Requirement already satisfied: astunparse>=1.6.0 in /opt/conda/lib/python3.8/site-packages (from tensorflow) (1.6.3)\n",
      "Requirement already satisfied: google-pasta>=0.1.1 in /opt/conda/lib/python3.8/site-packages (from tensorflow) (0.2.0)\n",
      "Requirement already satisfied: grpcio<2.0,>=1.24.3 in /opt/conda/lib/python3.8/site-packages (from tensorflow) (1.44.0)\n",
      "Requirement already satisfied: setuptools in /opt/conda/lib/python3.8/site-packages (from tensorflow) (60.9.1)\n",
      "Requirement already satisfied: wrapt>=1.11.0 in /opt/conda/lib/python3.8/site-packages (from tensorflow) (1.13.3)\n",
      "Requirement already satisfied: libclang>=9.0.1 in /opt/conda/lib/python3.8/site-packages (from tensorflow) (13.0.0)\n",
      "Requirement already satisfied: numpy>=1.20 in /opt/conda/lib/python3.8/site-packages (from tensorflow) (1.22.2)\n",
      "Requirement already satisfied: absl-py>=0.4.0 in /opt/conda/lib/python3.8/site-packages (from tensorflow) (1.0.0)\n",
      "Requirement already satisfied: tensorboard<2.9,>=2.8 in /opt/conda/lib/python3.8/site-packages (from tensorflow) (2.8.0)\n",
      "Requirement already satisfied: tf-estimator-nightly==2.8.0.dev2021122109 in /opt/conda/lib/python3.8/site-packages (from tensorflow) (2.8.0.dev2021122109)\n",
      "Requirement already satisfied: flatbuffers>=1.12 in /opt/conda/lib/python3.8/site-packages (from tensorflow) (2.0)\n",
      "Requirement already satisfied: h5py>=2.9.0 in /opt/conda/lib/python3.8/site-packages (from tensorflow) (3.6.0)\n",
      "Requirement already satisfied: wheel<1.0,>=0.23.0 in /opt/conda/lib/python3.8/site-packages (from astunparse>=1.6.0->tensorflow) (0.37.1)\n",
      "Requirement already satisfied: markdown>=2.6.8 in /opt/conda/lib/python3.8/site-packages (from tensorboard<2.9,>=2.8->tensorflow) (3.3.6)\n",
      "Requirement already satisfied: tensorboard-plugin-wit>=1.6.0 in /opt/conda/lib/python3.8/site-packages (from tensorboard<2.9,>=2.8->tensorflow) (1.8.1)\n",
      "Requirement already satisfied: werkzeug>=0.11.15 in /opt/conda/lib/python3.8/site-packages (from tensorboard<2.9,>=2.8->tensorflow) (2.0.3)\n",
      "Requirement already satisfied: google-auth-oauthlib<0.5,>=0.4.1 in /opt/conda/lib/python3.8/site-packages (from tensorboard<2.9,>=2.8->tensorflow) (0.4.6)\n",
      "Requirement already satisfied: tensorboard-data-server<0.7.0,>=0.6.0 in /opt/conda/lib/python3.8/site-packages (from tensorboard<2.9,>=2.8->tensorflow) (0.6.1)\n",
      "Requirement already satisfied: requests<3,>=2.21.0 in /opt/conda/lib/python3.8/site-packages (from tensorboard<2.9,>=2.8->tensorflow) (2.27.1)\n",
      "Requirement already satisfied: google-auth<3,>=1.6.3 in /opt/conda/lib/python3.8/site-packages (from tensorboard<2.9,>=2.8->tensorflow) (2.6.0)\n",
      "Requirement already satisfied: pyasn1-modules>=0.2.1 in /opt/conda/lib/python3.8/site-packages (from google-auth<3,>=1.6.3->tensorboard<2.9,>=2.8->tensorflow) (0.2.8)\n",
      "Requirement already satisfied: cachetools<6.0,>=2.0.0 in /opt/conda/lib/python3.8/site-packages (from google-auth<3,>=1.6.3->tensorboard<2.9,>=2.8->tensorflow) (5.0.0)\n",
      "Requirement already satisfied: rsa<5,>=3.1.4 in /opt/conda/lib/python3.8/site-packages (from google-auth<3,>=1.6.3->tensorboard<2.9,>=2.8->tensorflow) (4.8)\n",
      "Requirement already satisfied: requests-oauthlib>=0.7.0 in /opt/conda/lib/python3.8/site-packages (from google-auth-oauthlib<0.5,>=0.4.1->tensorboard<2.9,>=2.8->tensorflow) (1.3.1)\n",
      "Requirement already satisfied: importlib-metadata>=4.4 in /opt/conda/lib/python3.8/site-packages (from markdown>=2.6.8->tensorboard<2.9,>=2.8->tensorflow) (4.11.0)\n",
      "Requirement already satisfied: zipp>=0.5 in /opt/conda/lib/python3.8/site-packages (from importlib-metadata>=4.4->markdown>=2.6.8->tensorboard<2.9,>=2.8->tensorflow) (3.7.0)\n",
      "Requirement already satisfied: pyasn1<0.5.0,>=0.4.6 in /opt/conda/lib/python3.8/site-packages (from pyasn1-modules>=0.2.1->google-auth<3,>=1.6.3->tensorboard<2.9,>=2.8->tensorflow) (0.4.8)\n",
      "Requirement already satisfied: idna<4,>=2.5 in /opt/conda/lib/python3.8/site-packages (from requests<3,>=2.21.0->tensorboard<2.9,>=2.8->tensorflow) (3.3)\n",
      "Requirement already satisfied: charset-normalizer~=2.0.0 in /opt/conda/lib/python3.8/site-packages (from requests<3,>=2.21.0->tensorboard<2.9,>=2.8->tensorflow) (2.0.12)\n",
      "Requirement already satisfied: urllib3<1.27,>=1.21.1 in /opt/conda/lib/python3.8/site-packages (from requests<3,>=2.21.0->tensorboard<2.9,>=2.8->tensorflow) (1.26.8)\n",
      "Requirement already satisfied: certifi>=2017.4.17 in /opt/conda/lib/python3.8/site-packages (from requests<3,>=2.21.0->tensorboard<2.9,>=2.8->tensorflow) (2021.10.8)\n",
      "Requirement already satisfied: oauthlib>=3.0.0 in /opt/conda/lib/python3.8/site-packages (from requests-oauthlib>=0.7.0->google-auth-oauthlib<0.5,>=0.4.1->tensorboard<2.9,>=2.8->tensorflow) (3.2.0)\n"
     ]
    },
    {
     "name": "stderr",
     "output_type": "stream",
     "text": [
      "2022-02-23 00:28:47.298230: W tensorflow/stream_executor/platform/default/dso_loader.cc:64] Could not load dynamic library 'libcudart.so.11.0'; dlerror: libcudart.so.11.0: cannot open shared object file: No such file or directory\n",
      "2022-02-23 00:28:47.298284: I tensorflow/stream_executor/cuda/cudart_stub.cc:29] Ignore above cudart dlerror if you do not have a GPU set up on your machine.\n",
      "<frozen importlib._bootstrap>:219: RuntimeWarning: scipy._lib.messagestream.MessageStream size changed, may indicate binary incompatibility. Expected 56 from C header, got 64 from PyObject\n"
     ]
    }
   ],
   "source": [
    "# installing packages\n",
    "!pip install hyperopt\n",
    "!pip install hyperas\n",
    "!pip install autokeras\n",
    "!pip install tensorflow \n",
    "\n",
    "# array processing\n",
    "import numpy as np\n",
    "\n",
    "# deep learning staple libraries\n",
    "import tensorflow as tf\n",
    "from tensorflow import keras\n",
    "\n",
    "# meta-optimization\n",
    "import hyperopt\n",
    "import hyperas\n",
    "\n",
    "# neural architecture search\n",
    "import autokeras as ak"
   ]
  },
  {
   "cell_type": "markdown",
   "id": "ca11fba4-7d27-43ff-acf8-a2784d5a2479",
   "metadata": {},
   "source": [
    "## **Loading Data**"
   ]
  },
  {
   "cell_type": "markdown",
   "id": "f2005e0c-a1dc-47a2-84a6-2b187f823a4b",
   "metadata": {},
   "source": [
    "For data, we'll use the CIFAR-10 dataset, with a small adaptation to decrease the size of the dataset for faster meta-optimization training - only data instances with a label of 0 or 1 are included."
   ]
  },
  {
   "cell_type": "code",
   "execution_count": 2,
   "id": "07c03a93-750e-4880-afb6-756bc54a4630",
   "metadata": {},
   "outputs": [],
   "source": [
    "# load cifar-10 data\n",
    "(x_train, y_train), (x_test, y_test) = keras.datasets.cifar10.load_data()\n",
    "\n",
    "# get training data\n",
    "valid_train_indices = (y_train.reshape(len(y_train))==0)|(y_train.reshape(len(y_train))==1)\n",
    "x_train = x_train[valid_train_indices]\n",
    "y_train = y_train[valid_train_indices]\n",
    "\n",
    "# get testing data\n",
    "valid_test_indices = (y_test.reshape(len(y_test))==0)|(y_test.reshape(len(y_test))==1)\n",
    "x_test = x_test[valid_test_indices]\n",
    "y_test = y_test[valid_test_indices]"
   ]
  },
  {
   "cell_type": "markdown",
   "id": "a1c087d7-8918-4d8e-8ee0-2f5be22b4da2",
   "metadata": {},
   "source": [
    "## **HyperOpt**\n",
    "### **Finding Minimum of a Continuous Function**"
   ]
  },
  {
   "cell_type": "markdown",
   "id": "0c940595-682c-43dc-babd-3c507ac74de8",
   "metadata": {},
   "source": [
    "Code to use Bayesian optimization via TPE algorithm to find the minimum of the function $f(x)=(x-1)^2$."
   ]
  },
  {
   "cell_type": "code",
   "execution_count": 3,
   "id": "128a5074-522e-4664-89fa-de7634aaad51",
   "metadata": {},
   "outputs": [
    {
     "name": "stdout",
     "output_type": "stream",
     "text": [
      "100%|██████████| 500/500 [00:01<00:00, 352.03trial/s, best loss: 4.500073158764411e-06]\n"
     ]
    }
   ],
   "source": [
    "# define the search space\n",
    "from hyperopt import hp\n",
    "space = {'x':hp.normal('x', mu=0, sigma=10)}\n",
    "\n",
    "# define objective function\n",
    "def obj_func(params):\n",
    "    return (params['x']-1)**2\n",
    "\n",
    "# perform minimization procedure\n",
    "from hyperopt import fmin, tpe\n",
    "best = fmin(obj_func, space, algo=tpe.suggest, max_evals=500)"
   ]
  },
  {
   "cell_type": "markdown",
   "id": "1ccd955c-2949-4a2e-a5f6-69ad604992c0",
   "metadata": {},
   "source": [
    "### **Finding Minimum of a Non-continuous Function Using Statuses**"
   ]
  },
  {
   "cell_type": "markdown",
   "id": "7a1dc938-6ffc-45f7-8214-feaca68e8a0b",
   "metadata": {},
   "source": [
    "Code to find the minimum of the function $\\left|\\frac{1}{x}\\right| + x^2$, a function that is undefined at $x=0$, to demonstrate the usage of `ok` and `fail` statuses."
   ]
  },
  {
   "cell_type": "code",
   "execution_count": 4,
   "id": "bab3e47e-8603-444a-ac0f-8bece40a6846",
   "metadata": {},
   "outputs": [
    {
     "name": "stdout",
     "output_type": "stream",
     "text": [
      "100%|██████████| 500/500 [00:01<00:00, 355.58trial/s, best loss: 1.8898829304936338]\n"
     ]
    }
   ],
   "source": [
    "# define the search space\n",
    "from hyperopt import hp\n",
    "space = {'x':hp.normal('x', mu=0, sigma=10)}\n",
    "\n",
    "# define objective function\n",
    "def obj_func(params):\n",
    "    if params['x']==0:\n",
    "        return {'status':'fail'}\n",
    "    return {'loss':np.abs(1/params['x'])+params['x']**2,\n",
    "            'status':'ok'}\n",
    "\n",
    "# perform minimization procedure\n",
    "from hyperopt import fmin, tpe\n",
    "best = fmin(obj_func, space, algo=tpe.suggest, max_evals=500)"
   ]
  },
  {
   "cell_type": "markdown",
   "id": "b6eeacfb-2359-418a-a822-f3271912bdef",
   "metadata": {},
   "source": [
    "### **Finding Optimal Optimizer and Learning Rate in CNN**"
   ]
  },
  {
   "cell_type": "code",
   "execution_count": 5,
   "id": "aeff99b9-7ead-40f1-8cff-a4fda5e6d6f9",
   "metadata": {},
   "outputs": [
    {
     "name": "stdout",
     "output_type": "stream",
     "text": [
      "  0%|          | 0/1 [00:00<?, ?trial/s, best loss=?]"
     ]
    },
    {
     "name": "stderr",
     "output_type": "stream",
     "text": [
      "2022-02-23 00:36:22.960318: W tensorflow/stream_executor/platform/default/dso_loader.cc:64] Could not load dynamic library 'libcuda.so.1'; dlerror: libcuda.so.1: cannot open shared object file: No such file or directory\n",
      "2022-02-23 00:36:22.960399: W tensorflow/stream_executor/cuda/cuda_driver.cc:269] failed call to cuInit: UNKNOWN ERROR (303)\n",
      "2022-02-23 00:36:22.960462: I tensorflow/stream_executor/cuda/cuda_diagnostics.cc:156] kernel driver does not appear to be running on this host (jupyter-61e195dae136b0d2eea966b8): /proc/driver/nvidia/version does not exist\n",
      "2022-02-23 00:36:22.962621: I tensorflow/core/platform/cpu_feature_guard.cc:151] This TensorFlow binary is optimized with oneAPI Deep Neural Network Library (oneDNN) to use the following CPU instructions in performance-critical operations:  AVX2 FMA\n",
      "To enable them in other operations, rebuild TensorFlow with the appropriate compiler flags.\n",
      "/opt/conda/lib/python3.8/site-packages/keras/optimizer_v2/rmsprop.py:130: UserWarning: The `lr` argument is deprecated, use `learning_rate` instead.\n",
      "  super(RMSprop, self).__init__(name, **kwargs)\n",
      "\n"
     ]
    },
    {
     "name": "stdout",
     "output_type": "stream",
     "text": [
      "100%|██████████| 1/1 [00:16<00:00, 16.44s/trial, best loss: -0.5]\n"
     ]
    }
   ],
   "source": [
    "# define search space\n",
    "from tensorflow.keras.optimizers import Adam, RMSprop, SGD\n",
    "optimizers = [Adam, RMSprop, SGD]\n",
    "space = {'optimizer':hp.choice('optimizer',optimizers),\n",
    "         'lr':hp.lognormal('lr', mu=0.005, sigma=0.001)}\n",
    "\n",
    "# import necessary model and layers\n",
    "from keras.models import Sequential\n",
    "import keras.layers as L\n",
    "\n",
    "# build objective function\n",
    "def objective(params):\n",
    "\n",
    "    # build model\n",
    "    model = Sequential()\n",
    "    model.add(L.Input((32,32,3)))\n",
    "    for i in range(4):\n",
    "        model.add(L.Conv2D(32, (3,3), activation='relu'))\n",
    "    model.add(L.Flatten())\n",
    "    model.add(L.Dense(64, activation='relu'))\n",
    "    model.add(L.Dense(1, activation='sigmoid'))\n",
    "\n",
    "    # compile\n",
    "    optimizer = params['optimizer'](lr=params['lr'])\n",
    "    model.compile(loss='binary_crossentropy',\n",
    "                  optimizer=optimizer,\n",
    "                  metrics=['accuracy'])\n",
    "\n",
    "    # fit\n",
    "    model.fit(x_train, y_train, epochs=1, verbose=0) # increase epochs for better performance\n",
    "\n",
    "    # evaluate accuracy (second elem. w/ .evaluate())\n",
    "    acc = model.evaluate(x_test, y_test, verbose=0)[1]\n",
    "\n",
    "    # return negative of acc such that smaller = better\n",
    "    return -acc\n",
    "\n",
    "# perform search\n",
    "best = fmin(objective, space, algo=tpe.suggest, max_evals=1) # increase evals for better performance"
   ]
  },
  {
   "cell_type": "markdown",
   "id": "e98b937f-37be-4047-908b-f549095a4e16",
   "metadata": {},
   "source": [
    "### **Finding Optimal Model Architecture**"
   ]
  },
  {
   "cell_type": "code",
   "execution_count": 6,
   "id": "1dc3cc05-6a5d-434e-9297-d9589ba42c32",
   "metadata": {},
   "outputs": [
    {
     "name": "stdout",
     "output_type": "stream",
     "text": [
      "100%|██████████| 1/1 [00:29<00:00, 29.29s/trial, best loss: -0.5]\n"
     ]
    }
   ],
   "source": [
    "# specify important parameters for search space\n",
    "min_num_convs = 3\n",
    "max_num_convs = 8\n",
    "min_num_dense = 2\n",
    "max_num_dense = 5\n",
    "\n",
    "# obtain list of dropout rates\n",
    "conv_drs, dense_drs = [], []\n",
    "for layer in range(max_num_convs):\n",
    "    conv_drs.append(hp.normal(f'c{layer}', 0.15, 0.1))\n",
    "for layer in range(max_num_dense):\n",
    "    dense_drs.append(hp.normal(f'd{layer}', 0.2, 0.1))\n",
    "\n",
    "# define search space\n",
    "space = {'#convs':hp.quniform('#convs',\n",
    "                              min_num_convs,\n",
    "                              max_num_convs,\n",
    "                              q=1),\n",
    "         '#dense':hp.quniform('#dense',\n",
    "                              min_num_dense,\n",
    "                              max_num_dense,\n",
    "                              q=1),\n",
    "         'conv_dr':conv_drs,\n",
    "         'dense_dr':dense_drs}\n",
    "\n",
    "# define objective function\n",
    "def objective(params):\n",
    "    \n",
    "    # convert set of params to list for mutability\n",
    "    conv_drs = list(params['conv_dr'])\n",
    "    dense_drs = list(params['dense_dr'])\n",
    "\n",
    "    # make sure dropout rate is 0 <= r < 1\n",
    "    for ind in range(len(conv_drs)):\n",
    "        if conv_drs[ind] > 0.9:\n",
    "            conv_drs[ind] = 0.9\n",
    "        if conv_drs[ind] < 0:\n",
    "            conv_drs[ind] = 0\n",
    "    for ind in range(len(dense_drs)):\n",
    "        if dense_drs[ind] > 0.9:\n",
    "            dense_drs[ind] = 0.9\n",
    "        if dense_drs[ind] < 0:\n",
    "            dense_drs[ind] = 0\n",
    "    \n",
    "    # build model template + input\n",
    "    model = Sequential()\n",
    "    model.add(L.Input((32,32,3))) \n",
    "\n",
    "    # build convolutional component\n",
    "    for ind in range(int(params['#convs'])):\n",
    "\n",
    "        # add convolutional layer\n",
    "        model.add(L.Conv2D(32, (3,3), activation='relu'))\n",
    "\n",
    "        # add corresponding dropout rate\n",
    "        model.add(L.Dropout(conv_drs[ind]))\n",
    "\n",
    "    # add flattening for dense component\n",
    "    model.add(L.Flatten()) \n",
    "    \n",
    "    # build dense component\n",
    "    for ind in range(int(params['#dense'])):\n",
    "\n",
    "        # add dense layer\n",
    "        model.add(L.Dense(32, activation='relu'))\n",
    "\n",
    "        # add corresponding dropout rate\n",
    "        model.add(L.Dropout(dense_drs[ind]))\n",
    "        \n",
    "    # add output\n",
    "    model.add(L.Dense(1, activation='sigmoid'))\n",
    "    \n",
    "    # compile\n",
    "    model.compile(loss='binary_crossentropy',\n",
    "                  optimizer='adam',\n",
    "                  metrics=['accuracy'])\n",
    "\n",
    "    # fit\n",
    "    model.fit(x_train, y_train, epochs=1, verbose=0) # increase epochs for better performance\n",
    "\n",
    "    # evaluate accuracy (second elem. w/ .evaluate())\n",
    "    acc = model.evaluate(x_test, y_test, verbose=0)[1]\n",
    "\n",
    "    # return negative of acc such that smaller = better\n",
    "    return -acc\n",
    "\n",
    "# perform search\n",
    "best = fmin(objective, space, algo=tpe.suggest, max_evals=1) # increase evals for better performance"
   ]
  },
  {
   "cell_type": "markdown",
   "id": "3ddc1a7f-3b61-4f44-8c1e-338ff2936831",
   "metadata": {},
   "source": [
    "## **Auto-Keras**"
   ]
  },
  {
   "cell_type": "markdown",
   "id": "9a1b851d-3351-4395-bdbf-b2fb84a88228",
   "metadata": {},
   "source": [
    "Note that Auto-Keras is quite memory consuming. If you run multiple meta-optimization campaigns in one session, expect for memory problems."
   ]
  },
  {
   "cell_type": "markdown",
   "id": "d6171c12-aca5-4793-9644-6e18ec5b390c",
   "metadata": {},
   "source": [
    "### **Simple Image Block**"
   ]
  },
  {
   "cell_type": "code",
   "execution_count": 7,
   "id": "b00f47c5-f79e-42d5-9d3b-00d9b58a9029",
   "metadata": {},
   "outputs": [
    {
     "name": "stdout",
     "output_type": "stream",
     "text": [
      "INFO:tensorflow:Reloading Oracle from existing project ./auto_model/oracle.json\n",
      "INFO:tensorflow:Reloading Tuner from ./auto_model/tuner0.json\n",
      "INFO:tensorflow:Oracle triggered exit\n",
      "313/313 [==============================] - 510s 2s/step - loss: 0.3806 - accuracy: 0.8641\n"
     ]
    },
    {
     "name": "stderr",
     "output_type": "stream",
     "text": [
      "2022-02-23 00:50:02.869054: W tensorflow/python/util/util.cc:368] Sets are not currently considered sequences, but this may change in the future, so consider avoiding using them.\n"
     ]
    },
    {
     "name": "stdout",
     "output_type": "stream",
     "text": [
      "INFO:tensorflow:Assets written to: ./auto_model/best_model/assets\n"
     ]
    }
   ],
   "source": [
    "# define architecture\n",
    "inp = ak.ImageInput()\n",
    "imageblock = ak.ImageBlock()(inp)\n",
    "output = ak.ClassificationHead()(imageblock)\n",
    "\n",
    "# aggregate into model\n",
    "search = ak.AutoModel(\n",
    "    inputs=inp, outputs=output, max_trials=1 # increase max trials for better performance\n",
    ")\n",
    "\n",
    "# fit\n",
    "search.fit(x_train, y_train, epochs=1) # increase epochs for better performance\n",
    "\n",
    "# export model\n",
    "best_model = search.export_model()"
   ]
  },
  {
   "cell_type": "markdown",
   "id": "7ff57957-69a4-4da8-aa1f-ba4f671d45b4",
   "metadata": {},
   "source": [
    "### **Custom Search Space**"
   ]
  },
  {
   "cell_type": "code",
   "execution_count": 8,
   "id": "7e3495ca-1d20-467f-8f7b-306704e9273d",
   "metadata": {},
   "outputs": [
    {
     "name": "stdout",
     "output_type": "stream",
     "text": [
      "INFO:tensorflow:Reloading Oracle from existing project ./auto_model/oracle.json\n",
      "INFO:tensorflow:Reloading Tuner from ./auto_model/tuner0.json\n",
      "INFO:tensorflow:Oracle triggered exit\n",
      "313/313 [==============================] - 27s 78ms/step - loss: 0.2997 - accuracy: 0.8765\n",
      "INFO:tensorflow:Assets written to: ./auto_model/best_model/assets\n"
     ]
    }
   ],
   "source": [
    "# define architecture\n",
    "inp = ak.ImageInput()\n",
    "aug = ak.ImageAugmentation(translation_factor=0.1,\n",
    "                           vertical_flip=False,\n",
    "                           horizontal_flip=True)(inp)\n",
    "resnetblock = ak.ResNetBlock(pretrained=True,\n",
    "                             version=None)(aug)\n",
    "denseblock = ak.DenseBlock()(resnetblock)\n",
    "output = ak.ClassificationHead()(denseblock)\n",
    "\n",
    "# aggregate into model\n",
    "search = ak.AutoModel(\n",
    "    inputs=inp, outputs=output, max_trials=1 # increase max trials for better performance\n",
    ")\n",
    "\n",
    "# fit\n",
    "search.fit(x_train, y_train, epochs=1) # increase epochs for better performance\n",
    "\n",
    "# export model\n",
    "best_model = search.export_model()"
   ]
  },
  {
   "cell_type": "markdown",
   "id": "56c036f4-4093-4021-b59c-a228cf6eea49",
   "metadata": {},
   "source": [
    "### **Nonlinear Topology**"
   ]
  },
  {
   "cell_type": "code",
   "execution_count": 9,
   "id": "6b05fea8-8e36-4cf1-b543-b76d0d82163d",
   "metadata": {},
   "outputs": [
    {
     "name": "stdout",
     "output_type": "stream",
     "text": [
      "INFO:tensorflow:Reloading Oracle from existing project ./auto_model/oracle.json\n",
      "INFO:tensorflow:Reloading Tuner from ./auto_model/tuner0.json\n",
      "INFO:tensorflow:Oracle triggered exit\n",
      "313/313 [==============================] - 84s 254ms/step - loss: 1.0949 - accuracy: 0.8086\n",
      "INFO:tensorflow:Assets written to: ./auto_model/best_model/assets\n"
     ]
    }
   ],
   "source": [
    "# define architecture\n",
    "inp = ak.ImageInput()\n",
    "resnetblock = ak.ResNetBlock(pretrained=True)(inp)\n",
    "xceptionblock = ak.XceptionBlock(pretrained=True)(inp)\n",
    "merge = ak.Merge()([resnetblock, xceptionblock])\n",
    "denseblock = ak.DenseBlock()(merge)\n",
    "output = ak.ClassificationHead()(denseblock)\n",
    "\n",
    "# aggregate into model\n",
    "search = ak.AutoModel(\n",
    "    inputs=inp, outputs=output, max_trials=1 # increase max trials for better performance\n",
    ")\n",
    "\n",
    "# fit\n",
    "search.fit(x_train, y_train, epochs=1) # increase epochs for better performance\n",
    "\n",
    "# export model\n",
    "best_model = search.export_model()"
   ]
  }
 ],
 "metadata": {
  "kernelspec": {
   "display_name": "Qiskit v0.34.2 (ipykernel)",
   "language": "python",
   "name": "python3"
  },
  "language_info": {
   "codemirror_mode": {
    "name": "ipython",
    "version": 3
   },
   "file_extension": ".py",
   "mimetype": "text/x-python",
   "name": "python",
   "nbconvert_exporter": "python",
   "pygments_lexer": "ipython3",
   "version": "3.8.12"
  },
  "widgets": {
   "application/vnd.jupyter.widget-state+json": {
    "state": {},
    "version_major": 2,
    "version_minor": 0
   }
  }
 },
 "nbformat": 4,
 "nbformat_minor": 5
}
